{
 "cells": [
  {
   "cell_type": "code",
   "execution_count": 17,
   "metadata": {},
   "outputs": [],
   "source": [
    "import pandas as pd\n",
    "import time\n",
    "import matplotlib.pyplot as plt\n",
    "import numpy as np\n",
    "import opendp.prelude as dp\n",
    "dp.enable_features(\"contrib\")\n",
    "dp.enable_features(\"floating-point\")\n",
    "from utilities import *"
   ]
  },
  {
   "cell_type": "markdown",
   "metadata": {},
   "source": [
    "# Define Parameters \n",
    "\n",
    "Choices of Mechanism are \n",
    "\n",
    "1. Laplace Mechanism (central & pure DP) denoted as \"laplace\"\n",
    "2. Stability Histogram (central & approximate DP) denoted as \"stabilityhist\"\n",
    "3. Unary Encoding (LDP) denoted as \"unaryencoding\"\n",
    "4. Randomised Response (LDP) denoted as \"randresponse\"\n",
    "5. Optimised Local Hashing (LDP) denoted as \"olh\"\n",
    "6. RAPPOR (LDP) denoted as \"rappor\"\n",
    "7. Hadamarrd Mechanism (LDP) denoted as \"hadamard\"\n",
    "\n"
   ]
  },
  {
   "cell_type": "code",
   "execution_count": 18,
   "metadata": {},
   "outputs": [],
   "source": [
    "#Level: county or ed\n",
    "level = \"county\"\n",
    "\n",
    "#Mechanism: laplace, stabilityhist, unaryencoding, randresponse, olh, hadamard, rappor\n",
    "#Mechanism = \"laplace\"\n",
    "#Mechanism_name = \"Laplace Mechanism\"\n",
    "\n",
    "Mechanism = \"unaryencoding\"\n",
    "\n",
    "#Path to data\n",
    "path = \"./\"\n",
    "save = True\n",
    "\n",
    "max_influence = 2\n",
    "epsilon = np.arange(0.5,5.5, 0.5)\n",
    "\n"
   ]
  },
  {
   "cell_type": "code",
   "execution_count": 19,
   "metadata": {},
   "outputs": [],
   "source": [
    "if not (level == \"county\" or level == \"ed\"):\n",
    "    raise Exception(f\"The level does not equal county or ed. The currrent input is {level=}\")\n",
    "\n",
    "\n",
    "if not (Mechanism == \"laplace\" or Mechanism == \"stabilityhist\" or Mechanism == \"unaryencoding\"  or Mechanism == \"randresponse\" or Mechanism == \"rappor\"  or Mechanism == \"olh\" or Mechanism == \"hadamard\"): \n",
    "    raise Exception(f\"The Mechanism is not supported or there is a typo with the input. Please check availiable Mechanisms are try again. /n  The current input is {Mechanism=}\")"
   ]
  },
  {
   "cell_type": "code",
   "execution_count": 20,
   "metadata": {},
   "outputs": [],
   "source": [
    "if level == \"county\":\n",
    "    Level = level.capitalize()\n",
    "if level == \"ed\":\n",
    "    Level = level.upper()\n",
    "\n",
    "#Outputs size=number of individuals, categories=list of all possible commutes, data_df = data where each row corresponds to an indidual, commutes = individuals commutes eg. commutes[1] = commute of individual 1 \n",
    "size, categories, col_names, data_df, commutes = get_variables(path, level, Level)\n",
    "\n",
    "if Mechanism == \"stabilityhist\":\n",
    "    delta = 1/(2*size)\n",
    "else:\n",
    "    delta = 0 \n",
    "\n",
    "\n",
    "if Mechanism == \"olh\":\n",
    "    g = np.exp(budget[epsilon][0]) +  1\n",
    "else:\n",
    "    g = 0 \n",
    "\n",
    "\n",
    "budget = [(e, delta) for e in epsilon]"
   ]
  },
  {
   "cell_type": "markdown",
   "metadata": {},
   "source": [
    "## Compute Sensitive Counts"
   ]
  },
  {
   "cell_type": "code",
   "execution_count": 21,
   "metadata": {},
   "outputs": [],
   "source": [
    "with open(f'commute_{level}_level_all.csv') as input_data:\n",
    "    data = input_data.read()\n",
    "    \n",
    "#This is the dataset without differential privacy. \n",
    "histogram = (\n",
    "    dp.t.make_split_dataframe(separator=\",\", col_names=col_names) >>\n",
    "    dp.t.make_select_column(key=f\"{Level}_commute\", TOA=str) >>\n",
    "    # Compute counts for each of the categories\n",
    "    dp.t.then_count_by_categories(categories=categories)\n",
    ")\n",
    "\n",
    "sensitive_counts = histogram(data)"
   ]
  },
  {
   "cell_type": "markdown",
   "metadata": {},
   "source": [
    "## Run Mechanism"
   ]
  },
  {
   "cell_type": "code",
   "execution_count": 22,
   "metadata": {},
   "outputs": [
    {
     "name": "stdout",
     "output_type": "stream",
     "text": [
      "Starting Unary Encoding with an epsilon value of  0\n"
     ]
    },
    {
     "ename": "KeyboardInterrupt",
     "evalue": "",
     "output_type": "error",
     "traceback": [
      "\u001b[0;31m---------------------------------------------------------------------------\u001b[0m",
      "\u001b[0;31mKeyboardInterrupt\u001b[0m                         Traceback (most recent call last)",
      "Input \u001b[0;32mIn [22]\u001b[0m, in \u001b[0;36m<cell line: 1>\u001b[0;34m()\u001b[0m\n\u001b[1;32m      1\u001b[0m \u001b[38;5;28;01mif\u001b[39;00m \u001b[38;5;129;01mnot\u001b[39;00m (Mechanism \u001b[38;5;241m==\u001b[39m \u001b[38;5;124m\"\u001b[39m\u001b[38;5;124mlaplace\u001b[39m\u001b[38;5;124m\"\u001b[39m \u001b[38;5;129;01mor\u001b[39;00m Mechanism \u001b[38;5;241m==\u001b[39m \u001b[38;5;124m\"\u001b[39m\u001b[38;5;124mstabilityhist\u001b[39m\u001b[38;5;124m\"\u001b[39m ):\n\u001b[0;32m----> 2\u001b[0m     released_counts_client, elapsed_time_client \u001b[38;5;241m=\u001b[39m \u001b[43mrun_client\u001b[49m\u001b[43m(\u001b[49m\u001b[43mMechanism\u001b[49m\u001b[43m,\u001b[49m\u001b[43m \u001b[49m\u001b[43mLevel\u001b[49m\u001b[43m,\u001b[49m\u001b[43m \u001b[49m\u001b[43mbudget\u001b[49m\u001b[43m,\u001b[49m\u001b[43m \u001b[49m\u001b[43msize\u001b[49m\u001b[43m,\u001b[49m\u001b[43m \u001b[49m\u001b[43mcategories\u001b[49m\u001b[43m,\u001b[49m\u001b[43m \u001b[49m\u001b[43mcommutes\u001b[49m\u001b[43m,\u001b[49m\u001b[43m \u001b[49m\u001b[43msensitive_counts\u001b[49m\u001b[43m)\u001b[49m\n\u001b[1;32m      3\u001b[0m     released_counts, elapsed_time_server, all_rmse \u001b[38;5;241m=\u001b[39m run_server(Mechanism, Level, released_counts_client, sensitive_counts, size, budget)\n\u001b[1;32m      4\u001b[0m     total_elapsed_time \u001b[38;5;241m=\u001b[39m [\u001b[38;5;28msum\u001b[39m(element) \u001b[38;5;28;01mfor\u001b[39;00m element \u001b[38;5;129;01min\u001b[39;00m \u001b[38;5;28mzip\u001b[39m(elapsed_time_client, elapsed_time_server)]\n",
      "File \u001b[0;32m~/Library/CloudStorage/OneDrive-Personal/Thesis/Code/utilities.py:65\u001b[0m, in \u001b[0;36mrun_client\u001b[0;34m(Mechanism, Level, budget, size, categories, commutes, sensitive_counts)\u001b[0m\n\u001b[1;32m     63\u001b[0m         \u001b[38;5;28;01mraise\u001b[39;00m \u001b[38;5;167;01mException\u001b[39;00m(\u001b[38;5;124m\"\u001b[39m\u001b[38;5;124mUnary Encoding is not suitable for the electoral division level due to compuational complexity\u001b[39m\u001b[38;5;124m\"\u001b[39m)\n\u001b[1;32m     64\u001b[0m     \u001b[38;5;28;01melse\u001b[39;00m:\n\u001b[0;32m---> 65\u001b[0m         released_counts_client, elapsed_time_client \u001b[38;5;241m=\u001b[39m \u001b[43mUnary_Encoding_Client\u001b[49m\u001b[43m(\u001b[49m\u001b[43mbudget\u001b[49m\u001b[43m,\u001b[49m\u001b[43m \u001b[49m\u001b[43msize\u001b[49m\u001b[43m,\u001b[49m\u001b[43m \u001b[49m\u001b[43mcategories\u001b[49m\u001b[43m,\u001b[49m\u001b[43m \u001b[49m\u001b[43mcommutes\u001b[49m\u001b[43m,\u001b[49m\u001b[43m \u001b[49m\u001b[43msensitive_counts\u001b[49m\u001b[43m)\u001b[49m\n\u001b[1;32m     66\u001b[0m \u001b[38;5;28;01mreturn\u001b[39;00m(released_counts_client, elapsed_time_client)\n",
      "File \u001b[0;32m~/Library/CloudStorage/OneDrive-Personal/Thesis/Code/Unary_Encoding.py:130\u001b[0m, in \u001b[0;36mUnary_Encoding_Client\u001b[0;34m(budget, size, categories, commutes, sensitive_counts)\u001b[0m\n\u001b[1;32m    126\u001b[0m             elements_after_index\u001b[38;5;241m.\u001b[39mappend(\u001b[38;5;241m0\u001b[39m)           \n\u001b[1;32m    128\u001b[0m     unaryencoding \u001b[38;5;241m=\u001b[39m np\u001b[38;5;241m.\u001b[39marray(elements_before_index \u001b[38;5;241m+\u001b[39m index_list \u001b[38;5;241m+\u001b[39m elements_after_index)\n\u001b[0;32m--> 130\u001b[0m     released_counts \u001b[38;5;241m+\u001b[39m\u001b[38;5;241m=\u001b[39m unaryencoding\n\u001b[1;32m    131\u001b[0m     \u001b[38;5;66;03m#released_counts = [sum(element) for element in zip(released_counts, unaryencoding)]\u001b[39;00m\n\u001b[1;32m    133\u001b[0m \u001b[38;5;28mprint\u001b[39m(\u001b[38;5;124m\"\u001b[39m\u001b[38;5;124mFinishing Unary Encoding with an epsilon value of \u001b[39m\u001b[38;5;124m\"\u001b[39m, epsilon)\n",
      "\u001b[0;31mKeyboardInterrupt\u001b[0m: "
     ]
    }
   ],
   "source": [
    "if not (Mechanism == \"laplace\" or Mechanism == \"stabilityhist\" ):\n",
    "    released_counts_client, elapsed_time_client = run_client(Mechanism, Level, budget, size, categories, commutes, sensitive_counts, g)\n",
    "    released_counts, elapsed_time_server, all_rmse = run_server(Mechanism, Level, released_counts_client, sensitive_counts, size, budget, categories)\n",
    "    total_elapsed_time = [sum(element) for element in zip(elapsed_time_client, elapsed_time_server)]\n",
    "else: \n",
    "    released_counts, elapsed_time, all_rmse = run_central(Mechanism, col_names, Level, budget, max_influence, size, data, histogram, categories, sensitive_counts)"
   ]
  },
  {
   "cell_type": "markdown",
   "metadata": {},
   "source": [
    "# Save File for Analysis"
   ]
  },
  {
   "cell_type": "code",
   "execution_count": null,
   "metadata": {},
   "outputs": [],
   "source": [
    "private_dataset_df = pd.DataFrame(categories, columns = [f'{Level} Level Commute'])\n",
    "private_dataset_df['True Count'] =  sensitive_counts[:-1]\n",
    "for i, name in enumerate(budget):\n",
    "    private_dataset_df[f'Privacy {name[0]}'] = released_counts[i]\n",
    "\n",
    "if save:\n",
    "    private_dataset_df.to_csv(f'Data/{level}_{Mechanism}_dp_df.csv', sep=',', index=False, encoding='utf-8', mode='w')\n",
    "    names = (\"epsilon, delta, rmse, total_elapsed_time, elapsed_time_client, elapsed_time_server\")\n",
    "    np.savetxt(f'Data/rmse_{Mechanism}_{Level}.csv', [(budget[i][0], budget[i][1], all_rmse[i], total_elapsed_time[i], elapsed_time_client[i], elapsed_time_server[i]) for i in range(len(budget))] , header = names, delimiter=',')\n"
   ]
  },
  {
   "cell_type": "code",
   "execution_count": null,
   "metadata": {},
   "outputs": [],
   "source": [
    "print(\"Commute level counts:\\n\", sensitive_counts[0:10])\n",
    "print(\"DP Commute level counts:\\n\", released_counts[0][0:10])"
   ]
  },
  {
   "cell_type": "code",
   "execution_count": 23,
   "metadata": {},
   "outputs": [],
   "source": [
    "import xxhash\n"
   ]
  },
  {
   "cell_type": "code",
   "execution_count": 56,
   "metadata": {},
   "outputs": [],
   "source": [
    "data=[1,2,3,4,5,5,6,7,8,9,10]"
   ]
  },
  {
   "cell_type": "code",
   "execution_count": 59,
   "metadata": {},
   "outputs": [],
   "source": [
    "index = data\n",
    "seed = 1\n",
    "g = np.exp(budget[5][0]) +  1\n"
   ]
  },
  {
   "cell_type": "code",
   "execution_count": 60,
   "metadata": {},
   "outputs": [],
   "source": [
    "prob_p = 1/2\n",
    "prob_q = 1 / (np.exp(budget[5][0]) +  1)"
   ]
  },
  {
   "cell_type": "code",
   "execution_count": 61,
   "metadata": {},
   "outputs": [],
   "source": [
    "def perturb(seed):\n",
    "    # Taken directly from Wang (https://github.com/vvv214/LDP_Protocols/blob/master/olh.py#L55-L65)\n",
    "    x = (xxhash.xxh32(str(index), seed=seed).intdigest() % g)\n",
    "    y = x\n",
    "    print(x)\n",
    "\n",
    "    p_sample = np.random.random_sample()\n",
    "    # the following two are equivalent\n",
    "    # if p_sample > p:\n",
    "    #     while not y == x:\n",
    "    #         y = np.random.randint(0, g)\n",
    "    if p_sample > prob_p:\n",
    "        # perturb\n",
    "        y = np.random.randint(0, g)\n",
    "\n",
    "    return y"
   ]
  },
  {
   "cell_type": "code",
   "execution_count": 62,
   "metadata": {},
   "outputs": [
    {
     "name": "stdout",
     "output_type": "stream",
     "text": [
      "11.084987039795102\n"
     ]
    }
   ],
   "source": [
    "y = perturb(seed)"
   ]
  },
  {
   "cell_type": "code",
   "execution_count": 63,
   "metadata": {},
   "outputs": [
    {
     "data": {
      "text/plain": [
       "20"
      ]
     },
     "execution_count": 63,
     "metadata": {},
     "output_type": "execute_result"
    }
   ],
   "source": [
    "y"
   ]
  },
  {
   "cell_type": "code",
   "execution_count": null,
   "metadata": {},
   "outputs": [],
   "source": []
  },
  {
   "cell_type": "code",
   "execution_count": null,
   "metadata": {},
   "outputs": [],
   "source": []
  }
 ],
 "metadata": {
  "kernelspec": {
   "display_name": "base",
   "language": "python",
   "name": "python3"
  },
  "language_info": {
   "codemirror_mode": {
    "name": "ipython",
    "version": 3
   },
   "file_extension": ".py",
   "mimetype": "text/x-python",
   "name": "python",
   "nbconvert_exporter": "python",
   "pygments_lexer": "ipython3",
   "version": "3.9.16"
  }
 },
 "nbformat": 4,
 "nbformat_minor": 2
}
