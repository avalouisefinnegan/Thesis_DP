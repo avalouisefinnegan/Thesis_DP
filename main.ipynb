{
 "cells": [
  {
   "cell_type": "code",
   "execution_count": 1,
   "metadata": {},
   "outputs": [
    {
     "name": "stderr",
     "output_type": "stream",
     "text": [
      "/Users/Ava/opt/anaconda3/lib/python3.9/site-packages/pandas/core/computation/expressions.py:21: UserWarning: Pandas requires version '2.8.4' or newer of 'numexpr' (version '2.8.1' currently installed).\n",
      "  from pandas.core.computation.check import NUMEXPR_INSTALLED\n",
      "/Users/Ava/opt/anaconda3/lib/python3.9/site-packages/pandas/core/arrays/masked.py:60: UserWarning: Pandas requires version '1.3.6' or newer of 'bottleneck' (version '1.3.4' currently installed).\n",
      "  from pandas.core import (\n"
     ]
    }
   ],
   "source": [
    "import pandas as pd\n",
    "import time\n",
    "import matplotlib.pyplot as plt\n",
    "import numpy as np\n",
    "import opendp.prelude as dp\n",
    "dp.enable_features(\"contrib\")\n",
    "dp.enable_features(\"floating-point\")\n",
    "from utilities import *"
   ]
  },
  {
   "cell_type": "markdown",
   "metadata": {},
   "source": [
    "# Define Parameters \n",
    "\n",
    "Choices of Mechanism are \n",
    "\n",
    "1. Laplace Mechanism (central & pure DP) denoted as \"laplace\"\n",
    "2. Stability Histogram (central & approximate DP) denoted as \"stabilityhist\"\n",
    "3. Direct Encoding (LDP) denoted as \"directencoding\"\n",
    "4. Randomised Response (LDP) denoted as \"randresponse\"\n",
    "5. Optimised Local Hashing (LDP) denoted as \"olh\"\n",
    "6. RAPPOR (LDP) denoted as \"rappor\"\n",
    "7. Hadamarrd Mechanism (LDP) denoted as \"hadamard\"\n",
    "\n"
   ]
  },
  {
   "cell_type": "code",
   "execution_count": 2,
   "metadata": {},
   "outputs": [],
   "source": [
    "#Level: county or ed\n",
    "level = \"ed\"\n",
    "\n",
    "#Mechanism: laplace, stabilityhist, directencoding, randresponse, olh, hadamard, rappor\n",
    "#Mechanism = \"laplace\"\n",
    "#Mechanism_name = \"Laplace Mechanism\"\n",
    "\n",
    "Mechanism = \"stabilityhist\"\n",
    "#Mechanism Name to use for Plots\n",
    "Mechanism_name = \"Stability Histogram\"\n",
    "\n",
    "#Path to data\n",
    "path = \"/Users/Ava/Library/CloudStorage/OneDrive-Personal/Thesis/Code/\"\n",
    "save = False\n",
    "\n",
    "max_influence = 2\n",
    "epsilon = np.arange(0.5,5.5, 0.5)\n"
   ]
  },
  {
   "cell_type": "code",
   "execution_count": 3,
   "metadata": {},
   "outputs": [],
   "source": [
    "\n",
    "if not (level == \"county\" or level == \"ed\"):\n",
    "    raise Exception(f\"The level does not equal county or ed. The currrent input is {level=}\")\n",
    "\n",
    "\n",
    "\n",
    "if not (Mechanism == \"laplace\" or Mechanism == \"stabilityhist\" or Mechanism == \"directencoding\"  or Mechanism == \"randresponse\" or Mechanism == \"rappor\"  or Mechanism == \"olh\" or Mechanism == \"hadamard\"): \n",
    "    raise Exception(f\"The Mechanism is not supported or there is a typo with the input. Please check availiable Mechanisms are try again. /n  The current input is {Mechanism=}\")"
   ]
  },
  {
   "cell_type": "code",
   "execution_count": 4,
   "metadata": {},
   "outputs": [],
   "source": [
    "if level == \"county\":\n",
    "    Level = level.capitalize()\n",
    "if level == \"ed\":\n",
    "    Level = level.upper()\n",
    "\n",
    "size, categories, col_names = get_variables(path, level, Level)\n",
    "\n",
    "if Mechanism == \"stabilityhist\":\n",
    "    delta = 1/(2*size)\n",
    "else:\n",
    "    delta = 0 \n",
    "\n",
    "budget = [(e, delta) for e in epsilon]\n",
    "\n",
    "with open(f'commute_{level}_level_all.csv') as input_data:\n",
    "    data = input_data.read()"
   ]
  },
  {
   "cell_type": "markdown",
   "metadata": {},
   "source": [
    "## Compute Sensitive Counts"
   ]
  },
  {
   "cell_type": "code",
   "execution_count": 5,
   "metadata": {},
   "outputs": [],
   "source": [
    "#This is the dataset without differential privacy. \n",
    "histogram = (\n",
    "    dp.t.make_split_dataframe(separator=\",\", col_names=col_names) >>\n",
    "    dp.t.make_select_column(key=f\"{Level}_commute\", TOA=str) >>\n",
    "    # Compute counts for each of the categories\n",
    "    dp.t.then_count_by_categories(categories=categories)\n",
    ")\n",
    "\n",
    "sensitive_counts = histogram(data)"
   ]
  },
  {
   "cell_type": "markdown",
   "metadata": {},
   "source": [
    "## Run Mechanism"
   ]
  },
  {
   "cell_type": "code",
   "execution_count": 6,
   "metadata": {},
   "outputs": [
    {
     "name": "stdout",
     "output_type": "stream",
     "text": [
      "Starting Stability Histogram with an epsilon value of  0\n",
      "Finished Stability Histogram with an epsilon value of  0\n",
      "Starting Stability Histogram with an epsilon value of  1\n",
      "Finished Stability Histogram with an epsilon value of  1\n",
      "Starting Stability Histogram with an epsilon value of  2\n"
     ]
    }
   ],
   "source": [
    "released_counts, elapsed_time, all_rmse = run_dp(Mechanism, col_names, Level, budget, max_influence, size, data, histogram, categories, sensitive_counts)\n",
    "\n",
    "locals()[f\"{level}_released_counts_{Mechanism}\"] = released_counts\n",
    "locals()[f\"{level}_elapsed_time_{Mechanism}\"] = elapsed_time\n",
    "locals()[f\"{level}_rmse_{Mechanism}\"] = all_rmse"
   ]
  },
  {
   "cell_type": "markdown",
   "metadata": {},
   "source": [
    "# Save File for Analysis"
   ]
  },
  {
   "cell_type": "code",
   "execution_count": null,
   "metadata": {},
   "outputs": [],
   "source": [
    "private_dataset_df = pd.DataFrame(categories, columns = [f'{Level} Level Commute'])\n",
    "private_dataset_df['True Count'] =  sensitive_counts[:-1]\n",
    "for i, name in enumerate(budget):\n",
    "    private_dataset_df[f'Privacy {name[0]}'] = locals()[f\"{level}_released_counts_{Mechanism}\"][i]\n",
    "\n",
    "if save:\n",
    "    private_dataset_df.to_csv(f'{level}_{Mechanism}_dp_df.csv', sep=',', index=False, encoding='utf-8')\n"
   ]
  },
  {
   "cell_type": "code",
   "execution_count": null,
   "metadata": {},
   "outputs": [],
   "source": [
    "print(\"Commute level counts:\\n\", sensitive_counts[:-1])\n",
    "print(\"DP Commute level counts:\\n\", locals()[f\"{level}_released_counts_{Mechanism}\"][0][:-1])"
   ]
  },
  {
   "cell_type": "code",
   "execution_count": null,
   "metadata": {},
   "outputs": [],
   "source": []
  }
 ],
 "metadata": {
  "kernelspec": {
   "display_name": "base",
   "language": "python",
   "name": "python3"
  },
  "language_info": {
   "codemirror_mode": {
    "name": "ipython",
    "version": 3
   },
   "file_extension": ".py",
   "mimetype": "text/x-python",
   "name": "python",
   "nbconvert_exporter": "python",
   "pygments_lexer": "ipython3",
   "version": "3.9.16"
  }
 },
 "nbformat": 4,
 "nbformat_minor": 2
}
