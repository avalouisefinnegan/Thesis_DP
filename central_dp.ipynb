{
 "cells": [
  {
   "cell_type": "code",
   "execution_count": 1,
   "metadata": {},
   "outputs": [
    {
     "name": "stderr",
     "output_type": "stream",
     "text": [
      "/Users/Ava/opt/anaconda3/lib/python3.9/site-packages/pandas/core/computation/expressions.py:21: UserWarning: Pandas requires version '2.8.4' or newer of 'numexpr' (version '2.8.1' currently installed).\n",
      "  from pandas.core.computation.check import NUMEXPR_INSTALLED\n",
      "/Users/Ava/opt/anaconda3/lib/python3.9/site-packages/pandas/core/arrays/masked.py:60: UserWarning: Pandas requires version '1.3.6' or newer of 'bottleneck' (version '1.3.4' currently installed).\n",
      "  from pandas.core import (\n"
     ]
    }
   ],
   "source": [
    "import pandas as pd\n",
    "import time\n",
    "import matplotlib.pyplot as plt\n",
    "import numpy as np\n",
    "import opendp.prelude as dp\n",
    "dp.enable_features(\"contrib\")"
   ]
  },
  {
   "cell_type": "markdown",
   "metadata": {},
   "source": [
    "# County Level"
   ]
  },
  {
   "cell_type": "code",
   "execution_count": 2,
   "metadata": {},
   "outputs": [],
   "source": [
    "agg_county_data_df = pd.read_csv(\"/Users/Ava/Library/CloudStorage/OneDrive-Personal/Thesis/Code/agg_commute_county_level_all.csv\")\n",
    "county_data_df = pd.read_csv(\"/Users/Ava/Library/CloudStorage/OneDrive-Personal/Thesis/Code/commute_county_level_all.csv\")"
   ]
  },
  {
   "cell_type": "code",
   "execution_count": 3,
   "metadata": {},
   "outputs": [
    {
     "data": {
      "text/plain": [
       "1085"
      ]
     },
     "execution_count": 3,
     "metadata": {},
     "output_type": "execute_result"
    }
   ],
   "source": [
    "county_categories = agg_county_data_df['County_commute'].unique()\n",
    "len(county_categories) # MUST TAKE FROM DATA WHERE CATEGORIES CAN HAVE COUNT 0 ie.not where each individual is row"
   ]
  },
  {
   "cell_type": "code",
   "execution_count": 4,
   "metadata": {},
   "outputs": [],
   "source": [
    "col_names = [\"County_commute\",\"County_Origin\",\"County_Destination\"]\n",
    "size = len(county_data_df) #Number of individuals in dataset\n",
    "county_categories = list(county_categories) #Number of possible categories \n"
   ]
  },
  {
   "cell_type": "code",
   "execution_count": 5,
   "metadata": {},
   "outputs": [],
   "source": [
    "with open('commute_county_level_all.csv') as input_data:\n",
    "    county_data = input_data.read()"
   ]
  },
  {
   "cell_type": "code",
   "execution_count": 6,
   "metadata": {},
   "outputs": [],
   "source": [
    "def plot_histogram(sensitive_counts, released_counts):\n",
    "    \"\"\"Plot a histogram that compares true data against released data\"\"\"\n",
    "    import matplotlib.pyplot as plt\n",
    "    import matplotlib.ticker as ticker\n",
    "\n",
    "    fig = plt.figure()\n",
    "    ax = fig.add_axes([1,1,1,1])\n",
    "    #plt.ylim([0,20000])\n",
    "    \n",
    "    tick_spacing = 1.\n",
    "    ax.xaxis.set_major_locator(ticker.MultipleLocator(tick_spacing))\n",
    "    #plt.xlim(0,1084)\n",
    "    width = .4\n",
    "\n",
    "    ax.bar(list([x+width for x in range(0, len(sensitive_counts))]), sensitive_counts, width=width, label='True Value')\n",
    "    ax.bar(list([x+2*width for x in range(0, len(released_counts))]), released_counts, width=width, label='DP Value')\n",
    "\n",
    "    ax.legend()\n",
    "    plt.xticks([])  \n",
    "    plt.title('Histogram of Commute Counts')\n",
    "    plt.xlabel('Commute')\n",
    "    plt.ylabel('Count')\n",
    "    plt.show()"
   ]
  },
  {
   "cell_type": "code",
   "execution_count": 9,
   "metadata": {},
   "outputs": [],
   "source": [
    "max_influence = 2\n",
    "budget = np.arange(0.5,5.5, 0.5)"
   ]
  },
  {
   "cell_type": "code",
   "execution_count": 10,
   "metadata": {},
   "outputs": [],
   "source": [
    "histogram = (\n",
    "    dp.t.make_split_dataframe(separator=\",\", col_names=col_names) >>\n",
    "    dp.t.make_select_column(key=\"County_commute\", TOA=str) >>\n",
    "    # Compute counts for each of the categories\n",
    "    dp.t.then_count_by_categories(categories=county_categories)\n",
    ")\n",
    "\n",
    "county_sensitive_counts = histogram(county_data)\n",
    "\n",
    "# empty dictionary\n",
    "all_county_released_counts = []\n",
    "all_county_elapsed_time = []\n",
    "\n",
    "\n",
    "for epsilon in budget:\n",
    "    #d_in is the sensistivity \n",
    "    #d_out is the privacy budget ie.epsilon\n",
    "    noisy_histogram = dp.binary_search_chain(\n",
    "        lambda s: histogram >> dp.m.then_laplace(scale=s),\n",
    "        d_in=max_influence, d_out=epsilon)\n",
    "\n",
    "    start_time = time.time()\n",
    "    released_counts = noisy_histogram(county_data)\n",
    "    end_time = time.time()\n",
    "\n",
    "    elapsed_time = end_time - start_time\n",
    "    all_county_elapsed_time.append(elapsed_time)\n",
    "\n",
    "    # Post-processing to ensure non-negative counts\n",
    "    released_counts = [max(count, 0) for count in released_counts]\n",
    "    all_county_released_counts.append(released_counts)\n",
    "\n"
   ]
  },
  {
   "cell_type": "code",
   "execution_count": 11,
   "metadata": {},
   "outputs": [
    {
     "name": "stdout",
     "output_type": "stream",
     "text": [
      "Educational level counts:\n",
      " [19174, 962, 548, 132, 290, 1251, 1512, 984, 28, 12, 958, 1054, 40, 39, 9, 76, 248, 46, 12, 9, 8, 1978, 6, 1626, 52, 14, 13, 17, 3, 28, 3, 8, 6, 1, 0, 92, 218860, 15302, 22668, 19235, 3056, 41, 71, 1141, 60, 50, 796, 113, 108, 31, 140, 58, 139, 47, 32, 34, 17955, 177, 6548, 62, 369, 53, 142, 26, 518, 35, 31, 32, 33, 8, 84, 44145, 80723, 5199, 12769, 4526, 36, 57, 563, 30, 35, 818, 49, 73, 25, 67, 41, 68, 26, 18, 26, 10631, 61, 2914, 72, 125, 20, 127, 9, 172, 18, 23, 27, 16, 9, 54, 56998, 5941, 91167, 4872, 2236, 22, 29, 3470, 36, 35, 273, 47, 82, 18, 95, 43, 72, 33, 38, 59, 10995, 124, 4410, 36, 1025, 39, 124, 10, 220, 17, 32, 27, 16, 1, 45, 41779, 6154, 2150, 66937, 974, 25, 28, 233, 17, 58, 2979, 54, 62, 12, 72, 25, 84, 26, 15, 16, 6420, 69, 4835, 25, 93, 12, 62, 8, 240, 15, 9, 10, 10, 3, 1701, 18313, 11759, 3645, 3572, 80682, 320, 906, 1285, 973, 57, 1293, 71, 111, 30, 203, 135, 185, 37, 17, 30, 8673, 60, 4465, 120, 87, 21, 336, 27, 176, 34, 37, 41, 27, 4, 1639, 1102, 332, 113, 377, 538, 35730, 569, 51, 37, 1389, 50, 269, 208, 32, 342, 6157, 70, 14, 34, 5, 3943, 15, 3605, 1411, 13, 5, 37, 2, 59, 16, 21, 3, 16, 3, 2955, 2103, 1041, 292, 496, 3857, 1217, 26068, 64, 2058, 44, 123, 98, 110, 27, 356, 178, 178, 27, 14, 7, 3135, 20, 2349, 724, 12, 6, 214, 21, 58, 23, 12, 35, 5, 1, 8, 542, 122, 72, 137, 199, 1, 8, 73, 101, 2, 7, 14, 30, 13, 37, 5, 169, 41, 28, 403, 1450, 16, 1070, 10, 17, 24, 1722, 432, 15, 8, 97, 14496, 10, 192, 35, 4681, 517, 2727, 651, 524, 12, 9, 3359, 7, 20, 26, 30, 29, 9, 41, 19, 79, 12, 14, 160, 4421, 926, 2043, 13, 51461, 842, 65, 0, 91, 3, 17, 15, 16, 2, 65, 16490, 3151, 11321, 1941, 4087, 29, 30, 60233, 222, 22, 101, 48, 60, 28, 87, 39, 136, 48, 17, 1273, 8560, 117, 4620, 59, 6283, 278, 1044, 13, 153, 15, 61, 59, 29, 3, 121, 1394, 529, 232, 295, 2025, 80, 1512, 208, 25898, 10, 19, 47, 29, 17, 383, 91, 323, 199, 9, 43, 2936, 20, 2318, 1333, 16, 16, 3042, 164, 39, 31, 23, 68, 3, 6, 36, 2121, 651, 476, 415, 1321, 17, 99, 1431, 1422, 7, 23, 17, 23, 10, 119, 22, 411, 222, 25, 170, 3222, 31, 2181, 52, 74, 26, 33155, 834, 52, 13, 97, 913, 7, 16, 819, 2040, 424, 276, 1369, 426, 826, 59, 37, 13, 59950, 3083, 142, 80, 28, 227, 2055, 59, 13, 15, 5, 5905, 12, 5041, 95, 24, 9, 41, 1, 98, 7, 16, 2, 7, 1, 965, 10188, 3207, 864, 11839, 1786, 117, 49, 92, 8, 833, 43470, 47, 46, 20, 69, 152, 88, 16, 10, 18, 5535, 37, 4067, 30, 58, 11, 52, 1, 122, 9, 17, 3, 11, 2, 20, 444, 92, 124, 153, 86, 9, 18, 14, 21, 6, 20, 232, 199, 103, 11679, 42, 1042, 705, 35, 9, 4260, 17, 3912, 386, 14, 2, 89, 7, 95, 44958, 28, 3, 18, 2, 9, 294, 64, 99, 72, 38, 16, 4, 12, 2, 7, 9, 46011, 13898, 45, 215, 82, 23, 19, 7, 4, 3477, 9, 1425, 54, 10, 1, 16, 1, 113, 17, 7, 3, 3, 1, 64, 1200, 301, 279, 414, 390, 107, 37, 55, 26, 43, 69, 58794, 156717, 1233, 3171, 1055, 168, 33, 30, 43, 16130, 46, 13869, 644, 67, 14, 92, 9, 345, 150, 33, 11, 20, 9, 19, 432, 69, 62, 136, 90, 12, 4, 13, 10, 6, 10, 1434, 2075, 60963, 2414, 51, 167, 26, 18, 5, 5695, 17, 5308, 58, 8, 3, 28, 3, 91, 91, 22, 6, 3, 1, 25, 674, 152, 154, 239, 136, 38, 28, 24, 32, 22, 38, 773, 2663, 1170, 85643, 110, 323, 118, 28, 8, 6736, 17, 4620, 1729, 16, 7, 55, 9, 115, 3816, 17, 10, 46, 3, 142, 897, 245, 128, 349, 286, 1780, 446, 49, 1016, 53, 31, 987, 1075, 84, 6803, 2521, 264, 254, 17, 11, 6152, 23, 5912, 58770, 11, 9, 153, 27, 66, 996, 30, 5, 11, 0, 113, 566, 116, 66, 230, 112, 1875, 20, 56, 11, 487, 25, 999, 1680, 26, 361, 48982, 64, 21, 10, 3, 3670, 14, 3099, 2100, 20, 4, 24, 2, 75, 15, 12, 0, 8, 0, 9, 343, 54, 41, 97, 50, 8, 2, 10, 18, 3, 8, 43, 20, 12, 207, 8, 34520, 5566, 138, 4, 2339, 10, 1139, 19, 6, 0, 129, 38, 72, 130, 33, 9, 15, 2, 18, 805, 200, 140, 256, 179, 24, 22, 47, 437, 11, 29, 100, 90, 41, 989, 39, 24555, 59489, 1234, 21, 7538, 37, 5962, 273, 34, 9, 1161, 1266, 110, 690, 191, 63, 42, 17, 12, 343, 57, 42, 93, 89, 4, 3, 19, 12, 2, 6, 35, 14, 9, 45, 5, 134, 31, 52, 544, 1367, 148, 1038, 10, 15, 32, 145, 567, 19, 3, 2022, 663, 643, 9298, 25, 719, 139, 76, 267, 150, 8, 10, 19, 24, 2, 20, 42, 35, 21, 405, 15, 2291, 1668, 54239, 17, 5216, 27, 3791, 25, 19, 21, 153, 595, 89, 32, 1356, 30, 80, 35, 24, 670, 118, 111, 179, 188, 9, 12, 39, 268, 4, 13, 26, 18, 17, 139, 8, 809, 1422, 844, 47, 2678, 28, 2155, 41, 15, 6, 4730, 17948, 34, 9, 899, 1147, 36, 1428, 5, 393, 64, 55, 163, 112, 3, 3, 12, 3, 2, 7, 26, 22, 10, 92, 6, 366, 87, 1357, 35, 2381, 39, 1763, 13, 13, 13, 57, 643, 37, 12, 27711, 48, 447, 476, 23, 1407, 237, 516, 266, 289, 8, 2, 2530, 15, 6, 12, 15, 21, 5, 43, 14, 139, 19, 22, 28366, 3031, 493, 2350, 24, 504, 1371, 373, 36, 38, 3, 187, 544, 59, 422, 9, 757, 80, 69, 232, 205, 3, 5, 53, 6, 7, 11, 21, 36, 26, 78, 14, 488, 49, 40, 52, 5781, 5608, 3797, 20, 29, 33, 65, 14, 153, 11, 800, 8, 65544, 166, 16, 887, 68, 203, 216, 162, 21, 3, 324, 7, 38, 8, 8, 8, 6, 36, 14, 96, 5, 12, 1506, 2418, 1112, 1957, 6, 2080, 24074, 38, 2, 38, 2, 81, 11, 87, 4]\n",
      "DP Educational level counts:\n",
      " [19180, 960, 553, 139, 283, 1252, 1511, 985, 37, 12, 956, 1042, 37, 38, 10, 74, 247, 51, 12, 0, 6, 1983, 2, 1625, 50, 14, 13, 15, 8, 31, 0, 10, 10, 5, 0, 95, 218861, 15300, 22672, 19239, 3059, 63, 68, 1150, 59, 50, 801, 107, 111, 33, 141, 60, 138, 48, 28, 34, 17956, 172, 6550, 57, 364, 52, 138, 19, 507, 38, 27, 37, 21, 1, 84, 44141, 80751, 5199, 12769, 4514, 37, 53, 569, 13, 33, 821, 53, 72, 29, 70, 56, 66, 19, 29, 25, 10631, 60, 2917, 67, 128, 16, 125, 19, 173, 14, 28, 18, 11, 10, 56, 56978, 5929, 91175, 4872, 2225, 27, 35, 3471, 31, 40, 257, 48, 73, 24, 94, 44, 74, 33, 45, 57, 11002, 128, 4407, 18, 1025, 43, 124, 10, 220, 18, 35, 31, 16, 1, 34, 41781, 6150, 2158, 66923, 976, 28, 28, 232, 22, 63, 2964, 43, 52, 7, 72, 23, 91, 28, 16, 10, 6420, 72, 4839, 27, 94, 13, 65, 8, 238, 11, 16, 8, 13, 4, 1703, 18311, 11756, 3643, 3579, 80686, 308, 907, 1277, 971, 89, 1283, 66, 112, 28, 202, 130, 173, 39, 18, 27, 8674, 45, 4460, 121, 83, 19, 333, 23, 178, 40, 36, 53, 30, 14, 1641, 1097, 336, 96, 376, 539, 35725, 567, 59, 36, 1384, 53, 268, 211, 32, 346, 6157, 74, 21, 21, 8, 3948, 20, 3605, 1406, 13, 4, 42, 0, 62, 7, 21, 3, 14, 0, 2956, 2105, 1038, 312, 491, 3857, 1229, 26065, 48, 2053, 42, 100, 97, 111, 26, 356, 187, 186, 17, 11, 11, 3134, 21, 2350, 724, 10, 7, 208, 23, 70, 36, 0, 37, 6, 9, 8, 540, 112, 84, 135, 207, 2, 7, 75, 98, 2, 5, 15, 30, 11, 37, 6, 170, 43, 32, 410, 1454, 20, 1067, 10, 19, 27, 1722, 431, 15, 6, 92, 14493, 9, 186, 41, 4683, 524, 2730, 652, 523, 11, 5, 3360, 8, 19, 27, 30, 36, 0, 39, 21, 78, 10, 8, 163, 4427, 917, 2046, 9, 51453, 855, 64, 0, 90, 8, 15, 12, 17, 0, 63, 16478, 3148, 11321, 1936, 4072, 29, 22, 60235, 220, 29, 103, 45, 59, 30, 89, 40, 149, 48, 19, 1268, 8558, 118, 4628, 49, 6283, 277, 1045, 12, 158, 18, 58, 56, 24, 0, 122, 1394, 535, 237, 293, 2015, 82, 1511, 209, 25900, 8, 21, 65, 26, 17, 385, 86, 323, 199, 9, 44, 2939, 20, 2313, 1335, 17, 15, 3037, 147, 39, 35, 31, 83, 4, 6, 37, 2123, 651, 475, 410, 1326, 21, 101, 1427, 1423, 8, 14, 17, 25, 19, 115, 41, 408, 227, 26, 170, 3222, 28, 2180, 53, 74, 26, 33156, 837, 51, 16, 97, 904, 0, 15, 820, 2038, 433, 281, 1366, 434, 827, 59, 36, 24, 59947, 3083, 140, 87, 31, 236, 2057, 63, 13, 17, 2, 5907, 0, 5040, 100, 25, 14, 43, 0, 98, 8, 17, 14, 4, 2, 964, 10180, 3206, 866, 11836, 1787, 124, 58, 88, 10, 832, 43472, 51, 45, 22, 73, 152, 81, 0, 10, 17, 5539, 42, 4077, 30, 58, 9, 55, 1, 126, 3, 7, 0, 12, 0, 24, 459, 87, 128, 147, 80, 9, 18, 8, 18, 0, 14, 232, 199, 109, 11680, 33, 1047, 715, 46, 6, 4265, 21, 3913, 383, 11, 1, 87, 8, 96, 44958, 31, 18, 18, 5, 6, 293, 71, 91, 62, 60, 16, 0, 3, 1, 10, 11, 46013, 13904, 43, 214, 70, 10, 5, 1, 6, 3476, 9, 1427, 56, 20, 1, 10, 0, 109, 16, 17, 0, 1, 5, 65, 1204, 299, 276, 403, 390, 100, 38, 61, 18, 47, 70, 58788, 156705, 1240, 3175, 1050, 163, 43, 31, 43, 16129, 45, 13877, 648, 73, 7, 94, 20, 344, 150, 30, 22, 13, 8, 23, 432, 65, 62, 145, 88, 9, 8, 22, 10, 10, 9, 1431, 2077, 60968, 2405, 51, 171, 19, 15, 14, 5695, 10, 5308, 51, 11, 6, 31, 6, 91, 84, 19, 8, 8, 0, 24, 666, 158, 148, 241, 133, 27, 29, 26, 35, 35, 39, 772, 2663, 1168, 85643, 99, 323, 115, 29, 9, 6737, 14, 4619, 1729, 0, 8, 56, 16, 125, 3815, 24, 0, 42, 3, 145, 891, 245, 130, 352, 278, 1787, 434, 56, 1007, 53, 24, 987, 1069, 75, 6805, 2532, 260, 248, 18, 11, 6140, 34, 5914, 58776, 16, 8, 148, 37, 73, 1008, 33, 8, 16, 0, 113, 570, 116, 78, 229, 110, 1876, 25, 51, 10, 475, 27, 1006, 1673, 19, 366, 48977, 48, 7, 8, 5, 3674, 17, 3104, 2108, 13, 3, 19, 7, 82, 11, 3, 0, 8, 0, 17, 345, 63, 41, 100, 50, 8, 0, 6, 22, 10, 6, 42, 16, 22, 207, 5, 34521, 5566, 132, 2, 2315, 2, 1150, 19, 10, 0, 125, 36, 72, 135, 32, 9, 9, 3, 24, 804, 201, 144, 252, 181, 30, 22, 46, 433, 7, 35, 107, 90, 34, 996, 44, 24554, 59483, 1217, 37, 7542, 35, 5974, 277, 28, 18, 1166, 1275, 111, 683, 197, 64, 44, 15, 8, 341, 64, 46, 95, 93, 4, 3, 19, 9, 4, 9, 31, 6, 5, 37, 9, 126, 30, 53, 543, 1370, 156, 1045, 5, 10, 33, 141, 566, 5, 0, 2020, 661, 639, 9296, 25, 716, 136, 78, 265, 142, 6, 11, 10, 29, 4, 22, 42, 40, 16, 411, 15, 2291, 1673, 54231, 16, 5216, 32, 3789, 26, 17, 18, 150, 594, 88, 37, 1356, 27, 68, 36, 24, 667, 121, 106, 154, 185, 9, 11, 48, 251, 5, 8, 22, 15, 19, 157, 17, 810, 1439, 843, 52, 2676, 23, 2153, 47, 6, 10, 4731, 17948, 34, 7, 898, 1139, 31, 1421, 8, 393, 66, 58, 161, 115, 4, 0, 15, 0, 8, 0, 21, 21, 10, 89, 3, 367, 60, 1352, 37, 2390, 41, 1751, 10, 19, 11, 75, 642, 43, 11, 27713, 58, 439, 474, 23, 1408, 238, 515, 271, 290, 2, 6, 2526, 30, 6, 15, 20, 19, 3, 40, 20, 134, 18, 21, 28370, 3039, 502, 2352, 27, 498, 1357, 371, 43, 38, 13, 186, 538, 64, 406, 6, 754, 83, 68, 224, 200, 4, 9, 50, 8, 5, 0, 27, 37, 16, 70, 13, 488, 51, 40, 56, 5778, 5610, 3788, 21, 33, 24, 63, 11, 155, 7, 806, 8, 65541, 169, 8, 887, 68, 200, 215, 164, 21, 4, 326, 0, 38, 8, 2, 0, 7, 37, 12, 79, 5, 14, 1506, 2412, 1122, 1955, 8, 2081, 24073, 36, 2, 38, 0, 81, 14, 88, 7]\n",
      "DP estimate for the number of records that were not a member of the category set: 0\n"
     ]
    }
   ],
   "source": [
    "print(\"Educational level counts:\\n\", county_sensitive_counts[:-1])\n",
    "print(\"DP Educational level counts:\\n\", all_county_released_counts[0][:-1])\n",
    "\n",
    "print(\"DP estimate for the number of records that were not a member of the category set:\", released_counts[-1])"
   ]
  },
  {
   "cell_type": "code",
   "execution_count": 12,
   "metadata": {},
   "outputs": [
    {
     "data": {
      "image/png": "[encoded data removed]",
      "text/plain": [
       "<Figure size 432x288 with 1 Axes>"
      ]
     },
     "metadata": {
      "needs_background": "light"
     },
     "output_type": "display_data"
    }
   ],
   "source": [
    "plot_histogram(county_sensitive_counts[1:30], all_county_released_counts[0][1:30])\n"
   ]
  },
  {
   "cell_type": "code",
   "execution_count": 13,
   "metadata": {},
   "outputs": [],
   "source": [
    "def calculate_rmse(predicted_values, actual_values):    \n",
    "    # Calculate the squared differences\n",
    "    squared_diffs = np.square(np.array(predicted_values) - np.array(actual_values))\n",
    "    \n",
    "    # Calculate the mean of squared differences\n",
    "    mean_squared_diff = np.mean(squared_diffs)\n",
    "    \n",
    "    # Take the square root to get RMSE\n",
    "    rmse = np.sqrt(mean_squared_diff)\n",
    "    \n",
    "    return rmse\n"
   ]
  },
  {
   "cell_type": "code",
   "execution_count": 14,
   "metadata": {},
   "outputs": [],
   "source": [
    "all_county_rmse  =[]\n",
    "for released_count in range(len(budget)):\n",
    "    rmse = calculate_rmse(all_county_released_counts[released_count], county_sensitive_counts)\n",
    "    all_county_rmse.append(rmse)\n"
   ]
  },
  {
   "cell_type": "code",
   "execution_count": 15,
   "metadata": {},
   "outputs": [
    {
     "data": {
      "text/plain": [
       "array([0.5, 1. , 1.5, 2. , 2.5, 3. , 3.5, 4. , 4.5, 5. ])"
      ]
     },
     "execution_count": 15,
     "metadata": {},
     "output_type": "execute_result"
    }
   ],
   "source": [
    "all_county_rmse\n",
    "budget"
   ]
  },
  {
   "cell_type": "code",
   "execution_count": 16,
   "metadata": {},
   "outputs": [
    {
     "data": {
      "text/plain": [
       "Text(0.5, 1.0, 'Laplace Mechanism for County Level Commute')"
      ]
     },
     "execution_count": 16,
     "metadata": {},
     "output_type": "execute_result"
    },
    {
     "data": {
      "image/png": "[encoded data removed]",
      "text/plain": [
       "<Figure size 432x288 with 1 Axes>"
      ]
     },
     "metadata": {
      "needs_background": "light"
     },
     "output_type": "display_data"
    }
   ],
   "source": [
    "plt.plot(budget, all_county_rmse, 'bo')\n",
    "plt.plot(budget, all_county_rmse, 'b--')\n",
    "plt.xlabel('Epsilon')\n",
    "plt.ylabel('RMSE')  \n",
    "plt.title('Laplace Mechanism for County Level Commute')"
   ]
  },
  {
   "cell_type": "markdown",
   "metadata": {},
   "source": [
    "# ED Level"
   ]
  },
  {
   "cell_type": "code",
   "execution_count": 17,
   "metadata": {},
   "outputs": [],
   "source": [
    "agg_ed_data_df = pd.read_csv(\"/Users/Ava/Library/CloudStorage/OneDrive-Personal/Thesis/Code/agg_commute_ed_level_all.csv\")\n",
    "ed_data_df = pd.read_csv(\"/Users/Ava/Library/CloudStorage/OneDrive-Personal/Thesis/Code/commute_ed_level_all.csv\")"
   ]
  },
  {
   "cell_type": "code",
   "execution_count": 18,
   "metadata": {},
   "outputs": [
    {
     "data": {
      "text/plain": [
       "8699658"
      ]
     },
     "execution_count": 18,
     "metadata": {},
     "output_type": "execute_result"
    }
   ],
   "source": [
    "ed_categories = agg_ed_data_df['ED_Commute'].unique()\n",
    "len(ed_categories) # MUST TAKE FROM DATA WHERE CATEGORIES CAN HAVE COUNT 0 ie.not where each individual is row"
   ]
  },
  {
   "cell_type": "code",
   "execution_count": 19,
   "metadata": {},
   "outputs": [],
   "source": [
    "col_names = [\"ED_commute\",\"ED_Origin\",\"ED_Destination\"]\n",
    "size = len(ed_data_df) #Number of individuals in dataset\n",
    "ed_categories = list(ed_categories) #Number of possible categories "
   ]
  },
  {
   "cell_type": "code",
   "execution_count": 22,
   "metadata": {},
   "outputs": [],
   "source": [
    "with open('commute_ed_level_all.csv') as input_data:\n",
    "    ed_data = input_data.read()"
   ]
  },
  {
   "cell_type": "code",
   "execution_count": 25,
   "metadata": {},
   "outputs": [],
   "source": [
    "histogram = (\n",
    "    dp.t.make_split_dataframe(separator=\",\", col_names=col_names) >>\n",
    "    dp.t.make_select_column(key=\"ED_commute\", TOA=str) >>\n",
    "    # Compute counts for each of the categories\n",
    "    dp.t.then_count_by_categories(categories=ed_categories)\n",
    ")\n",
    "\n",
    "ed_sensitive_counts = histogram(ed_data)\n",
    "\n",
    "# empty dictionary\n",
    "all_ed_released_counts = []\n",
    "all_ed_elapsed_time = []\n",
    "\n",
    "\n",
    "for epsilon in budget:\n",
    "    #d_in is the sensistivity \n",
    "    #d_out is the privacy budget ie.epsilon\n",
    "    noisy_histogram = dp.binary_search_chain(\n",
    "        lambda s: histogram >> dp.m.then_laplace(scale=s),\n",
    "        d_in=max_influence, d_out=epsilon)\n",
    "\n",
    "    start_time = time.time()\n",
    "    released_counts = noisy_histogram(ed_data)\n",
    "    end_time = time.time()\n",
    "\n",
    "    elapsed_time = end_time - start_time\n",
    "    all_ed_elapsed_time.append(elapsed_time)\n",
    "\n",
    "    # Post-processing to ensure non-negative counts\n",
    "    released_counts = [max(count, 0) for count in released_counts]\n",
    "    all_ed_released_counts.append(released_counts)"
   ]
  },
  {
   "cell_type": "code",
   "execution_count": null,
   "metadata": {},
   "outputs": [],
   "source": [
    "all_ed_rmse  =[]\n",
    "for released_count in range(len(budget)):\n",
    "    rmse = calculate_rmse(all_ed_released_counts[released_count], ed_sensitive_counts)\n",
    "    all_ed_rmse.append(rmse)\n"
   ]
  },
  {
   "cell_type": "code",
   "execution_count": null,
   "metadata": {},
   "outputs": [],
   "source": [
    "plt.plot(budget, all_ed_rmse, 'bo')\n",
    "plt.plot(budget, all_ed_rmse, 'b--')\n",
    "plt.xlabel('Epsilon')\n",
    "plt.ylabel('RMSE')  \n",
    "plt.title('Laplace Mechanism for Electoral Division Level Commute')"
   ]
  },
  {
   "cell_type": "code",
   "execution_count": null,
   "metadata": {},
   "outputs": [],
   "source": []
  },
  {
   "cell_type": "code",
   "execution_count": null,
   "metadata": {},
   "outputs": [],
   "source": []
  }
 ],
 "metadata": {
  "kernelspec": {
   "display_name": "Python 3",
   "language": "python",
   "name": "python3"
  },
  "language_info": {
   "codemirror_mode": {
    "name": "ipython",
    "version": 3
   },
   "file_extension": ".py",
   "mimetype": "text/x-python",
   "name": "python",
   "nbconvert_exporter": "python",
   "pygments_lexer": "ipython3",
   "version": "3.9.16"
  }
 },
 "nbformat": 4,
 "nbformat_minor": 2
}
