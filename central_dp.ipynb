{
 "cells": [
  {
   "cell_type": "code",
   "execution_count": 1,
   "metadata": {},
   "outputs": [
    {
     "name": "stderr",
     "output_type": "stream",
     "text": [
      "/Users/Ava/opt/anaconda3/lib/python3.9/site-packages/pandas/core/computation/expressions.py:21: UserWarning: Pandas requires version '2.8.4' or newer of 'numexpr' (version '2.8.1' currently installed).\n",
      "  from pandas.core.computation.check import NUMEXPR_INSTALLED\n",
      "/Users/Ava/opt/anaconda3/lib/python3.9/site-packages/pandas/core/arrays/masked.py:60: UserWarning: Pandas requires version '1.3.6' or newer of 'bottleneck' (version '1.3.4' currently installed).\n",
      "  from pandas.core import (\n"
     ]
    }
   ],
   "source": [
    "import pandas as pd\n",
    "import time\n",
    "import matplotlib.pyplot as plt\n",
    "import numpy as np\n",
    "import opendp.prelude as dp\n",
    "dp.enable_features(\"contrib\")"
   ]
  },
  {
   "cell_type": "markdown",
   "metadata": {},
   "source": [
    "# County Level"
   ]
  },
  {
   "cell_type": "code",
   "execution_count": 2,
   "metadata": {},
   "outputs": [],
   "source": [
    "agg_county_data_df = pd.read_csv(\"/Users/Ava/Library/CloudStorage/OneDrive-Personal/Thesis/Code/agg_commute_county_level_all.csv\")\n",
    "county_data_df = pd.read_csv(\"/Users/Ava/Library/CloudStorage/OneDrive-Personal/Thesis/Code/commute_county_level_all.csv\")"
   ]
  },
  {
   "cell_type": "code",
   "execution_count": 3,
   "metadata": {},
   "outputs": [
    {
     "data": {
      "text/plain": [
       "1085"
      ]
     },
     "execution_count": 3,
     "metadata": {},
     "output_type": "execute_result"
    }
   ],
   "source": [
    "county_categories = agg_county_data_df['County_commute'].unique()\n",
    "len(county_categories) # MUST TAKE FROM DATA WHERE CATEGORIES CAN HAVE COUNT 0 ie.not where each individual is row"
   ]
  },
  {
   "cell_type": "code",
   "execution_count": 4,
   "metadata": {},
   "outputs": [],
   "source": [
    "col_names = [\"County_commute\",\"County_Origin\",\"County_Destination\"]\n",
    "size = len(county_data_df) #Number of individuals in dataset\n",
    "county_categories = list(county_categories) #Number of possible categories \n"
   ]
  },
  {
   "cell_type": "code",
   "execution_count": 5,
   "metadata": {},
   "outputs": [],
   "source": [
    "with open('commute_county_level_all.csv') as input_data:\n",
    "    county_data = input_data.read()"
   ]
  },
  {
   "cell_type": "code",
   "execution_count": 6,
   "metadata": {},
   "outputs": [],
   "source": [
    "def plot_histogram(sensitive_counts, released_counts):\n",
    "    \"\"\"Plot a histogram that compares true data against released data\"\"\"\n",
    "    import matplotlib.pyplot as plt\n",
    "    import matplotlib.ticker as ticker\n",
    "\n",
    "    fig = plt.figure()\n",
    "    ax = fig.add_axes([1,1,1,1])\n",
    "    #plt.ylim([0,20000])\n",
    "    \n",
    "    tick_spacing = 1.\n",
    "    ax.xaxis.set_major_locator(ticker.MultipleLocator(tick_spacing))\n",
    "    #plt.xlim(0,1084)\n",
    "    width = .4\n",
    "\n",
    "    ax.bar(list([x+width for x in range(0, len(sensitive_counts))]), sensitive_counts, width=width, label='True Value')\n",
    "    ax.bar(list([x+2*width for x in range(0, len(released_counts))]), released_counts, width=width, label='DP Value')\n",
    "\n",
    "    ax.legend()\n",
    "    plt.xticks([])  \n",
    "    plt.title('Histogram of Counts after Laplace Mechanism for County Level Commute')\n",
    "    plt.xlabel('Commute')\n",
    "    plt.ylabel('Count')\n",
    "    plt.show()"
   ]
  },
  {
   "cell_type": "code",
   "execution_count": 7,
   "metadata": {},
   "outputs": [],
   "source": [
    "max_influence = 2\n",
    "budget = np.arange(0.5,5.5, 0.5)"
   ]
  },
  {
   "cell_type": "code",
   "execution_count": 8,
   "metadata": {},
   "outputs": [],
   "source": [
    "histogram = (\n",
    "    dp.t.make_split_dataframe(separator=\",\", col_names=col_names) >>\n",
    "    dp.t.make_select_column(key=\"County_commute\", TOA=str) >>\n",
    "    # Compute counts for each of the categories\n",
    "    dp.t.then_count_by_categories(categories=county_categories)\n",
    ")\n",
    "\n",
    "county_sensitive_counts = histogram(county_data)\n",
    "\n",
    "# empty dictionary\n",
    "all_county_released_counts = []\n",
    "all_county_elapsed_time = []\n",
    "\n",
    "\n",
    "for epsilon in budget:\n",
    "    #d_in is the sensistivity \n",
    "    #d_out is the privacy budget ie.epsilon\n",
    "    noisy_histogram = dp.binary_search_chain(\n",
    "        lambda s: histogram >> dp.m.then_laplace(scale=s),\n",
    "        d_in=max_influence, d_out=epsilon)\n",
    "\n",
    "    start_time = time.time()\n",
    "    released_counts = noisy_histogram(county_data)\n",
    "    end_time = time.time()\n",
    "\n",
    "    elapsed_time = end_time - start_time\n",
    "    all_county_elapsed_time.append(elapsed_time)\n",
    "\n",
    "    # Post-processing to ensure non-negative counts\n",
    "    released_counts = [max(count, 0) for count in released_counts]\n",
    "    all_county_released_counts.append(released_counts)\n",
    "\n"
   ]
  },
  {
   "cell_type": "code",
   "execution_count": 9,
   "metadata": {},
   "outputs": [
    {
     "name": "stdout",
     "output_type": "stream",
     "text": [
      "Educational level counts:\n",
      " [19174, 962, 548, 132, 290, 1251, 1512, 984, 28, 12, 958, 1054, 40, 39, 9, 76, 248, 46, 12, 9, 8, 1978, 6, 1626, 52, 14, 13, 17, 3, 28, 3, 8, 6, 1, 0, 92, 218860, 15302, 22668, 19235, 3056, 41, 71, 1141, 60, 50, 796, 113, 108, 31, 140, 58, 139, 47, 32, 34, 17955, 177, 6548, 62, 369, 53, 142, 26, 518, 35, 31, 32, 33, 8, 84, 44145, 80723, 5199, 12769, 4526, 36, 57, 563, 30, 35, 818, 49, 73, 25, 67, 41, 68, 26, 18, 26, 10631, 61, 2914, 72, 125, 20, 127, 9, 172, 18, 23, 27, 16, 9, 54, 56998, 5941, 91167, 4872, 2236, 22, 29, 3470, 36, 35, 273, 47, 82, 18, 95, 43, 72, 33, 38, 59, 10995, 124, 4410, 36, 1025, 39, 124, 10, 220, 17, 32, 27, 16, 1, 45, 41779, 6154, 2150, 66937, 974, 25, 28, 233, 17, 58, 2979, 54, 62, 12, 72, 25, 84, 26, 15, 16, 6420, 69, 4835, 25, 93, 12, 62, 8, 240, 15, 9, 10, 10, 3, 1701, 18313, 11759, 3645, 3572, 80682, 320, 906, 1285, 973, 57, 1293, 71, 111, 30, 203, 135, 185, 37, 17, 30, 8673, 60, 4465, 120, 87, 21, 336, 27, 176, 34, 37, 41, 27, 4, 1639, 1102, 332, 113, 377, 538, 35730, 569, 51, 37, 1389, 50, 269, 208, 32, 342, 6157, 70, 14, 34, 5, 3943, 15, 3605, 1411, 13, 5, 37, 2, 59, 16, 21, 3, 16, 3, 2955, 2103, 1041, 292, 496, 3857, 1217, 26068, 64, 2058, 44, 123, 98, 110, 27, 356, 178, 178, 27, 14, 7, 3135, 20, 2349, 724, 12, 6, 214, 21, 58, 23, 12, 35, 5, 1, 8, 542, 122, 72, 137, 199, 1, 8, 73, 101, 2, 7, 14, 30, 13, 37, 5, 169, 41, 28, 403, 1450, 16, 1070, 10, 17, 24, 1722, 432, 15, 8, 97, 14496, 10, 192, 35, 4681, 517, 2727, 651, 524, 12, 9, 3359, 7, 20, 26, 30, 29, 9, 41, 19, 79, 12, 14, 160, 4421, 926, 2043, 13, 51461, 842, 65, 0, 91, 3, 17, 15, 16, 2, 65, 16490, 3151, 11321, 1941, 4087, 29, 30, 60233, 222, 22, 101, 48, 60, 28, 87, 39, 136, 48, 17, 1273, 8560, 117, 4620, 59, 6283, 278, 1044, 13, 153, 15, 61, 59, 29, 3, 121, 1394, 529, 232, 295, 2025, 80, 1512, 208, 25898, 10, 19, 47, 29, 17, 383, 91, 323, 199, 9, 43, 2936, 20, 2318, 1333, 16, 16, 3042, 164, 39, 31, 23, 68, 3, 6, 36, 2121, 651, 476, 415, 1321, 17, 99, 1431, 1422, 7, 23, 17, 23, 10, 119, 22, 411, 222, 25, 170, 3222, 31, 2181, 52, 74, 26, 33155, 834, 52, 13, 97, 913, 7, 16, 819, 2040, 424, 276, 1369, 426, 826, 59, 37, 13, 59950, 3083, 142, 80, 28, 227, 2055, 59, 13, 15, 5, 5905, 12, 5041, 95, 24, 9, 41, 1, 98, 7, 16, 2, 7, 1, 965, 10188, 3207, 864, 11839, 1786, 117, 49, 92, 8, 833, 43470, 47, 46, 20, 69, 152, 88, 16, 10, 18, 5535, 37, 4067, 30, 58, 11, 52, 1, 122, 9, 17, 3, 11, 2, 20, 444, 92, 124, 153, 86, 9, 18, 14, 21, 6, 20, 232, 199, 103, 11679, 42, 1042, 705, 35, 9, 4260, 17, 3912, 386, 14, 2, 89, 7, 95, 44958, 28, 3, 18, 2, 9, 294, 64, 99, 72, 38, 16, 4, 12, 2, 7, 9, 46011, 13898, 45, 215, 82, 23, 19, 7, 4, 3477, 9, 1425, 54, 10, 1, 16, 1, 113, 17, 7, 3, 3, 1, 64, 1200, 301, 279, 414, 390, 107, 37, 55, 26, 43, 69, 58794, 156717, 1233, 3171, 1055, 168, 33, 30, 43, 16130, 46, 13869, 644, 67, 14, 92, 9, 345, 150, 33, 11, 20, 9, 19, 432, 69, 62, 136, 90, 12, 4, 13, 10, 6, 10, 1434, 2075, 60963, 2414, 51, 167, 26, 18, 5, 5695, 17, 5308, 58, 8, 3, 28, 3, 91, 91, 22, 6, 3, 1, 25, 674, 152, 154, 239, 136, 38, 28, 24, 32, 22, 38, 773, 2663, 1170, 85643, 110, 323, 118, 28, 8, 6736, 17, 4620, 1729, 16, 7, 55, 9, 115, 3816, 17, 10, 46, 3, 142, 897, 245, 128, 349, 286, 1780, 446, 49, 1016, 53, 31, 987, 1075, 84, 6803, 2521, 264, 254, 17, 11, 6152, 23, 5912, 58770, 11, 9, 153, 27, 66, 996, 30, 5, 11, 0, 113, 566, 116, 66, 230, 112, 1875, 20, 56, 11, 487, 25, 999, 1680, 26, 361, 48982, 64, 21, 10, 3, 3670, 14, 3099, 2100, 20, 4, 24, 2, 75, 15, 12, 0, 8, 0, 9, 343, 54, 41, 97, 50, 8, 2, 10, 18, 3, 8, 43, 20, 12, 207, 8, 34520, 5566, 138, 4, 2339, 10, 1139, 19, 6, 0, 129, 38, 72, 130, 33, 9, 15, 2, 18, 805, 200, 140, 256, 179, 24, 22, 47, 437, 11, 29, 100, 90, 41, 989, 39, 24555, 59489, 1234, 21, 7538, 37, 5962, 273, 34, 9, 1161, 1266, 110, 690, 191, 63, 42, 17, 12, 343, 57, 42, 93, 89, 4, 3, 19, 12, 2, 6, 35, 14, 9, 45, 5, 134, 31, 52, 544, 1367, 148, 1038, 10, 15, 32, 145, 567, 19, 3, 2022, 663, 643, 9298, 25, 719, 139, 76, 267, 150, 8, 10, 19, 24, 2, 20, 42, 35, 21, 405, 15, 2291, 1668, 54239, 17, 5216, 27, 3791, 25, 19, 21, 153, 595, 89, 32, 1356, 30, 80, 35, 24, 670, 118, 111, 179, 188, 9, 12, 39, 268, 4, 13, 26, 18, 17, 139, 8, 809, 1422, 844, 47, 2678, 28, 2155, 41, 15, 6, 4730, 17948, 34, 9, 899, 1147, 36, 1428, 5, 393, 64, 55, 163, 112, 3, 3, 12, 3, 2, 7, 26, 22, 10, 92, 6, 366, 87, 1357, 35, 2381, 39, 1763, 13, 13, 13, 57, 643, 37, 12, 27711, 48, 447, 476, 23, 1407, 237, 516, 266, 289, 8, 2, 2530, 15, 6, 12, 15, 21, 5, 43, 14, 139, 19, 22, 28366, 3031, 493, 2350, 24, 504, 1371, 373, 36, 38, 3, 187, 544, 59, 422, 9, 757, 80, 69, 232, 205, 3, 5, 53, 6, 7, 11, 21, 36, 26, 78, 14, 488, 49, 40, 52, 5781, 5608, 3797, 20, 29, 33, 65, 14, 153, 11, 800, 8, 65544, 166, 16, 887, 68, 203, 216, 162, 21, 3, 324, 7, 38, 8, 8, 8, 6, 36, 14, 96, 5, 12, 1506, 2418, 1112, 1957, 6, 2080, 24074, 38, 2, 38, 2, 81, 11, 87, 4]\n",
      "DP Educational level counts:\n",
      " [19174, 962, 540, 133, 290, 1253, 1511, 989, 27, 8, 958, 1053, 33, 42, 9, 81, 256, 41, 5, 20, 5, 1974, 11, 1617, 46, 9, 7, 17, 3, 44, 4, 13, 5, 1, 5, 87, 218853, 15302, 22677, 19235, 3055, 43, 71, 1154, 56, 55, 801, 121, 114, 25, 122, 58, 139, 31, 33, 35, 17956, 165, 6551, 65, 378, 50, 135, 28, 521, 47, 32, 26, 30, 9, 84, 44143, 80723, 5198, 12774, 4528, 30, 58, 563, 31, 40, 817, 44, 75, 21, 67, 39, 68, 22, 18, 26, 10630, 59, 2909, 77, 106, 21, 125, 11, 163, 20, 31, 34, 20, 5, 58, 56997, 5943, 91172, 4863, 2231, 21, 24, 3481, 38, 41, 274, 46, 80, 23, 96, 47, 51, 23, 41, 65, 11000, 123, 4412, 45, 1030, 44, 128, 13, 212, 13, 27, 27, 16, 0, 49, 41769, 6150, 2150, 66944, 968, 27, 30, 235, 17, 63, 2963, 63, 43, 11, 67, 32, 83, 26, 13, 14, 6412, 71, 4836, 36, 90, 8, 62, 9, 235, 16, 8, 10, 7, 6, 1706, 18315, 11758, 3647, 3560, 80682, 318, 904, 1283, 966, 48, 1285, 91, 110, 29, 206, 141, 191, 36, 17, 28, 8682, 59, 4465, 129, 91, 16, 334, 26, 178, 31, 28, 44, 25, 2, 1633, 1105, 338, 112, 369, 541, 35730, 568, 51, 61, 1388, 53, 280, 203, 33, 343, 6154, 77, 17, 35, 3, 3944, 13, 3611, 1410, 11, 5, 39, 0, 59, 18, 21, 3, 16, 8, 2959, 2102, 1053, 296, 495, 3850, 1217, 26075, 68, 2071, 45, 125, 90, 116, 29, 352, 177, 158, 33, 17, 13, 3164, 18, 2347, 724, 14, 10, 214, 10, 55, 23, 12, 45, 11, 5, 6, 544, 123, 77, 132, 196, 2, 7, 73, 113, 8, 4, 15, 30, 16, 33, 12, 173, 41, 28, 400, 1450, 16, 1077, 13, 17, 17, 1725, 430, 15, 11, 97, 14495, 14, 202, 35, 4681, 518, 2730, 650, 534, 15, 0, 3355, 12, 18, 6, 24, 32, 6, 25, 4, 78, 7, 21, 158, 4420, 920, 2033, 15, 51461, 839, 69, 1, 104, 0, 22, 29, 10, 2, 65, 16490, 3151, 11316, 1941, 4096, 28, 27, 60239, 224, 24, 103, 49, 65, 31, 87, 43, 127, 46, 12, 1267, 8559, 120, 4624, 60, 6282, 271, 1027, 13, 158, 13, 62, 53, 27, 2, 127, 1393, 527, 229, 292, 2027, 80, 1508, 206, 25901, 14, 34, 59, 26, 15, 382, 87, 317, 194, 10, 40, 2947, 21, 2325, 1331, 15, 22, 3034, 166, 42, 19, 14, 57, 0, 11, 36, 2118, 661, 469, 417, 1319, 9, 105, 1431, 1419, 8, 19, 8, 31, 3, 118, 25, 404, 220, 24, 163, 3221, 29, 2189, 52, 59, 21, 33158, 845, 51, 11, 97, 909, 1, 10, 815, 2038, 426, 268, 1366, 420, 830, 71, 39, 16, 59950, 3083, 143, 80, 27, 225, 2060, 84, 13, 14, 2, 5900, 12, 5049, 96, 24, 11, 43, 1, 92, 7, 16, 0, 13, 0, 966, 10196, 3198, 864, 11839, 1789, 114, 53, 94, 7, 833, 43469, 41, 44, 15, 62, 147, 83, 31, 12, 19, 5529, 35, 4074, 35, 56, 6, 52, 1, 123, 0, 18, 3, 16, 2, 18, 446, 92, 124, 155, 90, 7, 20, 13, 21, 10, 21, 233, 199, 99, 11679, 41, 1051, 705, 26, 15, 4250, 20, 3915, 382, 18, 2, 89, 0, 101, 44959, 26, 3, 17, 0, 7, 296, 66, 103, 72, 37, 25, 6, 6, 2, 6, 16, 46009, 13899, 43, 210, 80, 25, 22, 12, 0, 3477, 18, 1424, 54, 6, 9, 21, 2, 107, 15, 4, 2, 7, 1, 73, 1220, 295, 277, 415, 375, 110, 43, 47, 23, 44, 68, 58792, 156709, 1228, 3172, 1054, 162, 31, 30, 44, 16136, 58, 13835, 639, 69, 16, 94, 10, 346, 150, 29, 7, 16, 16, 22, 436, 85, 69, 134, 95, 13, 4, 12, 11, 6, 10, 1437, 2081, 60973, 2409, 53, 170, 31, 0, 1, 5696, 4, 5303, 59, 9, 10, 30, 0, 81, 89, 25, 16, 2, 1, 24, 681, 146, 159, 232, 152, 37, 28, 28, 28, 22, 36, 771, 2651, 1178, 85644, 107, 322, 119, 26, 4, 6729, 13, 4610, 1732, 14, 8, 45, 2, 118, 3816, 18, 9, 53, 3, 137, 897, 252, 130, 348, 284, 1784, 444, 51, 1017, 58, 29, 987, 1080, 83, 6801, 2508, 265, 252, 24, 9, 6157, 25, 5913, 58774, 13, 8, 151, 32, 64, 989, 23, 3, 18, 1, 110, 575, 116, 69, 239, 111, 1876, 21, 64, 8, 490, 23, 998, 1673, 21, 347, 48983, 58, 32, 24, 6, 3671, 7, 3091, 2100, 24, 8, 19, 3, 76, 16, 14, 5, 4, 1, 11, 344, 54, 42, 94, 51, 22, 3, 9, 17, 10, 2, 43, 33, 12, 210, 9, 34519, 5565, 135, 7, 2338, 2, 1145, 23, 0, 0, 133, 34, 76, 130, 33, 6, 12, 0, 14, 801, 193, 137, 250, 184, 23, 25, 48, 441, 10, 19, 95, 86, 37, 987, 39, 24556, 59498, 1236, 22, 7531, 44, 5960, 278, 33, 36, 1166, 1269, 113, 686, 187, 65, 41, 1, 11, 352, 45, 30, 97, 89, 3, 3, 8, 14, 3, 7, 34, 10, 7, 46, 12, 134, 37, 49, 544, 1365, 148, 1038, 4, 11, 35, 139, 573, 0, 2, 2020, 655, 648, 9293, 20, 707, 142, 63, 264, 141, 11, 7, 18, 23, 6, 21, 43, 25, 15, 405, 15, 2280, 1666, 54237, 16, 5212, 22, 3788, 17, 15, 22, 151, 589, 90, 25, 1356, 34, 75, 33, 26, 670, 114, 106, 176, 188, 9, 8, 35, 271, 12, 12, 29, 18, 18, 145, 9, 812, 1425, 840, 48, 2681, 22, 2152, 39, 10, 11, 4725, 17943, 44, 7, 900, 1149, 37, 1429, 0, 394, 57, 64, 157, 111, 1, 1, 13, 0, 0, 14, 36, 29, 8, 91, 8, 379, 85, 1339, 31, 2387, 44, 1754, 13, 13, 12, 59, 640, 44, 11, 27713, 50, 447, 483, 26, 1410, 249, 519, 271, 295, 7, 4, 2533, 11, 6, 18, 13, 27, 2, 52, 20, 143, 21, 21, 28369, 3035, 482, 2356, 24, 526, 1371, 365, 32, 39, 0, 189, 528, 61, 423, 10, 756, 82, 69, 240, 203, 2, 0, 51, 10, 0, 7, 27, 54, 31, 75, 14, 488, 50, 40, 50, 5792, 5610, 3808, 24, 31, 30, 67, 8, 151, 14, 802, 4, 65544, 165, 15, 887, 69, 202, 215, 162, 25, 3, 337, 4, 45, 15, 17, 9, 4, 41, 5, 99, 17, 9, 1504, 2425, 1111, 1958, 4, 2086, 24073, 38, 5, 39, 0, 81, 11, 102, 0]\n",
      "DP estimate for the number of records that were not a member of the category set: 0\n"
     ]
    }
   ],
   "source": [
    "print(\"Educational level counts:\\n\", county_sensitive_counts[:-1])\n",
    "print(\"DP Educational level counts:\\n\", all_county_released_counts[0][:-1])\n",
    "\n",
    "print(\"DP estimate for the number of records that were not a member of the category set:\", released_counts[-1])"
   ]
  },
  {
   "cell_type": "code",
   "execution_count": 10,
   "metadata": {},
   "outputs": [
    {
     "data": {
      "image/png": "[encoded data removed]",
      "text/plain": [
       "<Figure size 432x288 with 1 Axes>"
      ]
     },
     "metadata": {
      "needs_background": "light"
     },
     "output_type": "display_data"
    }
   ],
   "source": [
    "plot_histogram(county_sensitive_counts[1:30], all_county_released_counts[0][1:30])\n",
    "#plt.savefig(\"Histogram of Counts after Laplace Mechanism\")\n"
   ]
  },
  {
   "cell_type": "code",
   "execution_count": 11,
   "metadata": {},
   "outputs": [],
   "source": [
    "def calculate_rmse(predicted_values, actual_values):    \n",
    "    # Calculate the squared differences\n",
    "    squared_diffs = np.square(np.array(predicted_values) - np.array(actual_values))\n",
    "    \n",
    "    # Calculate the mean of squared differences\n",
    "    mean_squared_diff = np.mean(squared_diffs)\n",
    "    \n",
    "    # Take the square root to get RMSE\n",
    "    rmse = np.sqrt(mean_squared_diff)\n",
    "    \n",
    "    return rmse\n"
   ]
  },
  {
   "cell_type": "code",
   "execution_count": 12,
   "metadata": {},
   "outputs": [],
   "source": [
    "all_county_rmse  =[]\n",
    "for released_count in range(len(budget)):\n",
    "    rmse = calculate_rmse(all_county_released_counts[released_count], county_sensitive_counts)\n",
    "    all_county_rmse.append(rmse)\n"
   ]
  },
  {
   "cell_type": "code",
   "execution_count": 13,
   "metadata": {},
   "outputs": [
    {
     "data": {
      "text/plain": [
       "array([0.5, 1. , 1.5, 2. , 2.5, 3. , 3.5, 4. , 4.5, 5. ])"
      ]
     },
     "execution_count": 13,
     "metadata": {},
     "output_type": "execute_result"
    }
   ],
   "source": [
    "all_county_rmse\n",
    "budget"
   ]
  },
  {
   "cell_type": "code",
   "execution_count": 14,
   "metadata": {},
   "outputs": [
    {
     "data": {
      "image/png": "[encoded data removed]",
      "text/plain": [
       "<Figure size 432x288 with 1 Axes>"
      ]
     },
     "metadata": {
      "needs_background": "light"
     },
     "output_type": "display_data"
    }
   ],
   "source": [
    "plt.plot(budget, all_county_rmse, 'bo')\n",
    "plt.plot(budget, all_county_rmse, 'b--')\n",
    "plt.xlabel('Epsilon')\n",
    "plt.ylabel('RMSE')  \n",
    "plt.title('Laplace Mechanism for County Level Commute')\n",
    "plt.savefig(\"Laplace Mechanism for County Level Commute\")"
   ]
  },
  {
   "cell_type": "code",
   "execution_count": 18,
   "metadata": {},
   "outputs": [],
   "source": [
    "#Maximum error \n",
    "all_county_max_count_difference = []\n",
    "all_county_max_count_difference_index = []\n",
    "for released_count in range(len(budget)):\n",
    "    max_county_count_difference = max(abs(all_county_released_counts[released_count][idx] - county_sensitive_counts[idx]) for idx in range(len(county_sensitive_counts)))\n",
    "    all_county_max_count_difference.append(max_county_count_difference)\n",
    "    county_max_count_difference_index = [idx for idx in range(len(county_sensitive_counts)) if abs(all_county_released_counts[released_count][idx] - county_sensitive_counts[idx]) == max_county_count_difference]\n",
    "    all_county_max_count_difference_index.append(county_max_count_difference_index)\n"
   ]
  },
  {
   "cell_type": "code",
   "execution_count": 21,
   "metadata": {},
   "outputs": [
    {
     "data": {
      "text/plain": [
       "[[618],\n",
       " [29],\n",
       " [52, 854],\n",
       " [674, 753],\n",
       " [993],\n",
       " [93, 128, 685, 860, 1017],\n",
       " [725],\n",
       " [681],\n",
       " [465, 555],\n",
       " [465]]"
      ]
     },
     "execution_count": 21,
     "metadata": {},
     "output_type": "execute_result"
    }
   ],
   "source": [
    "all_county_max_count_difference\n",
    "#[28, 14, 8, 7, 6, 6, 4, 3, 3, 3]\n",
    "all_county_max_count_difference_index\n",
    "# [[601],\n",
    "#  [555],\n",
    "#  [194, 522, 572],\n",
    "#  [538],\n",
    "#  [403],\n",
    "#  [215],\n",
    "#  [518, 686],\n",
    "#  [112, 124, 258, 415, 592, 1050],\n",
    "#  [933],\n",
    "#  [716]]"
   ]
  },
  {
   "cell_type": "code",
   "execution_count": 22,
   "metadata": {},
   "outputs": [
    {
     "data": {
      "text/plain": [
       "6.358440613746643"
      ]
     },
     "execution_count": 22,
     "metadata": {},
     "output_type": "execute_result"
    }
   ],
   "source": [
    "county_mean_time  = np.mean(all_county_elapsed_time)\n",
    "county_mean_time # in seconds \n",
    "#5.557075667381286"
   ]
  },
  {
   "cell_type": "code",
   "execution_count": 23,
   "metadata": {},
   "outputs": [
    {
     "data": {
      "text/plain": [
       "[7.331993103027344,\n",
       " 6.701935768127441,\n",
       " 5.898215293884277,\n",
       " 5.784113883972168,\n",
       " 6.042531251907349,\n",
       " 5.77241325378418,\n",
       " 6.719473838806152,\n",
       " 6.638479948043823,\n",
       " 6.815895080566406,\n",
       " 5.87935471534729]"
      ]
     },
     "execution_count": 23,
     "metadata": {},
     "output_type": "execute_result"
    }
   ],
   "source": [
    "all_county_elapsed_time\n",
    "\n",
    "#[5.961507081985474,\n",
    "#  5.719324111938477,\n",
    "#  5.47859001159668,\n",
    "#  5.477495193481445,\n",
    "#  5.45618200302124,\n",
    "#  5.492994785308838,\n",
    "#  5.506938695907593,\n",
    "#  5.485191106796265,\n",
    "#  5.466466903686523,\n",
    "#  5.526066780090332]"
   ]
  },
  {
   "cell_type": "markdown",
   "metadata": {},
   "source": [
    "# ED Level"
   ]
  },
  {
   "cell_type": "code",
   "execution_count": 24,
   "metadata": {},
   "outputs": [],
   "source": [
    "agg_ed_data_df = pd.read_csv(\"/Users/Ava/Library/CloudStorage/OneDrive-Personal/Thesis/Code/agg_commute_ed_level_all.csv\")\n",
    "ed_data_df = pd.read_csv(\"/Users/Ava/Library/CloudStorage/OneDrive-Personal/Thesis/Code/commute_ed_level_all.csv\")"
   ]
  },
  {
   "cell_type": "code",
   "execution_count": 25,
   "metadata": {},
   "outputs": [
    {
     "data": {
      "text/plain": [
       "8699658"
      ]
     },
     "execution_count": 25,
     "metadata": {},
     "output_type": "execute_result"
    }
   ],
   "source": [
    "ed_categories = agg_ed_data_df['ED_Commute'].unique()\n",
    "len(ed_categories) # MUST TAKE FROM DATA WHERE CATEGORIES CAN HAVE COUNT 0 ie.not where each individual is row"
   ]
  },
  {
   "cell_type": "code",
   "execution_count": 26,
   "metadata": {},
   "outputs": [],
   "source": [
    "col_names = [\"ED_commute\",\"ED_Origin\",\"ED_Destination\"]\n",
    "size = len(ed_data_df) #Number of individuals in dataset\n",
    "ed_categories = list(ed_categories) #Number of possible categories "
   ]
  },
  {
   "cell_type": "code",
   "execution_count": 27,
   "metadata": {},
   "outputs": [],
   "source": [
    "with open('commute_ed_level_all.csv') as input_data:\n",
    "    ed_data = input_data.read()"
   ]
  },
  {
   "cell_type": "code",
   "execution_count": 20,
   "metadata": {},
   "outputs": [
    {
     "data": {
      "text/plain": [
       "10"
      ]
     },
     "execution_count": 20,
     "metadata": {},
     "output_type": "execute_result"
    }
   ],
   "source": [
    "len(budget)"
   ]
  },
  {
   "cell_type": "code",
   "execution_count": 23,
   "metadata": {},
   "outputs": [
    {
     "name": "stdout",
     "output_type": "stream",
     "text": [
      "1.0 Completed.\r"
     ]
    }
   ],
   "source": [
    "histogram = (\n",
    "    dp.t.make_split_dataframe(separator=\",\", col_names=col_names) >>\n",
    "    dp.t.make_select_column(key=\"ED_commute\", TOA=str) >>\n",
    "    # Compute counts for each of the categories\n",
    "    dp.t.then_count_by_categories(categories=ed_categories)\n",
    ")\n",
    "\n",
    "ed_sensitive_counts = histogram(ed_data)\n",
    "\n",
    "# empty dictionary\n",
    "all_ed_released_counts = []\n",
    "all_ed_elapsed_time = []\n",
    "\n",
    "for i, epsilon in enumerate(budget):\n",
    "    #d_in is the sensistivity \n",
    "    #d_out is the privacy budget ie.epsilon\n",
    "    noisy_histogram = dp.binary_search_chain(\n",
    "        lambda s: histogram >> dp.m.then_laplace(scale=s),\n",
    "        d_in=max_influence, d_out=epsilon)\n",
    "\n",
    "    start_time = time.time()\n",
    "    released_counts = noisy_histogram(ed_data)\n",
    "    end_time = time.time()\n",
    "\n",
    "    elapsed_time = end_time - start_time\n",
    "    all_ed_elapsed_time.append(elapsed_time)\n",
    "\n",
    "    # Post-processing to ensure non-negative counts\n",
    "    released_counts = [max(count, 0) for count in released_counts]\n",
    "    all_ed_released_counts.append(released_counts)\n",
    "    print(f'{(i+1)/len(budget)} Completed.', end = '\\r')"
   ]
  },
  {
   "cell_type": "code",
   "execution_count": 24,
   "metadata": {},
   "outputs": [],
   "source": [
    "all_ed_rmse  =[]\n",
    "for released_count in range(len(budget)):\n",
    "    rmse = calculate_rmse(all_ed_released_counts[released_count], ed_sensitive_counts)\n",
    "    all_ed_rmse.append(rmse)\n"
   ]
  },
  {
   "cell_type": "code",
   "execution_count": 26,
   "metadata": {},
   "outputs": [
    {
     "data": {
      "image/png": "[encoded data removed]",
      "text/plain": [
       "<Figure size 432x288 with 1 Axes>"
      ]
     },
     "metadata": {
      "needs_background": "light"
     },
     "output_type": "display_data"
    }
   ],
   "source": [
    "plt.plot(budget, all_ed_rmse, 'bo')\n",
    "plt.plot(budget, all_ed_rmse, 'b--')\n",
    "plt.xlabel('Epsilon')\n",
    "plt.ylabel('RMSE')  \n",
    "plt.title('Laplace Mechanism for Electoral Division Level Commute')\n",
    "plt.savefig(\"Laplace Mechanism for Electoral Division Level Commute\")\n"
   ]
  },
  {
   "cell_type": "code",
   "execution_count": 45,
   "metadata": {},
   "outputs": [],
   "source": [
    "#Maximum error \n",
    "all_ed_max_count_difference = []\n",
    "all_ed_max_count_difference_index = []\n",
    "for released_count in range(len(budget)):\n",
    "    max_ed_count_difference = max(abs(all_ed_released_counts[released_count][idx] - ed_sensitive_counts[idx]) for idx in range(len(ed_sensitive_counts)))\n",
    "    all_ed_max_count_difference.append(max_ed_count_difference)\n",
    "    ed_max_count_difference_index = [idx for idx in range(len(ed_sensitive_counts)) if abs(all_ed_released_counts[released_count][idx] - ed_sensitive_counts[idx]) == max_ed_count_difference]\n",
    "    all_ed_max_count_difference_index.append(ed_max_count_difference_index)\n"
   ]
  },
  {
   "cell_type": "code",
   "execution_count": 46,
   "metadata": {},
   "outputs": [
    {
     "data": {
      "text/plain": [
       "[[7890592],\n",
       " [8426434],\n",
       " [1638498],\n",
       " [573781],\n",
       " [691995, 3917674],\n",
       " [5692415, 7269616],\n",
       " [704791, 4168329, 4707089],\n",
       " [5636043],\n",
       " [2651429, 6328040],\n",
       " [2327384, 2887713, 5594075, 5839875]]"
      ]
     },
     "execution_count": 46,
     "metadata": {},
     "output_type": "execute_result"
    }
   ],
   "source": [
    "all_ed_max_count_difference\n",
    "#[57, 32, 21, 16, 12, 10, 10, 8, 7, 6]\n",
    "all_ed_max_count_difference_index\n",
    "# [[7890592],\n",
    "#  [8426434],\n",
    "#  [1638498],\n",
    "#  [573781],\n",
    "#  [691995, 3917674],\n",
    "#  [5692415, 7269616],\n",
    "#  [704791, 4168329, 4707089],\n",
    "#  [5636043],\n",
    "#  [2651429, 6328040],\n",
    "#  [2327384, 2887713, 5594075, 5839875]]"
   ]
  },
  {
   "cell_type": "code",
   "execution_count": 29,
   "metadata": {},
   "outputs": [
    {
     "data": {
      "image/png": "[encoded data removed]",
      "text/plain": [
       "<Figure size 432x288 with 1 Axes>"
      ]
     },
     "metadata": {
      "needs_background": "light"
     },
     "output_type": "display_data"
    }
   ],
   "source": [
    "plt.plot(budget, all_county_rmse, 'ro', label='County Level')\n",
    "plt.plot(budget, all_county_rmse, 'r--')\n",
    "\n",
    "plt.plot(budget, all_ed_rmse, 'bo', label='County Level')\n",
    "plt.plot(budget, all_ed_rmse, 'b--')\n",
    "plt.xlabel('Epsilon')\n",
    "plt.ylabel('RMSE')  \n",
    "plt.title('Laplace Mechanism')\n",
    "plt.legend(loc=\"upper right\")\n",
    "plt.savefig(\"Laplace Mechanism\")"
   ]
  },
  {
   "cell_type": "code",
   "execution_count": 32,
   "metadata": {},
   "outputs": [
    {
     "data": {
      "text/plain": [
       "[414.3674931526184,\n",
       " 332.5656387805939,\n",
       " 333.07225608825684,\n",
       " 320.9939818382263,\n",
       " 320.56924319267273,\n",
       " 333.8113238811493,\n",
       " 360.2779760360718,\n",
       " 332.6513411998749,\n",
       " 335.4997880458832,\n",
       " 435.3151710033417]"
      ]
     },
     "execution_count": 32,
     "metadata": {},
     "output_type": "execute_result"
    }
   ],
   "source": [
    "all_ed_elapsed_time\n",
    "# [414.3674931526184,\n",
    "#  332.5656387805939,\n",
    "#  333.07225608825684,\n",
    "#  320.9939818382263,\n",
    "#  320.56924319267273,\n",
    "#  333.8113238811493,\n",
    "#  360.2779760360718,\n",
    "#  332.6513411998749,\n",
    "#  335.4997880458832,\n",
    "#  435.3151710033417]"
   ]
  },
  {
   "cell_type": "code",
   "execution_count": 30,
   "metadata": {},
   "outputs": [
    {
     "data": {
      "text/plain": [
       "351.9124213218689"
      ]
     },
     "execution_count": 30,
     "metadata": {},
     "output_type": "execute_result"
    }
   ],
   "source": [
    "ed_mean_time  = np.mean(all_ed_elapsed_time)\n",
    "ed_mean_time # in seconds \n",
    "#351.9124213218689"
   ]
  },
  {
   "cell_type": "code",
   "execution_count": 52,
   "metadata": {},
   "outputs": [
    {
     "data": {
      "image/png": "[encoded data removed]",
      "text/plain": [
       "<Figure size 432x288 with 1 Axes>"
      ]
     },
     "metadata": {
      "needs_background": "light"
     },
     "output_type": "display_data"
    },
    {
     "data": {
      "text/plain": [
       "<Figure size 432x288 with 0 Axes>"
      ]
     },
     "metadata": {},
     "output_type": "display_data"
    }
   ],
   "source": [
    "plot_histogram(ed_sensitive_counts[100:130], all_ed_released_counts[0][100:130])\n",
    "#plt.savefig(\"Histogram of Counts after Laplace Mechanism for ED\")\n",
    "\n"
   ]
  },
  {
   "cell_type": "code",
   "execution_count": 60,
   "metadata": {},
   "outputs": [
    {
     "name": "stdout",
     "output_type": "stream",
     "text": [
      "ban\n",
      "Carlow Urban-Carlow Urban,\n"
     ]
    }
   ],
   "source": [
    "print(ed_data[100:130])"
   ]
  },
  {
   "cell_type": "code",
   "execution_count": 32,
   "metadata": {},
   "outputs": [
    {
     "name": "stdout",
     "output_type": "stream",
     "text": [
      "ed_categories :/n ['Carlow Urban-Kilcock', 'Carlow Urban-Leixlip', 'Carlow Urban-Maynooth', 'Carlow Urban-Ballysax East', 'Carlow Urban-Carnalway', 'Carlow Urban-Droichead Nua (Newbridge) Urban', 'Carlow Urban-Kilcullen', 'Carlow Urban-Kildare', 'Carlow Urban-Kill', 'Carlow Urban-Killashee', 'Carlow Urban-Ladytown', 'Carlow Urban-Morristownbiller', 'Carlow Urban-Naas Rural', 'Carlow Urban-Oldconnell', 'Carlow Urban-Rathmore', 'Carlow Urban-Kilkenny No. 1 Urban', 'Carlow Urban-Kilkenny No. 2 Urban', 'Carlow Urban-Ballyragget', 'Carlow Urban-Castlecomer', 'Carlow Urban-Gowran', 'Carlow Urban-Kilkenny Rural', 'Carlow Urban-Shankill', 'Carlow Urban-Ballyhale', 'Carlow Urban-Goresbridge', 'Carlow Urban-Graiguenamanagh', 'Carlow Urban-Stonyford', 'Carlow Urban-Kilculliheen (part)', 'Carlow Urban-Rathpatrick', 'Carlow Urban-Abbeyleix', 'Carlow Urban-Ballinakill']\n"
     ]
    }
   ],
   "source": [
    "#print(\"Sensitive Counts :/n\", ed_sensitive_counts[100:130])\n",
    "#print(\"Released Counts :/n\", all_ed_released_counts[0][100:130])\n",
    "print(\"ed_categories :/n\", ed_categories[100:130])\n",
    "#ed_categories :/n ['Carlow Urban-Kilcock', 'Carlow Urban-Leixlip', 'Carlow Urban-Maynooth', 'Carlow Urban-Ballysax East', 'Carlow Urban-Carnalway', 'Carlow Urban-Droichead Nua (Newbridge) Urban', 'Carlow Urban-Kilcullen', 'Carlow Urban-Kildare', 'Carlow Urban-Kill', 'Carlow Urban-Killashee', 'Carlow Urban-Ladytown', 'Carlow Urban-Morristownbiller', 'Carlow Urban-Naas Rural', 'Carlow Urban-Oldconnell', 'Carlow Urban-Rathmore', 'Carlow Urban-Kilkenny No. 1 Urban', 'Carlow Urban-Kilkenny No. 2 Urban', 'Carlow Urban-Ballyragget', 'Carlow Urban-Castlecomer', 'Carlow Urban-Gowran', 'Carlow Urban-Kilkenny Rural', 'Carlow Urban-Shankill', 'Carlow Urban-Ballyhale', 'Carlow Urban-Goresbridge', 'Carlow Urban-Graiguenamanagh', 'Carlow Urban-Stonyford', 'Carlow Urban-Kilculliheen (part)', 'Carlow Urban-Rathpatrick', 'Carlow Urban-Abbeyleix', 'Carlow Urban-Ballinakill']"
   ]
  },
  {
   "cell_type": "code",
   "execution_count": null,
   "metadata": {},
   "outputs": [],
   "source": []
  },
  {
   "cell_type": "code",
   "execution_count": null,
   "metadata": {},
   "outputs": [],
   "source": []
  },
  {
   "cell_type": "code",
   "execution_count": null,
   "metadata": {},
   "outputs": [],
   "source": []
  },
  {
   "cell_type": "code",
   "execution_count": null,
   "metadata": {},
   "outputs": [],
   "source": []
  }
 ],
 "metadata": {
  "kernelspec": {
   "display_name": "Python 3",
   "language": "python",
   "name": "python3"
  },
  "language_info": {
   "codemirror_mode": {
    "name": "ipython",
    "version": 3
   },
   "file_extension": ".py",
   "mimetype": "text/x-python",
   "name": "python",
   "nbconvert_exporter": "python",
   "pygments_lexer": "ipython3",
   "version": "3.9.16"
  }
 },
 "nbformat": 4,
 "nbformat_minor": 2
}
