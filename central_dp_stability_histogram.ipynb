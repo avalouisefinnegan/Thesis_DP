{
 "cells": [
  {
   "cell_type": "code",
   "execution_count": 149,
   "metadata": {},
   "outputs": [],
   "source": [
    "import pandas as pd\n",
    "import time\n",
    "import matplotlib.pyplot as plt\n",
    "import numpy as np\n",
    "import opendp.prelude as dp\n",
    "dp.enable_features(\"contrib\")\n",
    "dp.enable_features(\"floating-point\")"
   ]
  },
  {
   "cell_type": "code",
   "execution_count": 206,
   "metadata": {},
   "outputs": [
    {
     "name": "stdout",
     "output_type": "stream",
     "text": [
      "0.5 64.85396985349429\n",
      "1.0 32.426985108549594\n",
      "1.5 21.617990193568026\n",
      "2.0 16.213492736077242\n",
      "2.5 12.970794261582775\n",
      "3.0 10.808995278586462\n",
      "3.5 9.26485314787481\n",
      "4.0 8.10674654984107\n",
      "4.5 7.205996973592606\n",
      "5.0 6.485397312593835\n"
     ]
    }
   ],
   "source": [
    "for i in range(len(budget)):\n",
    "    threshold = 2*(np.log(2/budget[1][1]))/(budget[i][0]) + 1/size\n",
    "    print(budget[i][0], threshold)"
   ]
  },
  {
   "cell_type": "markdown",
   "metadata": {},
   "source": [
    "# County Level"
   ]
  },
  {
   "cell_type": "code",
   "execution_count": 151,
   "metadata": {},
   "outputs": [],
   "source": [
    "agg_county_data_df = pd.read_csv(\"/Users/Ava/Library/CloudStorage/OneDrive-Personal/Thesis/Code/agg_commute_county_level_all.csv\")\n",
    "county_data_df = pd.read_csv(\"/Users/Ava/Library/CloudStorage/OneDrive-Personal/Thesis/Code/commute_county_level_all.csv\")"
   ]
  },
  {
   "cell_type": "code",
   "execution_count": 152,
   "metadata": {},
   "outputs": [
    {
     "data": {
      "text/plain": [
       "1085"
      ]
     },
     "execution_count": 152,
     "metadata": {},
     "output_type": "execute_result"
    }
   ],
   "source": [
    "county_categories = agg_county_data_df['County_commute'].unique()\n",
    "len(county_categories) # MUST TAKE FROM DATA WHERE CATEGORIES CAN HAVE COUNT 0 ie.not where each individual is row"
   ]
  },
  {
   "cell_type": "code",
   "execution_count": 153,
   "metadata": {},
   "outputs": [],
   "source": [
    "col_names = [\"County_commute\",\"County_Origin\",\"County_Destination\"]\n",
    "size = len(county_data_df) #Number of individuals in dataset\n",
    "county_categories = list(county_categories) #Number of possible categories \n"
   ]
  },
  {
   "cell_type": "code",
   "execution_count": 154,
   "metadata": {},
   "outputs": [],
   "source": [
    "with open('commute_county_level_all.csv') as input_data:\n",
    "    county_data = input_data.read()"
   ]
  },
  {
   "cell_type": "code",
   "execution_count": 155,
   "metadata": {},
   "outputs": [],
   "source": [
    "def plot_histogram(sensitive_counts, released_counts):\n",
    "    \"\"\"Plot a histogram that compares true data against released data\"\"\"\n",
    "    import matplotlib.pyplot as plt\n",
    "    import matplotlib.ticker as ticker\n",
    "\n",
    "    fig = plt.figure()\n",
    "    ax = fig.add_axes([1,1,1,1])\n",
    "    #plt.ylim([0,20000])\n",
    "    \n",
    "    tick_spacing = 1.\n",
    "    ax.xaxis.set_major_locator(ticker.MultipleLocator(tick_spacing))\n",
    "    #plt.xlim(0,1084)\n",
    "    width = .4\n",
    "\n",
    "    ax.bar(list([x+width for x in range(0, len(sensitive_counts))]), sensitive_counts, width=width, label='True Value')\n",
    "    ax.bar(list([x+2*width for x in range(0, len(released_counts))]), released_counts, width=width, label='DP Value')\n",
    "\n",
    "    ax.legend()\n",
    "    plt.xticks([])  \n",
    "    plt.title('Histogram of Counts after Stability Histogram for County Level Commute')\n",
    "    plt.xlabel('Commute')\n",
    "    plt.ylabel('Count')\n",
    "    plt.show()"
   ]
  },
  {
   "cell_type": "code",
   "execution_count": 156,
   "metadata": {},
   "outputs": [],
   "source": [
    "max_influence = 2\n",
    "epsilon = np.arange(0.5,5.5, 0.5)\n",
    "delta = 1/(2*size)\n",
    "budget = [(e, delta) for e in epsilon]"
   ]
  },
  {
   "cell_type": "code",
   "execution_count": 157,
   "metadata": {},
   "outputs": [],
   "source": [
    "col_names = [\"County_commute\",\"County_Origin\",\"County_Destination\"]\n",
    "\n",
    "histogram = (\n",
    "    dp.t.make_split_dataframe(separator=\",\", col_names=col_names) >>\n",
    "    dp.t.make_select_column(key=\"County_commute\", TOA=str) >>\n",
    "    # Compute counts for each of the categories\n",
    "    dp.t.then_count_by_categories(categories=county_categories)\n",
    ")\n",
    "\n",
    "county_sensitive_counts = histogram(county_data)"
   ]
  },
  {
   "cell_type": "code",
   "execution_count": 158,
   "metadata": {},
   "outputs": [],
   "source": [
    "preprocess = (\n",
    "    dp.t.make_split_dataframe(separator=\",\", col_names=col_names) >>\n",
    "    dp.t.make_select_column(key=\"County_commute\", TOA=str) >>\n",
    "    dp.t.then_count_by(MO=dp.L1Distance[float], TV=float))"
   ]
  },
  {
   "cell_type": "code",
   "execution_count": 159,
   "metadata": {},
   "outputs": [],
   "source": [
    "\n",
    "def as_array(data):\n",
    "    return [data.get(k, 0) for k in county_categories]"
   ]
  },
  {
   "cell_type": "code",
   "execution_count": 160,
   "metadata": {},
   "outputs": [],
   "source": [
    "# empty dictionary\n",
    "all_county_released_count_before = []\n",
    "all_county_released_counts = []\n",
    "all_county_elapsed_time = []\n",
    "\n",
    "for epsilon in range(len(budget)):\n",
    "    threshold = 2*(np.log(2/budget[1][1]))/(budget[epsilon][0]) + 1/size\n",
    "    scale = max_influence/budget[epsilon][0]\n",
    "    noisy_histogram = preprocess >> dp.m.then_base_laplace_threshold(scale=scale, threshold=threshold)\n",
    "\n",
    "    sensitive_counts = histogram(county_data)\n",
    "\n",
    "    start_time = time.time()\n",
    "    released_counts = noisy_histogram(county_data)\n",
    "    end_time = time.time()\n",
    "\n",
    "    elapsed_time = end_time - start_time\n",
    "    all_county_elapsed_time.append(elapsed_time)\n",
    "\n",
    "    # postprocess to make the results easier to compare\n",
    "    postprocessed_counts = {k: round(v) for k, v in released_counts.items()}\n",
    "\n",
    "    all_county_released_count_before.append(postprocessed_counts)\n",
    "\n",
    "#all_county_released_counts are not ordered. \n",
    "# https://docs.opendp.org/en/stable/examples/histograms.html#Private-histogram-via-make_count_by-and-make_base_laplace_threshold\\n\n",
    "#Corrects order so it can be compared to the true counts\n",
    "for i in range(len(all_county_released_count_before)):\n",
    "    released_counts = as_array(all_county_released_count_before[i])\n",
    "    all_county_released_counts.append(released_counts)\n"
   ]
  },
  {
   "cell_type": "code",
   "execution_count": 220,
   "metadata": {},
   "outputs": [],
   "source": [
    "county_stability_dp_df = pd.DataFrame(county_categories, columns = ['County Level Commute'])\n",
    "county_stability_dp_df['True Count'] =  county_sensitive_counts[:-1]\n",
    "for i, level in enumerate(budget):\n",
    "    county_stability_dp_df[f'Privacy {level[0]}'] = all_county_released_counts[i]\n",
    "\n",
    "#Save dataset\n",
    "#county_stability_dp_df.to_csv('county_stability_dp_df.csv', sep=',', index=False, encoding='utf-8')"
   ]
  },
  {
   "cell_type": "code",
   "execution_count": 162,
   "metadata": {},
   "outputs": [
    {
     "data": {
      "image/png": "[encoded data removed]",
      "text/plain": [
       "<Figure size 432x288 with 1 Axes>"
      ]
     },
     "metadata": {
      "needs_background": "light"
     },
     "output_type": "display_data"
    }
   ],
   "source": [
    "plot_histogram(sensitive_counts[1:30], all_county_released_counts[0][1:30])"
   ]
  },
  {
   "cell_type": "code",
   "execution_count": 163,
   "metadata": {},
   "outputs": [],
   "source": [
    "def calculate_rmse(predicted_values, actual_values):    \n",
    "    # Calculate the squared differences\n",
    "    squared_diffs = np.square(np.array(predicted_values) - np.array(actual_values))\n",
    "    \n",
    "    # Calculate the mean of squared differences\n",
    "    mean_squared_diff = np.mean(squared_diffs)\n",
    "    \n",
    "    # Take the square root to get RMSE\n",
    "    rmse = np.sqrt(mean_squared_diff)\n",
    "    \n",
    "    return rmse\n"
   ]
  },
  {
   "cell_type": "code",
   "execution_count": 164,
   "metadata": {},
   "outputs": [
    {
     "data": {
      "text/plain": [
       "10"
      ]
     },
     "execution_count": 164,
     "metadata": {},
     "output_type": "execute_result"
    }
   ],
   "source": [
    "len(budget)"
   ]
  },
  {
   "cell_type": "code",
   "execution_count": 165,
   "metadata": {},
   "outputs": [],
   "source": [
    "all_county_rmse  =[]\n",
    "for released_count in range(len(budget)):\n",
    "    rmse = calculate_rmse(all_county_released_counts[released_count], county_sensitive_counts[:-1])\n",
    "    all_county_rmse.append(rmse)\n"
   ]
  },
  {
   "cell_type": "code",
   "execution_count": 166,
   "metadata": {},
   "outputs": [
    {
     "data": {
      "text/plain": [
       "[21.073997344009026,\n",
       " 10.292048740707848,\n",
       " 6.595976989225805,\n",
       " 4.903492595215823,\n",
       " 3.5535404555999155,\n",
       " 2.9068487379382946,\n",
       " 2.2890241013160018,\n",
       " 1.8464063988899495,\n",
       " 1.4844819419395778,\n",
       " 1.207885000782445]"
      ]
     },
     "execution_count": 166,
     "metadata": {},
     "output_type": "execute_result"
    }
   ],
   "source": [
    "all_county_rmse\n",
    "# [5.740630514993751,\n",
    "#  2.8543765409959523,\n",
    "#  1.8516401995451028,\n",
    "#  1.4785719851286827,\n",
    "#  1.1121449363491274,\n",
    "#  0.9576276370511868,\n",
    "#  0.8688145427405203,\n",
    "#  0.7298759442598561,\n",
    "#  0.637535577754862,\n",
    "#  0.6124664948985143]"
   ]
  },
  {
   "cell_type": "code",
   "execution_count": 167,
   "metadata": {},
   "outputs": [],
   "source": [
    "epsilons = [budget[i][0] for i in range(len(budget))]"
   ]
  },
  {
   "cell_type": "code",
   "execution_count": 168,
   "metadata": {},
   "outputs": [
    {
     "data": {
      "image/png": "[encoded data removed]",
      "text/plain": [
       "<Figure size 432x288 with 1 Axes>"
      ]
     },
     "metadata": {
      "needs_background": "light"
     },
     "output_type": "display_data"
    }
   ],
   "source": [
    "plt.plot(epsilons, all_county_rmse, 'bo')\n",
    "plt.plot(epsilons, all_county_rmse, 'b--')\n",
    "plt.xlabel('Epsilon')\n",
    "plt.ylabel('RMSE')  \n",
    "plt.title('Stability Histogram for County Level Commute')\n",
    "#plt.savefig(\"Stability Histogram for County Level Commute\")"
   ]
  },
  {
   "cell_type": "code",
   "execution_count": 169,
   "metadata": {},
   "outputs": [],
   "source": [
    "#Maximum error \n",
    "#FIX AS SENSTIVE COUNTS HAS ONE EXTRA COUNT??\n",
    "all_county_max_count_difference = []\n",
    "all_county_max_count_difference_index = []\n",
    "for released_count in range(len(budget)):\n",
    "    max_county_count_difference = max(abs(all_county_released_counts[released_count][idx] - county_sensitive_counts[idx]) for idx in range(len(county_sensitive_counts)-1))\n",
    "    all_county_max_count_difference.append(max_county_count_difference)\n",
    "    county_max_count_difference_index = [idx for idx in range(len(county_sensitive_counts)-1) if abs(all_county_released_counts[released_count][idx] - county_sensitive_counts[idx]) == max_county_count_difference]\n",
    "    all_county_max_count_difference_index.append(county_max_count_difference_index)\n"
   ]
  },
  {
   "cell_type": "code",
   "execution_count": 170,
   "metadata": {},
   "outputs": [
    {
     "data": {
      "text/plain": [
       "[[878],\n",
       " [206],\n",
       " [306],\n",
       " [89, 119, 805],\n",
       " [533, 1043],\n",
       " [166, 270, 1069],\n",
       " [720],\n",
       " [313],\n",
       " [623],\n",
       " [691]]"
      ]
     },
     "execution_count": 170,
     "metadata": {},
     "output_type": "execute_result"
    }
   ],
   "source": [
    "all_county_max_count_difference\n",
    "#[80, 50, 32, 22, 17, 16]\n",
    "all_county_max_count_difference_index\n",
    "# [[391, 1017],\n",
    "#  [45],\n",
    "#  [866],\n",
    "#  [661, 999],\n",
    "#  [27, 194, 426, 432, 590, 652, 719, 839, 895],\n",
    "#  [160, 240, 411]]"
   ]
  },
  {
   "cell_type": "code",
   "execution_count": 171,
   "metadata": {},
   "outputs": [
    {
     "data": {
      "text/plain": [
       "4.576414179801941"
      ]
     },
     "execution_count": 171,
     "metadata": {},
     "output_type": "execute_result"
    }
   ],
   "source": [
    "county_mean_time  = np.mean(all_county_elapsed_time)\n",
    "county_mean_time # in seconds \n",
    "#4.642084693908691"
   ]
  },
  {
   "cell_type": "code",
   "execution_count": 172,
   "metadata": {},
   "outputs": [
    {
     "data": {
      "text/plain": [
       "[4.28945779800415,\n",
       " 4.255159139633179,\n",
       " 4.267471790313721,\n",
       " 4.392210245132446,\n",
       " 5.33995509147644,\n",
       " 4.342015981674194,\n",
       " 5.126721143722534,\n",
       " 4.35213303565979,\n",
       " 4.8724448680877686,\n",
       " 4.5265727043151855]"
      ]
     },
     "execution_count": 172,
     "metadata": {},
     "output_type": "execute_result"
    }
   ],
   "source": [
    "all_county_elapsed_time\n",
    "\n",
    "# [4.561943054199219,\n",
    "#  4.480342864990234,\n",
    "#  4.566525220870972,\n",
    "#  4.473005056381226,\n",
    "#  4.378741979598999,\n",
    "#  4.460415840148926,\n",
    "#  5.004343032836914,\n",
    "#  5.07985782623291,\n",
    "#  4.909744024276733,\n",
    "#  4.505928039550781]"
   ]
  },
  {
   "cell_type": "markdown",
   "metadata": {},
   "source": [
    "# ED Level"
   ]
  },
  {
   "cell_type": "code",
   "execution_count": 173,
   "metadata": {},
   "outputs": [],
   "source": [
    "agg_ed_data_df = pd.read_csv(\"/Users/Ava/Library/CloudStorage/OneDrive-Personal/Thesis/Code/agg_commute_ed_level_all.csv\")\n",
    "ed_data_df = pd.read_csv(\"/Users/Ava/Library/CloudStorage/OneDrive-Personal/Thesis/Code/commute_ed_level_all.csv\")"
   ]
  },
  {
   "cell_type": "code",
   "execution_count": 174,
   "metadata": {},
   "outputs": [
    {
     "data": {
      "text/plain": [
       "8699658"
      ]
     },
     "execution_count": 174,
     "metadata": {},
     "output_type": "execute_result"
    }
   ],
   "source": [
    "ed_categories = agg_ed_data_df['ED_Commute'].unique()\n",
    "len(ed_categories) # MUST TAKE FROM DATA WHERE CATEGORIES CAN HAVE COUNT 0 ie.not where each individual is row"
   ]
  },
  {
   "cell_type": "code",
   "execution_count": 175,
   "metadata": {},
   "outputs": [],
   "source": [
    "col_names = [\"ED_commute\",\"ED_Origin\",\"ED_Destination\"]\n",
    "size = len(ed_data_df) #Number of individuals in dataset\n",
    "ed_categories = list(ed_categories) #Number of possible categories "
   ]
  },
  {
   "cell_type": "code",
   "execution_count": 176,
   "metadata": {},
   "outputs": [],
   "source": [
    "with open('commute_ed_level_all.csv') as input_data:\n",
    "    ed_data = input_data.read()"
   ]
  },
  {
   "cell_type": "code",
   "execution_count": 177,
   "metadata": {},
   "outputs": [
    {
     "data": {
      "text/plain": [
       "10"
      ]
     },
     "execution_count": 177,
     "metadata": {},
     "output_type": "execute_result"
    }
   ],
   "source": [
    "len(budget)"
   ]
  },
  {
   "cell_type": "code",
   "execution_count": 178,
   "metadata": {},
   "outputs": [],
   "source": [
    "col_names = [\"ED_commute\",\"ED_Origin\",\"ED_Destination\"]\n",
    "\n",
    "histogram = (\n",
    "    dp.t.make_split_dataframe(separator=\",\", col_names=col_names) >>\n",
    "    dp.t.make_select_column(key=\"ED_commute\", TOA=str) >>\n",
    "    # Compute counts for each of the categories\n",
    "    dp.t.then_count_by_categories(categories=ed_categories)\n",
    ")\n",
    "\n",
    "ed_sensitive_counts = histogram(ed_data)\n",
    "\n"
   ]
  },
  {
   "cell_type": "code",
   "execution_count": 179,
   "metadata": {},
   "outputs": [],
   "source": [
    "def as_array(data):\n",
    "    return [data.get(k, 0) for k in ed_categories]"
   ]
  },
  {
   "cell_type": "code",
   "execution_count": 180,
   "metadata": {},
   "outputs": [
    {
     "name": "stdout",
     "output_type": "stream",
     "text": [
      "0\n",
      "1\n",
      "2\n",
      "3\n",
      "4\n",
      "5\n",
      "6\n",
      "7\n",
      "8\n",
      "9\n"
     ]
    }
   ],
   "source": [
    "# empty dictionary\n",
    "all_ed_released_counts_before = []\n",
    "all_ed_released_counts = []\n",
    "all_ed_elapsed_time = []\n",
    "\n",
    "for epsilon in range(len(budget)):\n",
    "    scale = max_influence/budget[epsilon][0]\n",
    "    threshold = 2*(np.log(2/budget[1][1]))/(budget[epsilon][0]) + 1/size\n",
    "    noisy_histogram = preprocess >> dp.m.then_base_laplace_threshold(scale=scale, threshold=threshold)\n",
    "\n",
    "    start_time = time.time()\n",
    "    released_counts = noisy_histogram(ed_data)\n",
    "    end_time = time.time()\n",
    "    elapsed_time = end_time - start_time\n",
    "    all_ed_elapsed_time.append(elapsed_time)\n",
    "\n",
    "    # postprocess to make the results easier to compare\n",
    "    postprocessed_counts = {k: round(v) for k, v in released_counts.items()}\n",
    "    all_ed_released_counts_before.append(postprocessed_counts)\n",
    "\n",
    "    print(epsilon)\n",
    "\n",
    "for i in range(len(all_ed_released_counts_before)):\n",
    "    released_counts = as_array(all_ed_released_counts_before[i])\n",
    "    all_ed_released_counts.append(released_counts)\n",
    "\n"
   ]
  },
  {
   "cell_type": "code",
   "execution_count": 221,
   "metadata": {},
   "outputs": [],
   "source": [
    "ed_stability_dp_df = pd.DataFrame(ed_categories, columns = ['ED Level Commute'])\n",
    "ed_stability_dp_df['True Count'] =  ed_sensitive_counts[:-1]\n",
    "for i, level in enumerate(budget):\n",
    "    ed_stability_dp_df[f'Privacy {level[0]}'] = all_ed_released_counts[i]\n",
    "\n",
    "#Save dataset\n",
    "#ed_stability_dp_df.to_csv('ed_stability_dp_df.csv', sep=',', index=False, encoding='utf-8')"
   ]
  },
  {
   "cell_type": "code",
   "execution_count": 182,
   "metadata": {},
   "outputs": [
    {
     "data": {
      "text/html": [
       "<div>\n",
       "<style scoped>\n",
       "    .dataframe tbody tr th:only-of-type {\n",
       "        vertical-align: middle;\n",
       "    }\n",
       "\n",
       "    .dataframe tbody tr th {\n",
       "        vertical-align: top;\n",
       "    }\n",
       "\n",
       "    .dataframe thead th {\n",
       "        text-align: right;\n",
       "    }\n",
       "</style>\n",
       "<table border=\"1\" class=\"dataframe\">\n",
       "  <thead>\n",
       "    <tr style=\"text-align: right;\">\n",
       "      <th></th>\n",
       "      <th>ED Level Commute</th>\n",
       "      <th>True Count</th>\n",
       "      <th>Privacy 0.5</th>\n",
       "      <th>Privacy 1.0</th>\n",
       "      <th>Privacy 1.5</th>\n",
       "      <th>Privacy 2.0</th>\n",
       "      <th>Privacy 2.5</th>\n",
       "      <th>Privacy 3.0</th>\n",
       "      <th>Privacy 3.5</th>\n",
       "      <th>Privacy 4.0</th>\n",
       "      <th>Privacy 4.5</th>\n",
       "      <th>Privacy 5.0</th>\n",
       "    </tr>\n",
       "  </thead>\n",
       "  <tbody>\n",
       "    <tr>\n",
       "      <th>0</th>\n",
       "      <td>Carlow Urban-Carlow Urban</td>\n",
       "      <td>680</td>\n",
       "      <td>681</td>\n",
       "      <td>679</td>\n",
       "      <td>680</td>\n",
       "      <td>678</td>\n",
       "      <td>680</td>\n",
       "      <td>680</td>\n",
       "      <td>680</td>\n",
       "      <td>680</td>\n",
       "      <td>679</td>\n",
       "      <td>680</td>\n",
       "    </tr>\n",
       "    <tr>\n",
       "      <th>1</th>\n",
       "      <td>Carlow Urban-Graigue Urban</td>\n",
       "      <td>12</td>\n",
       "      <td>0</td>\n",
       "      <td>0</td>\n",
       "      <td>0</td>\n",
       "      <td>0</td>\n",
       "      <td>0</td>\n",
       "      <td>12</td>\n",
       "      <td>13</td>\n",
       "      <td>12</td>\n",
       "      <td>11</td>\n",
       "      <td>12</td>\n",
       "    </tr>\n",
       "    <tr>\n",
       "      <th>2</th>\n",
       "      <td>Carlow Urban-Hacketstown</td>\n",
       "      <td>8</td>\n",
       "      <td>0</td>\n",
       "      <td>0</td>\n",
       "      <td>0</td>\n",
       "      <td>0</td>\n",
       "      <td>0</td>\n",
       "      <td>0</td>\n",
       "      <td>0</td>\n",
       "      <td>9</td>\n",
       "      <td>0</td>\n",
       "      <td>9</td>\n",
       "    </tr>\n",
       "    <tr>\n",
       "      <th>3</th>\n",
       "      <td>Carlow Urban-Agha</td>\n",
       "      <td>2</td>\n",
       "      <td>0</td>\n",
       "      <td>0</td>\n",
       "      <td>0</td>\n",
       "      <td>0</td>\n",
       "      <td>0</td>\n",
       "      <td>0</td>\n",
       "      <td>0</td>\n",
       "      <td>0</td>\n",
       "      <td>0</td>\n",
       "      <td>0</td>\n",
       "    </tr>\n",
       "    <tr>\n",
       "      <th>4</th>\n",
       "      <td>Carlow Urban-Ballinacarrig</td>\n",
       "      <td>10</td>\n",
       "      <td>0</td>\n",
       "      <td>0</td>\n",
       "      <td>0</td>\n",
       "      <td>0</td>\n",
       "      <td>0</td>\n",
       "      <td>11</td>\n",
       "      <td>10</td>\n",
       "      <td>11</td>\n",
       "      <td>10</td>\n",
       "      <td>10</td>\n",
       "    </tr>\n",
       "    <tr>\n",
       "      <th>...</th>\n",
       "      <td>...</td>\n",
       "      <td>...</td>\n",
       "      <td>...</td>\n",
       "      <td>...</td>\n",
       "      <td>...</td>\n",
       "      <td>...</td>\n",
       "      <td>...</td>\n",
       "      <td>...</td>\n",
       "      <td>...</td>\n",
       "      <td>...</td>\n",
       "      <td>...</td>\n",
       "      <td>...</td>\n",
       "    </tr>\n",
       "    <tr>\n",
       "      <th>8699653</th>\n",
       "      <td>Tullycorbet-Fánaid Thiar</td>\n",
       "      <td>0</td>\n",
       "      <td>0</td>\n",
       "      <td>0</td>\n",
       "      <td>0</td>\n",
       "      <td>0</td>\n",
       "      <td>0</td>\n",
       "      <td>0</td>\n",
       "      <td>0</td>\n",
       "      <td>0</td>\n",
       "      <td>0</td>\n",
       "      <td>0</td>\n",
       "    </tr>\n",
       "    <tr>\n",
       "      <th>8699654</th>\n",
       "      <td>Tullycorbet-Loch Caol</td>\n",
       "      <td>0</td>\n",
       "      <td>0</td>\n",
       "      <td>0</td>\n",
       "      <td>0</td>\n",
       "      <td>0</td>\n",
       "      <td>0</td>\n",
       "      <td>0</td>\n",
       "      <td>0</td>\n",
       "      <td>0</td>\n",
       "      <td>0</td>\n",
       "      <td>0</td>\n",
       "    </tr>\n",
       "    <tr>\n",
       "      <th>8699655</th>\n",
       "      <td>Tullycorbet-Feddyglass</td>\n",
       "      <td>0</td>\n",
       "      <td>0</td>\n",
       "      <td>0</td>\n",
       "      <td>0</td>\n",
       "      <td>0</td>\n",
       "      <td>0</td>\n",
       "      <td>0</td>\n",
       "      <td>0</td>\n",
       "      <td>0</td>\n",
       "      <td>0</td>\n",
       "      <td>0</td>\n",
       "    </tr>\n",
       "    <tr>\n",
       "      <th>8699656</th>\n",
       "      <td>Tullycorbet-Drummully</td>\n",
       "      <td>0</td>\n",
       "      <td>0</td>\n",
       "      <td>0</td>\n",
       "      <td>0</td>\n",
       "      <td>0</td>\n",
       "      <td>0</td>\n",
       "      <td>0</td>\n",
       "      <td>0</td>\n",
       "      <td>0</td>\n",
       "      <td>0</td>\n",
       "      <td>0</td>\n",
       "    </tr>\n",
       "    <tr>\n",
       "      <th>8699657</th>\n",
       "      <td>Tullycorbet-Caddagh</td>\n",
       "      <td>3</td>\n",
       "      <td>0</td>\n",
       "      <td>0</td>\n",
       "      <td>0</td>\n",
       "      <td>0</td>\n",
       "      <td>0</td>\n",
       "      <td>0</td>\n",
       "      <td>0</td>\n",
       "      <td>0</td>\n",
       "      <td>0</td>\n",
       "      <td>0</td>\n",
       "    </tr>\n",
       "  </tbody>\n",
       "</table>\n",
       "<p>8699658 rows × 12 columns</p>\n",
       "</div>"
      ],
      "text/plain": [
       "                   ED Level Commute  True Count  Privacy 0.5  Privacy 1.0  \\\n",
       "0         Carlow Urban-Carlow Urban         680          681          679   \n",
       "1        Carlow Urban-Graigue Urban          12            0            0   \n",
       "2          Carlow Urban-Hacketstown           8            0            0   \n",
       "3                 Carlow Urban-Agha           2            0            0   \n",
       "4        Carlow Urban-Ballinacarrig          10            0            0   \n",
       "...                             ...         ...          ...          ...   \n",
       "8699653    Tullycorbet-Fánaid Thiar           0            0            0   \n",
       "8699654       Tullycorbet-Loch Caol           0            0            0   \n",
       "8699655      Tullycorbet-Feddyglass           0            0            0   \n",
       "8699656       Tullycorbet-Drummully           0            0            0   \n",
       "8699657         Tullycorbet-Caddagh           3            0            0   \n",
       "\n",
       "         Privacy 1.5  Privacy 2.0  Privacy 2.5  Privacy 3.0  Privacy 3.5  \\\n",
       "0                680          678          680          680          680   \n",
       "1                  0            0            0           12           13   \n",
       "2                  0            0            0            0            0   \n",
       "3                  0            0            0            0            0   \n",
       "4                  0            0            0           11           10   \n",
       "...              ...          ...          ...          ...          ...   \n",
       "8699653            0            0            0            0            0   \n",
       "8699654            0            0            0            0            0   \n",
       "8699655            0            0            0            0            0   \n",
       "8699656            0            0            0            0            0   \n",
       "8699657            0            0            0            0            0   \n",
       "\n",
       "         Privacy 4.0  Privacy 4.5  Privacy 5.0  \n",
       "0                680          679          680  \n",
       "1                 12           11           12  \n",
       "2                  9            0            9  \n",
       "3                  0            0            0  \n",
       "4                 11           10           10  \n",
       "...              ...          ...          ...  \n",
       "8699653            0            0            0  \n",
       "8699654            0            0            0  \n",
       "8699655            0            0            0  \n",
       "8699656            0            0            0  \n",
       "8699657            0            0            0  \n",
       "\n",
       "[8699658 rows x 12 columns]"
      ]
     },
     "execution_count": 182,
     "metadata": {},
     "output_type": "execute_result"
    }
   ],
   "source": [
    "ed_stability_dp_df"
   ]
  },
  {
   "cell_type": "code",
   "execution_count": 183,
   "metadata": {},
   "outputs": [],
   "source": [
    "all_ed_rmse  =[]\n",
    "for released_count in range(len(budget)):\n",
    "    rmse = calculate_rmse(all_ed_released_counts[released_count], ed_sensitive_counts[:-1])\n",
    "    all_ed_rmse.append(rmse)\n"
   ]
  },
  {
   "cell_type": "code",
   "execution_count": 184,
   "metadata": {},
   "outputs": [
    {
     "data": {
      "text/plain": [
       "[1.8976176693593578,\n",
       " 1.1891233413833633,\n",
       " 0.8841803378105298,\n",
       " 0.7160732933212272,\n",
       " 0.6099883410733823,\n",
       " 0.5350746984361697,\n",
       " 0.481082012322305,\n",
       " 0.43836290526748123,\n",
       " 0.4042019063693748,\n",
       " 0.37430332453876797]"
      ]
     },
     "execution_count": 184,
     "metadata": {},
     "output_type": "execute_result"
    }
   ],
   "source": [
    "all_ed_rmse\n",
    "# [0.8112421350712523,\n",
    "#  0.4290737100962413,\n",
    "#  0.30024163249855496,\n",
    "#  0.2334712175553153,\n",
    "#  0.19252994309004093,\n",
    "#  0.16566112263687102,\n",
    "#  0.14506605594191427,\n",
    "#  0.1290534487593263,\n",
    "#  0.11765756586678351,\n",
    "#  0.10756658303402995]"
   ]
  },
  {
   "cell_type": "code",
   "execution_count": 185,
   "metadata": {},
   "outputs": [
    {
     "data": {
      "image/png": "[encoded data removed]",
      "text/plain": [
       "<Figure size 432x288 with 1 Axes>"
      ]
     },
     "metadata": {
      "needs_background": "light"
     },
     "output_type": "display_data"
    }
   ],
   "source": [
    "plt.plot(epsilons, all_ed_rmse, 'bo')\n",
    "plt.plot(epsilons, all_ed_rmse, 'b--')\n",
    "plt.xlabel('Epsilon')\n",
    "plt.ylabel('RMSE')  \n",
    "plt.title('Laplace Mechanism for Electoral Division Level Commute')\n",
    "#plt.savefig(\"Laplace Mechanism for Electoral Division Level Commute\")\n"
   ]
  },
  {
   "cell_type": "code",
   "execution_count": 186,
   "metadata": {},
   "outputs": [],
   "source": [
    "#Maximum error \n",
    "all_ed_max_count_difference = []\n",
    "all_ed_max_count_difference_index = []\n",
    "for released_count in range(len(budget)):\n",
    "    max_ed_count_difference = max(abs(all_ed_released_counts[released_count][idx] - ed_sensitive_counts[idx]) for idx in range(len(ed_sensitive_counts)-1))\n",
    "    all_ed_max_count_difference.append(max_ed_count_difference)\n",
    "    ed_max_count_difference_index = [idx for idx in range(len(ed_sensitive_counts)-1) if abs(all_ed_released_counts[released_count][idx] - ed_sensitive_counts[idx]) == max_ed_count_difference]\n",
    "    all_ed_max_count_difference_index.append(ed_max_count_difference_index)\n"
   ]
  },
  {
   "cell_type": "code",
   "execution_count": 187,
   "metadata": {},
   "outputs": [
    {
     "data": {
      "text/plain": [
       "[84, 44, 30, 22, 19, 16, 13, 11, 10, 10]"
      ]
     },
     "execution_count": 187,
     "metadata": {},
     "output_type": "execute_result"
    }
   ],
   "source": [
    "all_ed_max_count_difference\n",
    "#[57, 32, 21, 16, 12, 10, 10, 8, 7, 6]\n",
    "#all_ed_max_count_difference_index\n",
    "# [[7890592],\n",
    "#  [8426434],\n",
    "#  [1638498],\n",
    "#  [573781],\n",
    "#  [691995, 3917674],\n",
    "#  [5692415, 7269616],\n",
    "#  [704791, 4168329, 4707089],\n",
    "#  [5636043],\n",
    "#  [2651429, 6328040],\n",
    "#  [2327384, 2887713, 5594075, 5839875]]"
   ]
  },
  {
   "cell_type": "code",
   "execution_count": 188,
   "metadata": {},
   "outputs": [],
   "source": [
    "all_county_rmse_stability = [5.740630514993751,\n",
    " 2.8543765409959523,\n",
    " 1.8516401995451028,\n",
    " 1.4785719851286827,\n",
    " 1.1121449363491274,\n",
    " 0.9576276370511868,\n",
    " 0.8688145427405203,\n",
    " 0.7298759442598561,\n",
    " 0.637535577754862,\n",
    " 0.6124664948985143]\n",
    "\n",
    "all_ed_rmse_stability = [0.8112421350712523,\n",
    " 0.4290737100962413,\n",
    " 0.30024163249855496,\n",
    " 0.2334712175553153,\n",
    " 0.19252994309004093,\n",
    " 0.16566112263687102,\n",
    " 0.14506605594191427,\n",
    " 0.1290534487593263,\n",
    " 0.11765756586678351,\n",
    " 0.10756658303402995]\n",
    "\n",
    "all_ed_rmse_laplace = [4.004447500736218,\n",
    " 1.9916422676485341,\n",
    " 1.3143374744514225,\n",
    " 0.9692345208476857,\n",
    " 0.7582231225978382,\n",
    " 0.6154841266020571,\n",
    " 0.5108062113973159,\n",
    " 0.43127549739811655,\n",
    " 0.36823690510706764,\n",
    " 0.31644289971986156]\n",
    "\n",
    "all_county_rmse_laplace = [5.454735891535798,\n",
    " 2.8549978793940256,\n",
    " 1.7849380054335928,\n",
    " 1.283124639222163,\n",
    " 1.0707048331725255,\n",
    " 0.8209952187261937,\n",
    " 0.7270110863703116,\n",
    " 0.5876256184028356,\n",
    " 0.5059498661280492,\n",
    " 0.40937449478410615]\n",
    "\n"
   ]
  },
  {
   "cell_type": "code",
   "execution_count": 207,
   "metadata": {},
   "outputs": [
    {
     "data": {
      "image/png": "[encoded data removed]",
      "text/plain": [
       "<Figure size 432x288 with 1 Axes>"
      ]
     },
     "metadata": {
      "needs_background": "light"
     },
     "output_type": "display_data"
    }
   ],
   "source": [
    "plt.plot(epsilons, all_county_rmse_stability, 'mo', label='Stability County Level')\n",
    "plt.plot(epsilons, all_county_rmse_stability, 'm--')\n",
    "\n",
    "plt.plot(epsilons, all_ed_rmse_stability, 'co', label='Stability ED Level')\n",
    "plt.plot(epsilons, all_ed_rmse_stability, 'c--')\n",
    "\n",
    "plt.plot(epsilons, all_county_rmse_laplace, 'ro', label='Laplace County Level')\n",
    "plt.plot(epsilons, all_county_rmse_laplace, 'r--')\n",
    "\n",
    "plt.plot(epsilons, all_ed_rmse_laplace, 'bo', label='Laplace ED Level')\n",
    "plt.plot(epsilons, all_ed_rmse_laplace, 'b--')\n",
    "\n",
    "\n",
    "\n",
    "\n",
    "plt.xlabel('Epsilon')\n",
    "plt.ylabel('RMSE')  \n",
    "plt.title('RMSE for various epsilon')\n",
    "plt.legend(loc=\"upper right\")\n",
    "plt.savefig(\"RMSE for various epsilon\")"
   ]
  },
  {
   "cell_type": "code",
   "execution_count": 190,
   "metadata": {},
   "outputs": [
    {
     "data": {
      "text/plain": [
       "[21.485202312469482,\n",
       " 17.957573175430298,\n",
       " 18.45694899559021,\n",
       " 17.809370040893555,\n",
       " 18.68554186820984,\n",
       " 19.02080488204956,\n",
       " 18.262876987457275,\n",
       " 18.726460218429565,\n",
       " 17.495272159576416,\n",
       " 16.858014822006226]"
      ]
     },
     "execution_count": 190,
     "metadata": {},
     "output_type": "execute_result"
    }
   ],
   "source": [
    "all_ed_elapsed_time\n",
    "# [21.485202312469482,\n",
    "#  17.957573175430298,\n",
    "#  18.45694899559021,\n",
    "#  17.809370040893555,\n",
    "#  18.68554186820984,\n",
    "#  19.02080488204956,\n",
    "#  18.262876987457275,\n",
    "#  18.726460218429565,\n",
    "#  17.495272159576416,\n",
    "#  16.858014822006226]"
   ]
  },
  {
   "cell_type": "code",
   "execution_count": 191,
   "metadata": {},
   "outputs": [
    {
     "data": {
      "text/plain": [
       "18.475806546211242"
      ]
     },
     "execution_count": 191,
     "metadata": {},
     "output_type": "execute_result"
    }
   ],
   "source": [
    "ed_mean_time  = np.mean(all_ed_elapsed_time)\n",
    "ed_mean_time # in seconds \n",
    "#18.475806546211242\n"
   ]
  },
  {
   "cell_type": "code",
   "execution_count": 192,
   "metadata": {},
   "outputs": [
    {
     "data": {
      "image/png": "[encoded data removed]",
      "text/plain": [
       "<Figure size 432x288 with 1 Axes>"
      ]
     },
     "metadata": {
      "needs_background": "light"
     },
     "output_type": "display_data"
    }
   ],
   "source": [
    "plot_histogram(ed_sensitive_counts[100:130], all_ed_released_counts[0][100:130])\n",
    "#plt.savefig(\"Histogram of Counts after Laplace Mechanism for ED\")"
   ]
  },
  {
   "cell_type": "code",
   "execution_count": 193,
   "metadata": {},
   "outputs": [
    {
     "data": {
      "image/png": "[encoded data removed]",
      "text/plain": [
       "<Figure size 432x288 with 1 Axes>"
      ]
     },
     "metadata": {
      "needs_background": "light"
     },
     "output_type": "display_data"
    }
   ],
   "source": [
    "plot_histogram(ed_sensitive_counts[1:30], all_ed_released_counts[0][1:30])\n"
   ]
  },
  {
   "cell_type": "code",
   "execution_count": null,
   "metadata": {},
   "outputs": [],
   "source": []
  },
  {
   "cell_type": "markdown",
   "metadata": {},
   "source": [
    "# Analysis"
   ]
  },
  {
   "cell_type": "code",
   "execution_count": 222,
   "metadata": {},
   "outputs": [],
   "source": [
    "county_stability_dp_df = pd.read_csv(\"/Users/Ava/Library/CloudStorage/OneDrive-Personal/Thesis/Code/county_stability_dp_df.csv\")\n",
    "ed_stability_dp_df = pd.read_csv(\"/Users/Ava/Library/CloudStorage/OneDrive-Personal/Thesis/Code/ed_stability_dp_df.csv\")"
   ]
  },
  {
   "cell_type": "code",
   "execution_count": 223,
   "metadata": {},
   "outputs": [],
   "source": [
    "ordered_county_stability_dp_df= county_stability_dp_df.sort_values(by=['True Count'], ascending=False)\n",
    "county_true_count_list = ordered_county_stability_dp_df['True Count'].to_list()\n",
    "county_epsilon05_list = ordered_county_stability_dp_df['Privacy 0.5'].to_list()"
   ]
  },
  {
   "cell_type": "code",
   "execution_count": 224,
   "metadata": {},
   "outputs": [
    {
     "data": {
      "text/html": [
       "<div>\n",
       "<style scoped>\n",
       "    .dataframe tbody tr th:only-of-type {\n",
       "        vertical-align: middle;\n",
       "    }\n",
       "\n",
       "    .dataframe tbody tr th {\n",
       "        vertical-align: top;\n",
       "    }\n",
       "\n",
       "    .dataframe thead th {\n",
       "        text-align: right;\n",
       "    }\n",
       "</style>\n",
       "<table border=\"1\" class=\"dataframe\">\n",
       "  <thead>\n",
       "    <tr style=\"text-align: right;\">\n",
       "      <th></th>\n",
       "      <th>County Level Commute</th>\n",
       "      <th>True Count</th>\n",
       "      <th>Privacy 0.5</th>\n",
       "      <th>Privacy 1.0</th>\n",
       "      <th>Privacy 1.5</th>\n",
       "      <th>Privacy 2.0</th>\n",
       "      <th>Privacy 2.5</th>\n",
       "      <th>Privacy 3.0</th>\n",
       "      <th>Privacy 3.5</th>\n",
       "      <th>Privacy 4.0</th>\n",
       "      <th>Privacy 4.5</th>\n",
       "      <th>Privacy 5.0</th>\n",
       "    </tr>\n",
       "  </thead>\n",
       "  <tbody>\n",
       "    <tr>\n",
       "      <th>36</th>\n",
       "      <td>Dublin City-Dublin City</td>\n",
       "      <td>218860</td>\n",
       "      <td>218838</td>\n",
       "      <td>218861</td>\n",
       "      <td>218860</td>\n",
       "      <td>218860</td>\n",
       "      <td>218858</td>\n",
       "      <td>218860</td>\n",
       "      <td>218860</td>\n",
       "      <td>218860</td>\n",
       "      <td>218860</td>\n",
       "      <td>218860</td>\n",
       "    </tr>\n",
       "    <tr>\n",
       "      <th>608</th>\n",
       "      <td>Cork County-Cork County</td>\n",
       "      <td>156717</td>\n",
       "      <td>156717</td>\n",
       "      <td>156715</td>\n",
       "      <td>156717</td>\n",
       "      <td>156718</td>\n",
       "      <td>156717</td>\n",
       "      <td>156717</td>\n",
       "      <td>156716</td>\n",
       "      <td>156717</td>\n",
       "      <td>156716</td>\n",
       "      <td>156717</td>\n",
       "    </tr>\n",
       "    <tr>\n",
       "      <th>108</th>\n",
       "      <td>Fingal-Fingal</td>\n",
       "      <td>91167</td>\n",
       "      <td>91165</td>\n",
       "      <td>91168</td>\n",
       "      <td>91168</td>\n",
       "      <td>91167</td>\n",
       "      <td>91166</td>\n",
       "      <td>91167</td>\n",
       "      <td>91167</td>\n",
       "      <td>91167</td>\n",
       "      <td>91167</td>\n",
       "      <td>91167</td>\n",
       "    </tr>\n",
       "    <tr>\n",
       "      <th>680</th>\n",
       "      <td>Limerick City and County-Limerick City and County</td>\n",
       "      <td>85643</td>\n",
       "      <td>85634</td>\n",
       "      <td>85649</td>\n",
       "      <td>85641</td>\n",
       "      <td>85643</td>\n",
       "      <td>85642</td>\n",
       "      <td>85642</td>\n",
       "      <td>85644</td>\n",
       "      <td>85643</td>\n",
       "      <td>85643</td>\n",
       "      <td>85643</td>\n",
       "    </tr>\n",
       "    <tr>\n",
       "      <th>72</th>\n",
       "      <td>South Dublin-South Dublin</td>\n",
       "      <td>80723</td>\n",
       "      <td>80726</td>\n",
       "      <td>80726</td>\n",
       "      <td>80724</td>\n",
       "      <td>80723</td>\n",
       "      <td>80723</td>\n",
       "      <td>80723</td>\n",
       "      <td>80725</td>\n",
       "      <td>80723</td>\n",
       "      <td>80723</td>\n",
       "      <td>80724</td>\n",
       "    </tr>\n",
       "    <tr>\n",
       "      <th>...</th>\n",
       "      <td>...</td>\n",
       "      <td>...</td>\n",
       "      <td>...</td>\n",
       "      <td>...</td>\n",
       "      <td>...</td>\n",
       "      <td>...</td>\n",
       "      <td>...</td>\n",
       "      <td>...</td>\n",
       "      <td>...</td>\n",
       "      <td>...</td>\n",
       "      <td>...</td>\n",
       "      <td>...</td>\n",
       "    </tr>\n",
       "    <tr>\n",
       "      <th>734</th>\n",
       "      <td>Tipperary-Leitrim</td>\n",
       "      <td>0</td>\n",
       "      <td>0</td>\n",
       "      <td>0</td>\n",
       "      <td>0</td>\n",
       "      <td>0</td>\n",
       "      <td>0</td>\n",
       "      <td>0</td>\n",
       "      <td>0</td>\n",
       "      <td>0</td>\n",
       "      <td>0</td>\n",
       "      <td>0</td>\n",
       "    </tr>\n",
       "    <tr>\n",
       "      <th>34</th>\n",
       "      <td>Carlow-Leitrim</td>\n",
       "      <td>0</td>\n",
       "      <td>0</td>\n",
       "      <td>0</td>\n",
       "      <td>0</td>\n",
       "      <td>0</td>\n",
       "      <td>0</td>\n",
       "      <td>0</td>\n",
       "      <td>0</td>\n",
       "      <td>0</td>\n",
       "      <td>0</td>\n",
       "      <td>0</td>\n",
       "    </tr>\n",
       "    <tr>\n",
       "      <th>769</th>\n",
       "      <td>Waterford City and County-Leitrim</td>\n",
       "      <td>0</td>\n",
       "      <td>0</td>\n",
       "      <td>0</td>\n",
       "      <td>0</td>\n",
       "      <td>0</td>\n",
       "      <td>0</td>\n",
       "      <td>0</td>\n",
       "      <td>0</td>\n",
       "      <td>0</td>\n",
       "      <td>0</td>\n",
       "      <td>0</td>\n",
       "    </tr>\n",
       "    <tr>\n",
       "      <th>796</th>\n",
       "      <td>Galway City-Monaghan</td>\n",
       "      <td>0</td>\n",
       "      <td>0</td>\n",
       "      <td>0</td>\n",
       "      <td>0</td>\n",
       "      <td>0</td>\n",
       "      <td>0</td>\n",
       "      <td>0</td>\n",
       "      <td>0</td>\n",
       "      <td>0</td>\n",
       "      <td>0</td>\n",
       "      <td>0</td>\n",
       "    </tr>\n",
       "    <tr>\n",
       "      <th>767</th>\n",
       "      <td>Waterford City and County-Longford</td>\n",
       "      <td>0</td>\n",
       "      <td>0</td>\n",
       "      <td>0</td>\n",
       "      <td>0</td>\n",
       "      <td>0</td>\n",
       "      <td>0</td>\n",
       "      <td>0</td>\n",
       "      <td>0</td>\n",
       "      <td>0</td>\n",
       "      <td>0</td>\n",
       "      <td>0</td>\n",
       "    </tr>\n",
       "  </tbody>\n",
       "</table>\n",
       "<p>1085 rows × 12 columns</p>\n",
       "</div>"
      ],
      "text/plain": [
       "                                  County Level Commute  True Count  \\\n",
       "36                             Dublin City-Dublin City      218860   \n",
       "608                            Cork County-Cork County      156717   \n",
       "108                                      Fingal-Fingal       91167   \n",
       "680  Limerick City and County-Limerick City and County       85643   \n",
       "72                           South Dublin-South Dublin       80723   \n",
       "..                                                 ...         ...   \n",
       "734                                  Tipperary-Leitrim           0   \n",
       "34                                      Carlow-Leitrim           0   \n",
       "769                  Waterford City and County-Leitrim           0   \n",
       "796                               Galway City-Monaghan           0   \n",
       "767                 Waterford City and County-Longford           0   \n",
       "\n",
       "     Privacy 0.5  Privacy 1.0  Privacy 1.5  Privacy 2.0  Privacy 2.5  \\\n",
       "36        218838       218861       218860       218860       218858   \n",
       "608       156717       156715       156717       156718       156717   \n",
       "108        91165        91168        91168        91167        91166   \n",
       "680        85634        85649        85641        85643        85642   \n",
       "72         80726        80726        80724        80723        80723   \n",
       "..           ...          ...          ...          ...          ...   \n",
       "734            0            0            0            0            0   \n",
       "34             0            0            0            0            0   \n",
       "769            0            0            0            0            0   \n",
       "796            0            0            0            0            0   \n",
       "767            0            0            0            0            0   \n",
       "\n",
       "     Privacy 3.0  Privacy 3.5  Privacy 4.0  Privacy 4.5  Privacy 5.0  \n",
       "36        218860       218860       218860       218860       218860  \n",
       "608       156717       156716       156717       156716       156717  \n",
       "108        91167        91167        91167        91167        91167  \n",
       "680        85642        85644        85643        85643        85643  \n",
       "72         80723        80725        80723        80723        80724  \n",
       "..           ...          ...          ...          ...          ...  \n",
       "734            0            0            0            0            0  \n",
       "34             0            0            0            0            0  \n",
       "769            0            0            0            0            0  \n",
       "796            0            0            0            0            0  \n",
       "767            0            0            0            0            0  \n",
       "\n",
       "[1085 rows x 12 columns]"
      ]
     },
     "execution_count": 224,
     "metadata": {},
     "output_type": "execute_result"
    }
   ],
   "source": [
    "ordered_county_stability_dp_df"
   ]
  },
  {
   "cell_type": "code",
   "execution_count": 225,
   "metadata": {},
   "outputs": [],
   "source": [
    "def plot_histogram(sensitive_counts, released_counts):\n",
    "    \"\"\"Plot a histogram that compares true data against released data\"\"\"\n",
    "    import matplotlib.pyplot as plt\n",
    "    import matplotlib.ticker as ticker\n",
    "\n",
    "    fig = plt.figure()\n",
    "    ax = fig.add_axes([1,1,1,1])\n",
    "    #plt.ylim([0,20000])\n",
    "    \n",
    "    tick_spacing = 1.\n",
    "    ax.xaxis.set_major_locator(ticker.MultipleLocator(tick_spacing))\n",
    "    #plt.xlim(0,1084)\n",
    "    width = .4\n",
    "\n",
    "    ax.bar(list([x+width for x in range(0, len(sensitive_counts))]), sensitive_counts, width=width, label='True Value')\n",
    "    ax.bar(list([x+2*width for x in range(0, len(released_counts))]), released_counts, width=width, label='DP Value')\n",
    "\n",
    "    ax.legend()\n",
    "    plt.xticks([])  \n",
    "    plt.title('Histogram of Counts after Stability Histogram for County Level Commute')\n",
    "    plt.xlabel('Commute')\n",
    "    plt.ylabel('Count')\n",
    "    #plt.savefig(\"Histogram of Counts after Laplace Mechanism for Commute high\")\n",
    "    plt.show()"
   ]
  },
  {
   "cell_type": "code",
   "execution_count": 226,
   "metadata": {},
   "outputs": [
    {
     "data": {
      "image/png": "[encoded data removed]",
      "text/plain": [
       "<Figure size 432x288 with 1 Axes>"
      ]
     },
     "metadata": {
      "needs_background": "light"
     },
     "output_type": "display_data"
    }
   ],
   "source": [
    "plot_histogram(county_true_count_list[0:20], county_epsilon05_list[0:20])\n"
   ]
  },
  {
   "cell_type": "code",
   "execution_count": 227,
   "metadata": {},
   "outputs": [
    {
     "data": {
      "image/png": "[encoded data removed]",
      "text/plain": [
       "<Figure size 432x288 with 1 Axes>"
      ]
     },
     "metadata": {
      "needs_background": "light"
     },
     "output_type": "display_data"
    }
   ],
   "source": [
    "plot_histogram(county_true_count_list[1075:1085], county_epsilon05_list[1075:1085])"
   ]
  },
  {
   "cell_type": "code",
   "execution_count": 228,
   "metadata": {},
   "outputs": [],
   "source": [
    "def plot_histogram(sensitive_counts, released_counts):\n",
    "    \"\"\"Plot a histogram that compares true data against released data\"\"\"\n",
    "    import matplotlib.pyplot as plt\n",
    "    import matplotlib.ticker as ticker\n",
    "\n",
    "    fig = plt.figure()\n",
    "    ax = fig.add_axes([1,1,1,1])\n",
    "    #plt.ylim([0,20000])\n",
    "    \n",
    "    #plt.xlim(0,1084)\n",
    "    width = .4\n",
    "\n",
    "    plt.bar(list([x+width for x in range(0, len(sensitive_counts))]), sensitive_counts, width=width, label='True Value')\n",
    "    plt.bar(list([x+2*width for x in range(0, len(released_counts))]), released_counts, width=width, label='DP Value')\n",
    "\n",
    "    plt.legend()\n",
    "    plt.xticks([])  \n",
    "    plt.title('Histogram of Counts after Stability Histogram for ED Level Commute')\n",
    "    plt.xlabel('Commute')\n",
    "    plt.ylabel('Count')\n",
    "    plt.show()\n"
   ]
  },
  {
   "cell_type": "code",
   "execution_count": 229,
   "metadata": {},
   "outputs": [],
   "source": [
    "ordered_ed_stability_dp_df = ed_stability_dp_df.sort_values(by=['True Count'], ascending=False)"
   ]
  },
  {
   "cell_type": "code",
   "execution_count": 230,
   "metadata": {},
   "outputs": [
    {
     "data": {
      "text/html": [
       "<div>\n",
       "<style scoped>\n",
       "    .dataframe tbody tr th:only-of-type {\n",
       "        vertical-align: middle;\n",
       "    }\n",
       "\n",
       "    .dataframe tbody tr th {\n",
       "        vertical-align: top;\n",
       "    }\n",
       "\n",
       "    .dataframe thead th {\n",
       "        text-align: right;\n",
       "    }\n",
       "</style>\n",
       "<table border=\"1\" class=\"dataframe\">\n",
       "  <thead>\n",
       "    <tr style=\"text-align: right;\">\n",
       "      <th></th>\n",
       "      <th>ED Level Commute</th>\n",
       "      <th>True Count</th>\n",
       "      <th>Privacy 0.5</th>\n",
       "      <th>Privacy 1.0</th>\n",
       "      <th>Privacy 1.5</th>\n",
       "      <th>Privacy 2.0</th>\n",
       "      <th>Privacy 2.5</th>\n",
       "      <th>Privacy 3.0</th>\n",
       "      <th>Privacy 3.5</th>\n",
       "      <th>Privacy 4.0</th>\n",
       "      <th>Privacy 4.5</th>\n",
       "      <th>Privacy 5.0</th>\n",
       "    </tr>\n",
       "  </thead>\n",
       "  <tbody>\n",
       "    <tr>\n",
       "      <th>2232509</th>\n",
       "      <td>Navan Rural-Navan Rural</td>\n",
       "      <td>5871</td>\n",
       "      <td>5863</td>\n",
       "      <td>5871</td>\n",
       "      <td>5873</td>\n",
       "      <td>5872</td>\n",
       "      <td>5869</td>\n",
       "      <td>5870</td>\n",
       "      <td>5871</td>\n",
       "      <td>5871</td>\n",
       "      <td>5871</td>\n",
       "      <td>5871</td>\n",
       "    </tr>\n",
       "    <tr>\n",
       "      <th>760350</th>\n",
       "      <td>Blanchardstown-Blakestown-Blanchardstown-Blake...</td>\n",
       "      <td>5768</td>\n",
       "      <td>5774</td>\n",
       "      <td>5766</td>\n",
       "      <td>5766</td>\n",
       "      <td>5769</td>\n",
       "      <td>5768</td>\n",
       "      <td>5768</td>\n",
       "      <td>5768</td>\n",
       "      <td>5769</td>\n",
       "      <td>5768</td>\n",
       "      <td>5768</td>\n",
       "    </tr>\n",
       "    <tr>\n",
       "      <th>1052065</th>\n",
       "      <td>Naas Urban-Naas Urban</td>\n",
       "      <td>5594</td>\n",
       "      <td>5596</td>\n",
       "      <td>5590</td>\n",
       "      <td>5592</td>\n",
       "      <td>5593</td>\n",
       "      <td>5594</td>\n",
       "      <td>5595</td>\n",
       "      <td>5594</td>\n",
       "      <td>5594</td>\n",
       "      <td>5594</td>\n",
       "      <td>5594</td>\n",
       "    </tr>\n",
       "    <tr>\n",
       "      <th>1146698</th>\n",
       "      <td>Maynooth-Maynooth</td>\n",
       "      <td>4477</td>\n",
       "      <td>4464</td>\n",
       "      <td>4477</td>\n",
       "      <td>4477</td>\n",
       "      <td>4474</td>\n",
       "      <td>4479</td>\n",
       "      <td>4478</td>\n",
       "      <td>4476</td>\n",
       "      <td>4477</td>\n",
       "      <td>4476</td>\n",
       "      <td>4477</td>\n",
       "    </tr>\n",
       "    <tr>\n",
       "      <th>3398546</th>\n",
       "      <td>Clenagh-Clenagh</td>\n",
       "      <td>4459</td>\n",
       "      <td>4456</td>\n",
       "      <td>4461</td>\n",
       "      <td>4460</td>\n",
       "      <td>4459</td>\n",
       "      <td>4461</td>\n",
       "      <td>4459</td>\n",
       "      <td>4460</td>\n",
       "      <td>4459</td>\n",
       "      <td>4458</td>\n",
       "      <td>4458</td>\n",
       "    </tr>\n",
       "    <tr>\n",
       "      <th>...</th>\n",
       "      <td>...</td>\n",
       "      <td>...</td>\n",
       "      <td>...</td>\n",
       "      <td>...</td>\n",
       "      <td>...</td>\n",
       "      <td>...</td>\n",
       "      <td>...</td>\n",
       "      <td>...</td>\n",
       "      <td>...</td>\n",
       "      <td>...</td>\n",
       "      <td>...</td>\n",
       "      <td>...</td>\n",
       "    </tr>\n",
       "    <tr>\n",
       "      <th>3020442</th>\n",
       "      <td>Fethard-Foxrock-Torquay</td>\n",
       "      <td>0</td>\n",
       "      <td>0</td>\n",
       "      <td>0</td>\n",
       "      <td>0</td>\n",
       "      <td>0</td>\n",
       "      <td>0</td>\n",
       "      <td>0</td>\n",
       "      <td>0</td>\n",
       "      <td>0</td>\n",
       "      <td>0</td>\n",
       "      <td>0</td>\n",
       "    </tr>\n",
       "    <tr>\n",
       "      <th>3020441</th>\n",
       "      <td>Fethard-Ballinteer-Marley</td>\n",
       "      <td>0</td>\n",
       "      <td>0</td>\n",
       "      <td>0</td>\n",
       "      <td>0</td>\n",
       "      <td>0</td>\n",
       "      <td>0</td>\n",
       "      <td>0</td>\n",
       "      <td>0</td>\n",
       "      <td>0</td>\n",
       "      <td>0</td>\n",
       "      <td>0</td>\n",
       "    </tr>\n",
       "    <tr>\n",
       "      <th>3020440</th>\n",
       "      <td>Fethard-Castlebar Rural</td>\n",
       "      <td>0</td>\n",
       "      <td>0</td>\n",
       "      <td>0</td>\n",
       "      <td>0</td>\n",
       "      <td>0</td>\n",
       "      <td>0</td>\n",
       "      <td>0</td>\n",
       "      <td>0</td>\n",
       "      <td>0</td>\n",
       "      <td>0</td>\n",
       "      <td>0</td>\n",
       "    </tr>\n",
       "    <tr>\n",
       "      <th>3020439</th>\n",
       "      <td>Fethard-Shantalla</td>\n",
       "      <td>0</td>\n",
       "      <td>0</td>\n",
       "      <td>0</td>\n",
       "      <td>0</td>\n",
       "      <td>0</td>\n",
       "      <td>0</td>\n",
       "      <td>0</td>\n",
       "      <td>0</td>\n",
       "      <td>0</td>\n",
       "      <td>0</td>\n",
       "      <td>0</td>\n",
       "    </tr>\n",
       "    <tr>\n",
       "      <th>4349829</th>\n",
       "      <td>Greenane-Carlow Urban</td>\n",
       "      <td>0</td>\n",
       "      <td>0</td>\n",
       "      <td>0</td>\n",
       "      <td>0</td>\n",
       "      <td>0</td>\n",
       "      <td>0</td>\n",
       "      <td>0</td>\n",
       "      <td>0</td>\n",
       "      <td>0</td>\n",
       "      <td>0</td>\n",
       "      <td>0</td>\n",
       "    </tr>\n",
       "  </tbody>\n",
       "</table>\n",
       "<p>8699658 rows × 12 columns</p>\n",
       "</div>"
      ],
      "text/plain": [
       "                                          ED Level Commute  True Count  \\\n",
       "2232509                            Navan Rural-Navan Rural        5871   \n",
       "760350   Blanchardstown-Blakestown-Blanchardstown-Blake...        5768   \n",
       "1052065                              Naas Urban-Naas Urban        5594   \n",
       "1146698                                  Maynooth-Maynooth        4477   \n",
       "3398546                                    Clenagh-Clenagh        4459   \n",
       "...                                                    ...         ...   \n",
       "3020442                            Fethard-Foxrock-Torquay           0   \n",
       "3020441                          Fethard-Ballinteer-Marley           0   \n",
       "3020440                            Fethard-Castlebar Rural           0   \n",
       "3020439                                  Fethard-Shantalla           0   \n",
       "4349829                              Greenane-Carlow Urban           0   \n",
       "\n",
       "         Privacy 0.5  Privacy 1.0  Privacy 1.5  Privacy 2.0  Privacy 2.5  \\\n",
       "2232509         5863         5871         5873         5872         5869   \n",
       "760350          5774         5766         5766         5769         5768   \n",
       "1052065         5596         5590         5592         5593         5594   \n",
       "1146698         4464         4477         4477         4474         4479   \n",
       "3398546         4456         4461         4460         4459         4461   \n",
       "...              ...          ...          ...          ...          ...   \n",
       "3020442            0            0            0            0            0   \n",
       "3020441            0            0            0            0            0   \n",
       "3020440            0            0            0            0            0   \n",
       "3020439            0            0            0            0            0   \n",
       "4349829            0            0            0            0            0   \n",
       "\n",
       "         Privacy 3.0  Privacy 3.5  Privacy 4.0  Privacy 4.5  Privacy 5.0  \n",
       "2232509         5870         5871         5871         5871         5871  \n",
       "760350          5768         5768         5769         5768         5768  \n",
       "1052065         5595         5594         5594         5594         5594  \n",
       "1146698         4478         4476         4477         4476         4477  \n",
       "3398546         4459         4460         4459         4458         4458  \n",
       "...              ...          ...          ...          ...          ...  \n",
       "3020442            0            0            0            0            0  \n",
       "3020441            0            0            0            0            0  \n",
       "3020440            0            0            0            0            0  \n",
       "3020439            0            0            0            0            0  \n",
       "4349829            0            0            0            0            0  \n",
       "\n",
       "[8699658 rows x 12 columns]"
      ]
     },
     "execution_count": 230,
     "metadata": {},
     "output_type": "execute_result"
    }
   ],
   "source": [
    "ordered_ed_stability_dp_df"
   ]
  },
  {
   "cell_type": "code",
   "execution_count": 243,
   "metadata": {},
   "outputs": [],
   "source": [
    "ed_true_count_list = ordered_ed_stability_dp_df['True Count'].to_list()\n",
    "ed_epsilon05_list = ordered_ed_stability_dp_df['Privacy 0.5'].to_list()\n",
    "ed_epsilon25_list = ordered_ed_stability_dp_df['Privacy 2.5'].to_list()"
   ]
  },
  {
   "cell_type": "code",
   "execution_count": 242,
   "metadata": {},
   "outputs": [
    {
     "data": {
      "image/png": "[encoded data removed]",
      "text/plain": [
       "<Figure size 432x288 with 1 Axes>"
      ]
     },
     "metadata": {
      "needs_background": "light"
     },
     "output_type": "display_data"
    }
   ],
   "source": [
    "plot_histogram(ed_true_count_list[6970:7010], ed_epsilon05_list[6970:7010])\n"
   ]
  },
  {
   "cell_type": "code",
   "execution_count": 244,
   "metadata": {},
   "outputs": [
    {
     "data": {
      "image/png": "[encoded data removed]",
      "text/plain": [
       "<Figure size 432x288 with 1 Axes>"
      ]
     },
     "metadata": {
      "needs_background": "light"
     },
     "output_type": "display_data"
    }
   ],
   "source": [
    "plot_histogram(ed_true_count_list[6970:7010], ed_epsilon25_list[6970:7010])"
   ]
  },
  {
   "cell_type": "code",
   "execution_count": 233,
   "metadata": {},
   "outputs": [
    {
     "data": {
      "image/png": "[encoded data removed]",
      "text/plain": [
       "<Figure size 432x288 with 1 Axes>"
      ]
     },
     "metadata": {
      "needs_background": "light"
     },
     "output_type": "display_data"
    }
   ],
   "source": [
    "plot_histogram(ed_true_count_list[8699638:8699658], ed_epsilon05_list[8699638:8699658])\n"
   ]
  },
  {
   "cell_type": "code",
   "execution_count": 235,
   "metadata": {},
   "outputs": [
    {
     "data": {
      "text/plain": [
       "8692648"
      ]
     },
     "execution_count": 235,
     "metadata": {},
     "output_type": "execute_result"
    }
   ],
   "source": [
    "#Number of non zero commutes for privacy budget 0.5\n",
    "len(ed_epsilon05_list) - ed_epsilon05_list.count(0)"
   ]
  },
  {
   "cell_type": "code",
   "execution_count": 245,
   "metadata": {},
   "outputs": [
    {
     "data": {
      "text/plain": [
       "35954"
      ]
     },
     "execution_count": 245,
     "metadata": {},
     "output_type": "execute_result"
    }
   ],
   "source": [
    "#Number of non zero commutes for privacy budget 2.5\n",
    "len(ed_epsilon05_list) - ed_epsilon25_list.count(0)"
   ]
  },
  {
   "cell_type": "code",
   "execution_count": 237,
   "metadata": {},
   "outputs": [
    {
     "data": {
      "text/plain": [
       "7010"
      ]
     },
     "execution_count": 237,
     "metadata": {},
     "output_type": "execute_result"
    }
   ],
   "source": [
    "8699658 - 8692648"
   ]
  },
  {
   "cell_type": "code",
   "execution_count": null,
   "metadata": {},
   "outputs": [],
   "source": [
    "ed_epsilon05_list.count(0)"
   ]
  },
  {
   "cell_type": "code",
   "execution_count": 247,
   "metadata": {},
   "outputs": [
    {
     "data": {
      "text/html": [
       "<div>\n",
       "<style scoped>\n",
       "    .dataframe tbody tr th:only-of-type {\n",
       "        vertical-align: middle;\n",
       "    }\n",
       "\n",
       "    .dataframe tbody tr th {\n",
       "        vertical-align: top;\n",
       "    }\n",
       "\n",
       "    .dataframe thead th {\n",
       "        text-align: right;\n",
       "    }\n",
       "</style>\n",
       "<table border=\"1\" class=\"dataframe\">\n",
       "  <thead>\n",
       "    <tr style=\"text-align: right;\">\n",
       "      <th></th>\n",
       "      <th>ED Level Commute</th>\n",
       "      <th>True Count</th>\n",
       "      <th>Privacy 0.5</th>\n",
       "      <th>Privacy 1.0</th>\n",
       "      <th>Privacy 1.5</th>\n",
       "      <th>Privacy 2.0</th>\n",
       "      <th>Privacy 2.5</th>\n",
       "      <th>Privacy 3.0</th>\n",
       "      <th>Privacy 3.5</th>\n",
       "      <th>Privacy 4.0</th>\n",
       "      <th>Privacy 4.5</th>\n",
       "      <th>Privacy 5.0</th>\n",
       "    </tr>\n",
       "  </thead>\n",
       "  <tbody>\n",
       "    <tr>\n",
       "      <th>2232509</th>\n",
       "      <td>Navan Rural-Navan Rural</td>\n",
       "      <td>5871</td>\n",
       "      <td>5863</td>\n",
       "      <td>5871</td>\n",
       "      <td>5873</td>\n",
       "      <td>5872</td>\n",
       "      <td>5869</td>\n",
       "      <td>5870</td>\n",
       "      <td>5871</td>\n",
       "      <td>5871</td>\n",
       "      <td>5871</td>\n",
       "      <td>5871</td>\n",
       "    </tr>\n",
       "    <tr>\n",
       "      <th>760350</th>\n",
       "      <td>Blanchardstown-Blakestown-Blanchardstown-Blake...</td>\n",
       "      <td>5768</td>\n",
       "      <td>5774</td>\n",
       "      <td>5766</td>\n",
       "      <td>5766</td>\n",
       "      <td>5769</td>\n",
       "      <td>5768</td>\n",
       "      <td>5768</td>\n",
       "      <td>5768</td>\n",
       "      <td>5769</td>\n",
       "      <td>5768</td>\n",
       "      <td>5768</td>\n",
       "    </tr>\n",
       "    <tr>\n",
       "      <th>1052065</th>\n",
       "      <td>Naas Urban-Naas Urban</td>\n",
       "      <td>5594</td>\n",
       "      <td>5596</td>\n",
       "      <td>5590</td>\n",
       "      <td>5592</td>\n",
       "      <td>5593</td>\n",
       "      <td>5594</td>\n",
       "      <td>5595</td>\n",
       "      <td>5594</td>\n",
       "      <td>5594</td>\n",
       "      <td>5594</td>\n",
       "      <td>5594</td>\n",
       "    </tr>\n",
       "    <tr>\n",
       "      <th>1146698</th>\n",
       "      <td>Maynooth-Maynooth</td>\n",
       "      <td>4477</td>\n",
       "      <td>4464</td>\n",
       "      <td>4477</td>\n",
       "      <td>4477</td>\n",
       "      <td>4474</td>\n",
       "      <td>4479</td>\n",
       "      <td>4478</td>\n",
       "      <td>4476</td>\n",
       "      <td>4477</td>\n",
       "      <td>4476</td>\n",
       "      <td>4477</td>\n",
       "    </tr>\n",
       "    <tr>\n",
       "      <th>3398546</th>\n",
       "      <td>Clenagh-Clenagh</td>\n",
       "      <td>4459</td>\n",
       "      <td>4456</td>\n",
       "      <td>4461</td>\n",
       "      <td>4460</td>\n",
       "      <td>4459</td>\n",
       "      <td>4461</td>\n",
       "      <td>4459</td>\n",
       "      <td>4460</td>\n",
       "      <td>4459</td>\n",
       "      <td>4458</td>\n",
       "      <td>4458</td>\n",
       "    </tr>\n",
       "    <tr>\n",
       "      <th>5380057</th>\n",
       "      <td>Ballycummin-Ballycummin</td>\n",
       "      <td>4144</td>\n",
       "      <td>4142</td>\n",
       "      <td>4144</td>\n",
       "      <td>4140</td>\n",
       "      <td>4145</td>\n",
       "      <td>4145</td>\n",
       "      <td>4145</td>\n",
       "      <td>4144</td>\n",
       "      <td>4144</td>\n",
       "      <td>4144</td>\n",
       "      <td>4145</td>\n",
       "    </tr>\n",
       "    <tr>\n",
       "      <th>4130816</th>\n",
       "      <td>Ballincollig-Ballincollig</td>\n",
       "      <td>3971</td>\n",
       "      <td>3974</td>\n",
       "      <td>3974</td>\n",
       "      <td>3972</td>\n",
       "      <td>3970</td>\n",
       "      <td>3971</td>\n",
       "      <td>3971</td>\n",
       "      <td>3971</td>\n",
       "      <td>3971</td>\n",
       "      <td>3971</td>\n",
       "      <td>3971</td>\n",
       "    </tr>\n",
       "    <tr>\n",
       "      <th>5382491</th>\n",
       "      <td>Ballysimon-Ballysimon</td>\n",
       "      <td>3732</td>\n",
       "      <td>3735</td>\n",
       "      <td>3735</td>\n",
       "      <td>3733</td>\n",
       "      <td>3733</td>\n",
       "      <td>3732</td>\n",
       "      <td>3732</td>\n",
       "      <td>3733</td>\n",
       "      <td>3732</td>\n",
       "      <td>3732</td>\n",
       "      <td>3732</td>\n",
       "    </tr>\n",
       "    <tr>\n",
       "      <th>5149552</th>\n",
       "      <td>Tralee Rural-Tralee Urban</td>\n",
       "      <td>3686</td>\n",
       "      <td>3686</td>\n",
       "      <td>3688</td>\n",
       "      <td>3687</td>\n",
       "      <td>3685</td>\n",
       "      <td>3686</td>\n",
       "      <td>3686</td>\n",
       "      <td>3684</td>\n",
       "      <td>3686</td>\n",
       "      <td>3686</td>\n",
       "      <td>3686</td>\n",
       "    </tr>\n",
       "    <tr>\n",
       "      <th>4150198</th>\n",
       "      <td>Carrigaline-Carrigaline</td>\n",
       "      <td>3420</td>\n",
       "      <td>3420</td>\n",
       "      <td>3422</td>\n",
       "      <td>3423</td>\n",
       "      <td>3418</td>\n",
       "      <td>3422</td>\n",
       "      <td>3420</td>\n",
       "      <td>3421</td>\n",
       "      <td>3420</td>\n",
       "      <td>3420</td>\n",
       "      <td>3420</td>\n",
       "    </tr>\n",
       "    <tr>\n",
       "      <th>2045729</th>\n",
       "      <td>Dundalk Rural-Dundalk Rural</td>\n",
       "      <td>3413</td>\n",
       "      <td>3414</td>\n",
       "      <td>3413</td>\n",
       "      <td>3415</td>\n",
       "      <td>3413</td>\n",
       "      <td>3413</td>\n",
       "      <td>3414</td>\n",
       "      <td>3413</td>\n",
       "      <td>3414</td>\n",
       "      <td>3413</td>\n",
       "      <td>3414</td>\n",
       "    </tr>\n",
       "    <tr>\n",
       "      <th>1129997</th>\n",
       "      <td>Celbridge-Celbridge</td>\n",
       "      <td>3189</td>\n",
       "      <td>3187</td>\n",
       "      <td>3189</td>\n",
       "      <td>3189</td>\n",
       "      <td>3185</td>\n",
       "      <td>3189</td>\n",
       "      <td>3190</td>\n",
       "      <td>3191</td>\n",
       "      <td>3189</td>\n",
       "      <td>3189</td>\n",
       "      <td>3188</td>\n",
       "    </tr>\n",
       "    <tr>\n",
       "      <th>1143914</th>\n",
       "      <td>Leixlip-Leixlip</td>\n",
       "      <td>3147</td>\n",
       "      <td>3139</td>\n",
       "      <td>3144</td>\n",
       "      <td>3156</td>\n",
       "      <td>3148</td>\n",
       "      <td>3148</td>\n",
       "      <td>3149</td>\n",
       "      <td>3147</td>\n",
       "      <td>3146</td>\n",
       "      <td>3147</td>\n",
       "      <td>3147</td>\n",
       "    </tr>\n",
       "    <tr>\n",
       "      <th>1416667</th>\n",
       "      <td>Kilkenny Rural-Kilkenny Rural</td>\n",
       "      <td>3001</td>\n",
       "      <td>3011</td>\n",
       "      <td>3007</td>\n",
       "      <td>2999</td>\n",
       "      <td>3002</td>\n",
       "      <td>3002</td>\n",
       "      <td>3000</td>\n",
       "      <td>3002</td>\n",
       "      <td>3001</td>\n",
       "      <td>3001</td>\n",
       "      <td>3001</td>\n",
       "    </tr>\n",
       "    <tr>\n",
       "      <th>2232166</th>\n",
       "      <td>Navan Rural-Navan Urban</td>\n",
       "      <td>2986</td>\n",
       "      <td>2986</td>\n",
       "      <td>2986</td>\n",
       "      <td>2984</td>\n",
       "      <td>2986</td>\n",
       "      <td>2988</td>\n",
       "      <td>2986</td>\n",
       "      <td>2987</td>\n",
       "      <td>2986</td>\n",
       "      <td>2986</td>\n",
       "      <td>2985</td>\n",
       "    </tr>\n",
       "  </tbody>\n",
       "</table>\n",
       "</div>"
      ],
      "text/plain": [
       "                                          ED Level Commute  True Count  \\\n",
       "2232509                            Navan Rural-Navan Rural        5871   \n",
       "760350   Blanchardstown-Blakestown-Blanchardstown-Blake...        5768   \n",
       "1052065                              Naas Urban-Naas Urban        5594   \n",
       "1146698                                  Maynooth-Maynooth        4477   \n",
       "3398546                                    Clenagh-Clenagh        4459   \n",
       "5380057                            Ballycummin-Ballycummin        4144   \n",
       "4130816                          Ballincollig-Ballincollig        3971   \n",
       "5382491                              Ballysimon-Ballysimon        3732   \n",
       "5149552                          Tralee Rural-Tralee Urban        3686   \n",
       "4150198                            Carrigaline-Carrigaline        3420   \n",
       "2045729                        Dundalk Rural-Dundalk Rural        3413   \n",
       "1129997                                Celbridge-Celbridge        3189   \n",
       "1143914                                    Leixlip-Leixlip        3147   \n",
       "1416667                      Kilkenny Rural-Kilkenny Rural        3001   \n",
       "2232166                            Navan Rural-Navan Urban        2986   \n",
       "\n",
       "         Privacy 0.5  Privacy 1.0  Privacy 1.5  Privacy 2.0  Privacy 2.5  \\\n",
       "2232509         5863         5871         5873         5872         5869   \n",
       "760350          5774         5766         5766         5769         5768   \n",
       "1052065         5596         5590         5592         5593         5594   \n",
       "1146698         4464         4477         4477         4474         4479   \n",
       "3398546         4456         4461         4460         4459         4461   \n",
       "5380057         4142         4144         4140         4145         4145   \n",
       "4130816         3974         3974         3972         3970         3971   \n",
       "5382491         3735         3735         3733         3733         3732   \n",
       "5149552         3686         3688         3687         3685         3686   \n",
       "4150198         3420         3422         3423         3418         3422   \n",
       "2045729         3414         3413         3415         3413         3413   \n",
       "1129997         3187         3189         3189         3185         3189   \n",
       "1143914         3139         3144         3156         3148         3148   \n",
       "1416667         3011         3007         2999         3002         3002   \n",
       "2232166         2986         2986         2984         2986         2988   \n",
       "\n",
       "         Privacy 3.0  Privacy 3.5  Privacy 4.0  Privacy 4.5  Privacy 5.0  \n",
       "2232509         5870         5871         5871         5871         5871  \n",
       "760350          5768         5768         5769         5768         5768  \n",
       "1052065         5595         5594         5594         5594         5594  \n",
       "1146698         4478         4476         4477         4476         4477  \n",
       "3398546         4459         4460         4459         4458         4458  \n",
       "5380057         4145         4144         4144         4144         4145  \n",
       "4130816         3971         3971         3971         3971         3971  \n",
       "5382491         3732         3733         3732         3732         3732  \n",
       "5149552         3686         3684         3686         3686         3686  \n",
       "4150198         3420         3421         3420         3420         3420  \n",
       "2045729         3414         3413         3414         3413         3414  \n",
       "1129997         3190         3191         3189         3189         3188  \n",
       "1143914         3149         3147         3146         3147         3147  \n",
       "1416667         3000         3002         3001         3001         3001  \n",
       "2232166         2986         2987         2986         2986         2985  "
      ]
     },
     "execution_count": 247,
     "metadata": {},
     "output_type": "execute_result"
    }
   ],
   "source": [
    "ed_stability_dp_df.sort_values(by=['True Count'], ascending=False).head(15)"
   ]
  },
  {
   "cell_type": "code",
   "execution_count": null,
   "metadata": {},
   "outputs": [],
   "source": []
  }
 ],
 "metadata": {
  "kernelspec": {
   "display_name": "Python 3",
   "language": "python",
   "name": "python3"
  },
  "language_info": {
   "codemirror_mode": {
    "name": "ipython",
    "version": 3
   },
   "file_extension": ".py",
   "mimetype": "text/x-python",
   "name": "python",
   "nbconvert_exporter": "python",
   "pygments_lexer": "ipython3",
   "version": "3.9.16"
  }
 },
 "nbformat": 4,
 "nbformat_minor": 2
}
