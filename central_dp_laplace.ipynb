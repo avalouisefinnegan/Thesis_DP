{
 "cells": [
  {
   "cell_type": "code",
   "execution_count": 1,
   "metadata": {},
   "outputs": [
    {
     "name": "stderr",
     "output_type": "stream",
     "text": [
      "/Users/Ava/opt/anaconda3/lib/python3.9/site-packages/pandas/core/computation/expressions.py:21: UserWarning: Pandas requires version '2.8.4' or newer of 'numexpr' (version '2.8.1' currently installed).\n",
      "  from pandas.core.computation.check import NUMEXPR_INSTALLED\n",
      "/Users/Ava/opt/anaconda3/lib/python3.9/site-packages/pandas/core/arrays/masked.py:60: UserWarning: Pandas requires version '1.3.6' or newer of 'bottleneck' (version '1.3.4' currently installed).\n",
      "  from pandas.core import (\n"
     ]
    }
   ],
   "source": [
    "import pandas as pd\n",
    "import time\n",
    "import matplotlib.pyplot as plt\n",
    "import numpy as np\n",
    "import opendp.prelude as dp\n",
    "dp.enable_features(\"contrib\")\n",
    "dp.enable_features(\"floating-point\")"
   ]
  },
  {
   "cell_type": "markdown",
   "metadata": {},
   "source": [
    "# County Level"
   ]
  },
  {
   "cell_type": "code",
   "execution_count": 2,
   "metadata": {},
   "outputs": [],
   "source": [
    "agg_county_data_df = pd.read_csv(\"/Users/Ava/Library/CloudStorage/OneDrive-Personal/Thesis/Code/agg_commute_county_level_all.csv\")\n",
    "county_data_df = pd.read_csv(\"/Users/Ava/Library/CloudStorage/OneDrive-Personal/Thesis/Code/commute_county_level_all.csv\")"
   ]
  },
  {
   "cell_type": "code",
   "execution_count": 3,
   "metadata": {},
   "outputs": [
    {
     "data": {
      "text/plain": [
       "1085"
      ]
     },
     "execution_count": 3,
     "metadata": {},
     "output_type": "execute_result"
    }
   ],
   "source": [
    "county_categories = agg_county_data_df['County_commute'].unique()\n",
    "len(county_categories) # MUST TAKE FROM DATA WHERE CATEGORIES CAN HAVE COUNT 0 ie.not where each individual is row"
   ]
  },
  {
   "cell_type": "code",
   "execution_count": 4,
   "metadata": {},
   "outputs": [],
   "source": [
    "col_names = [\"County_commute\",\"County_Origin\",\"County_Destination\"]\n",
    "size = len(county_data_df) #Number of individuals in dataset\n",
    "county_categories = list(county_categories) #Number of possible categories \n"
   ]
  },
  {
   "cell_type": "code",
   "execution_count": 5,
   "metadata": {},
   "outputs": [],
   "source": [
    "with open('commute_county_level_all.csv') as input_data:\n",
    "    county_data = input_data.read()"
   ]
  },
  {
   "cell_type": "code",
   "execution_count": 21,
   "metadata": {},
   "outputs": [],
   "source": [
    "def plot_histogram(sensitive_counts, released_counts):\n",
    "    \"\"\"Plot a histogram that compares true data against released data\"\"\"\n",
    "    import matplotlib.pyplot as plt\n",
    "    import matplotlib.ticker as ticker\n",
    "\n",
    "    fig = plt.figure()\n",
    "    ax = fig.add_axes([1,1,1,1])\n",
    "    #plt.ylim([0,20000])\n",
    "    \n",
    "    tick_spacing = 1.\n",
    "    ax.xaxis.set_major_locator(ticker.MultipleLocator(tick_spacing))\n",
    "    #plt.xlim(0,1084)\n",
    "    width = .4\n",
    "\n",
    "    ax.bar(list([x+width for x in range(0, len(sensitive_counts))]), sensitive_counts, width=width, label='True Value')\n",
    "    ax.bar(list([x+2*width for x in range(0, len(released_counts))]), released_counts, width=width, label='DP Value')\n",
    "\n",
    "    ax.legend()\n",
    "    plt.xticks([])  \n",
    "    plt.title('Histogram of Counts after Laplace Mechanism for County Level Commute')\n",
    "    plt.xlabel('Commute')\n",
    "    plt.ylabel('Count')\n",
    "    plt.show()"
   ]
  },
  {
   "cell_type": "code",
   "execution_count": 22,
   "metadata": {},
   "outputs": [],
   "source": [
    "max_influence = 2\n",
    "budget = np.arange(0.5,5.5, 0.5)"
   ]
  },
  {
   "cell_type": "code",
   "execution_count": 23,
   "metadata": {},
   "outputs": [],
   "source": [
    "#dp.t means this is a transformation. In OpenDP, transformations are used to  preprocess and aggregate data before chaining with a measurement.\n",
    "#In the histogram function, the dataset undergoes a transforrmation in which the number of individuals in each category is counted \n",
    "#The categories in our dataset is the Commute. \n",
    "\n",
    "histogram = (\n",
    "    dp.t.make_split_dataframe(separator=\",\", col_names=col_names) >>\n",
    "    dp.t.make_select_column(key=\"County_commute\", TOA=str) >>\n",
    "    # Compute counts for each of the categories\n",
    "    dp.t.then_count_by_categories(categories=county_categories)\n",
    ")\n",
    "\n",
    "#This is the dataset without differential privacy. \n",
    "county_sensitive_counts = histogram(county_data)\n",
    "\n",
    "\n"
   ]
  },
  {
   "cell_type": "markdown",
   "metadata": {},
   "source": [
    "The scale of the Laplace noise added is determined by the sensiitivty and epsilon. \n",
    "This is run for different values of epsilon.\n",
    "The Laplace mechanism is a measurement (dp.m). In OpenDP, a Measurement is a randomized mapping from datasets to outputs of an arbitrary type. \n",
    "Every output from measurement is a differentially private release. \n",
    "\n",
    "opendp.mod.binary_search_chain(make_chain, d_in, d_out, bounds=None, T=None) https://docs.opendp.org/en/stable/api/python/opendp.mod.html\n",
    "Searches for the numeric parameter to make_chain that results in a computation that most tightly satisfies d_out when datasets differ \n",
    "by at most d_in, then returns the Transformation or Measurement corresponding to said parameter.\n",
    "\n",
    "make_chain (Callable[[float], M]) – a function that takes a number and returns a Transformation or Measurement\n",
    "d_in (Any) – how far apart input datasets can be \n",
    "d_out (Any) – how far apart output datasets or distributions can be"
   ]
  },
  {
   "cell_type": "markdown",
   "metadata": {},
   "source": [
    "https://docs.opendp.org/en/stable/user/measurements/additive-noise-mechanisms.html\n",
    "\n",
    "https://docs.opendp.org/en/stable/api/python/opendp.measurements.html#opendp.measurements.then_laplace\n"
   ]
  },
  {
   "cell_type": "code",
   "execution_count": 24,
   "metadata": {},
   "outputs": [],
   "source": [
    "# empty lists\n",
    "all_county_released_counts = []\n",
    "all_county_elapsed_time = []\n",
    "\n",
    "for epsilon in budget:\n",
    "    #d_in is the sensistivity \n",
    "    #d_out is the privacy budget ie.epsilon\n",
    "    # noisy_histogram = dp.binary_search_chain(\n",
    "    #     lambda s: histogram >> dp.m.then_laplace(scale=s),\n",
    "    #     d_in=max_influence, d_out=epsilon)\n",
    "\n",
    "    noisy_histogram = histogram >> dp.m.then_base_discrete_laplace(scale = max_influence/epsilon)\n",
    "\n",
    "    start_time = time.time()\n",
    "    released_counts = noisy_histogram(county_data)\n",
    "    end_time = time.time()\n",
    "\n",
    "    elapsed_time = end_time - start_time\n",
    "    all_county_elapsed_time.append(elapsed_time)\n",
    "\n",
    "    # Post-processing to ensure non-negative counts\n",
    "    released_counts = [max(count, 0) for count in released_counts]\n",
    "    all_county_released_counts.append(released_counts)"
   ]
  },
  {
   "cell_type": "code",
   "execution_count": 25,
   "metadata": {},
   "outputs": [
    {
     "name": "stdout",
     "output_type": "stream",
     "text": [
      "Commute level counts:\n",
      " [19174, 962, 548, 132, 290, 1251, 1512, 984, 28, 12, 958, 1054, 40, 39, 9, 76, 248, 46, 12, 9, 8, 1978, 6, 1626, 52, 14, 13, 17, 3, 28, 3, 8, 6, 1, 0, 92, 218860, 15302, 22668, 19235, 3056, 41, 71, 1141, 60, 50, 796, 113, 108, 31, 140, 58, 139, 47, 32, 34, 17955, 177, 6548, 62, 369, 53, 142, 26, 518, 35, 31, 32, 33, 8, 84, 44145, 80723, 5199, 12769, 4526, 36, 57, 563, 30, 35, 818, 49, 73, 25, 67, 41, 68, 26, 18, 26, 10631, 61, 2914, 72, 125, 20, 127, 9, 172, 18, 23, 27, 16, 9, 54, 56998, 5941, 91167, 4872, 2236, 22, 29, 3470, 36, 35, 273, 47, 82, 18, 95, 43, 72, 33, 38, 59, 10995, 124, 4410, 36, 1025, 39, 124, 10, 220, 17, 32, 27, 16, 1, 45, 41779, 6154, 2150, 66937, 974, 25, 28, 233, 17, 58, 2979, 54, 62, 12, 72, 25, 84, 26, 15, 16, 6420, 69, 4835, 25, 93, 12, 62, 8, 240, 15, 9, 10, 10, 3, 1701, 18313, 11759, 3645, 3572, 80682, 320, 906, 1285, 973, 57, 1293, 71, 111, 30, 203, 135, 185, 37, 17, 30, 8673, 60, 4465, 120, 87, 21, 336, 27, 176, 34, 37, 41, 27, 4, 1639, 1102, 332, 113, 377, 538, 35730, 569, 51, 37, 1389, 50, 269, 208, 32, 342, 6157, 70, 14, 34, 5, 3943, 15, 3605, 1411, 13, 5, 37, 2, 59, 16, 21, 3, 16, 3, 2955, 2103, 1041, 292, 496, 3857, 1217, 26068, 64, 2058, 44, 123, 98, 110, 27, 356, 178, 178, 27, 14, 7, 3135, 20, 2349, 724, 12, 6, 214, 21, 58, 23, 12, 35, 5, 1, 8, 542, 122, 72, 137, 199, 1, 8, 73, 101, 2, 7, 14, 30, 13, 37, 5, 169, 41, 28, 403, 1450, 16, 1070, 10, 17, 24, 1722, 432, 15, 8, 97, 14496, 10, 192, 35, 4681, 517, 2727, 651, 524, 12, 9, 3359, 7, 20, 26, 30, 29, 9, 41, 19, 79, 12, 14, 160, 4421, 926, 2043, 13, 51461, 842, 65, 0, 91, 3, 17, 15, 16, 2, 65, 16490, 3151, 11321, 1941, 4087, 29, 30, 60233, 222, 22, 101, 48, 60, 28, 87, 39, 136, 48, 17, 1273, 8560, 117, 4620, 59, 6283, 278, 1044, 13, 153, 15, 61, 59, 29, 3, 121, 1394, 529, 232, 295, 2025, 80, 1512, 208, 25898, 10, 19, 47, 29, 17, 383, 91, 323, 199, 9, 43, 2936, 20, 2318, 1333, 16, 16, 3042, 164, 39, 31, 23, 68, 3, 6, 36, 2121, 651, 476, 415, 1321, 17, 99, 1431, 1422, 7, 23, 17, 23, 10, 119, 22, 411, 222, 25, 170, 3222, 31, 2181, 52, 74, 26, 33155, 834, 52, 13, 97, 913, 7, 16, 819, 2040, 424, 276, 1369, 426, 826, 59, 37, 13, 59950, 3083, 142, 80, 28, 227, 2055, 59, 13, 15, 5, 5905, 12, 5041, 95, 24, 9, 41, 1, 98, 7, 16, 2, 7, 1, 965, 10188, 3207, 864, 11839, 1786, 117, 49, 92, 8, 833, 43470, 47, 46, 20, 69, 152, 88, 16, 10, 18, 5535, 37, 4067, 30, 58, 11, 52, 1, 122, 9, 17, 3, 11, 2, 20, 444, 92, 124, 153, 86, 9, 18, 14, 21, 6, 20, 232, 199, 103, 11679, 42, 1042, 705, 35, 9, 4260, 17, 3912, 386, 14, 2, 89, 7, 95, 44958, 28, 3, 18, 2, 9, 294, 64, 99, 72, 38, 16, 4, 12, 2, 7, 9, 46011, 13898, 45, 215, 82, 23, 19, 7, 4, 3477, 9, 1425, 54, 10, 1, 16, 1, 113, 17, 7, 3, 3, 1, 64, 1200, 301, 279, 414, 390, 107, 37, 55, 26, 43, 69, 58794, 156717, 1233, 3171, 1055, 168, 33, 30, 43, 16130, 46, 13869, 644, 67, 14, 92, 9, 345, 150, 33, 11, 20, 9, 19, 432, 69, 62, 136, 90, 12, 4, 13, 10, 6, 10, 1434, 2075, 60963, 2414, 51, 167, 26, 18, 5, 5695, 17, 5308, 58, 8, 3, 28, 3, 91, 91, 22, 6, 3, 1, 25, 674, 152, 154, 239, 136, 38, 28, 24, 32, 22, 38, 773, 2663, 1170, 85643, 110, 323, 118, 28, 8, 6736, 17, 4620, 1729, 16, 7, 55, 9, 115, 3816, 17, 10, 46, 3, 142, 897, 245, 128, 349, 286, 1780, 446, 49, 1016, 53, 31, 987, 1075, 84, 6803, 2521, 264, 254, 17, 11, 6152, 23, 5912, 58770, 11, 9, 153, 27, 66, 996, 30, 5, 11, 0, 113, 566, 116, 66, 230, 112, 1875, 20, 56, 11, 487, 25, 999, 1680, 26, 361, 48982, 64, 21, 10, 3, 3670, 14, 3099, 2100, 20, 4, 24, 2, 75, 15, 12, 0, 8, 0, 9, 343, 54, 41, 97, 50, 8, 2, 10, 18, 3, 8, 43, 20, 12, 207, 8, 34520, 5566, 138, 4, 2339, 10, 1139, 19, 6, 0, 129, 38, 72, 130, 33, 9, 15, 2, 18, 805, 200, 140, 256, 179, 24, 22, 47, 437, 11, 29, 100, 90, 41, 989, 39, 24555, 59489, 1234, 21, 7538, 37, 5962, 273, 34, 9, 1161, 1266, 110, 690, 191, 63, 42, 17, 12, 343, 57, 42, 93, 89, 4, 3, 19, 12, 2, 6, 35, 14, 9, 45, 5, 134, 31, 52, 544, 1367, 148, 1038, 10, 15, 32, 145, 567, 19, 3, 2022, 663, 643, 9298, 25, 719, 139, 76, 267, 150, 8, 10, 19, 24, 2, 20, 42, 35, 21, 405, 15, 2291, 1668, 54239, 17, 5216, 27, 3791, 25, 19, 21, 153, 595, 89, 32, 1356, 30, 80, 35, 24, 670, 118, 111, 179, 188, 9, 12, 39, 268, 4, 13, 26, 18, 17, 139, 8, 809, 1422, 844, 47, 2678, 28, 2155, 41, 15, 6, 4730, 17948, 34, 9, 899, 1147, 36, 1428, 5, 393, 64, 55, 163, 112, 3, 3, 12, 3, 2, 7, 26, 22, 10, 92, 6, 366, 87, 1357, 35, 2381, 39, 1763, 13, 13, 13, 57, 643, 37, 12, 27711, 48, 447, 476, 23, 1407, 237, 516, 266, 289, 8, 2, 2530, 15, 6, 12, 15, 21, 5, 43, 14, 139, 19, 22, 28366, 3031, 493, 2350, 24, 504, 1371, 373, 36, 38, 3, 187, 544, 59, 422, 9, 757, 80, 69, 232, 205, 3, 5, 53, 6, 7, 11, 21, 36, 26, 78, 14, 488, 49, 40, 52, 5781, 5608, 3797, 20, 29, 33, 65, 14, 153, 11, 800, 8, 65544, 166, 16, 887, 68, 203, 216, 162, 21, 3, 324, 7, 38, 8, 8, 8, 6, 36, 14, 96, 5, 12, 1506, 2418, 1112, 1957, 6, 2080, 24074, 38, 2, 38, 2, 81, 11, 87, 4]\n",
      "DP Commute level counts:\n",
      " [19179, 959, 554, 125, 286, 1248, 1516, 984, 35, 10, 958, 1049, 40, 41, 39, 68, 248, 45, 13, 12, 12, 1974, 6, 1621, 51, 11, 7, 23, 4, 32, 4, 9, 3, 7, 7, 94, 218857, 15302, 22667, 19232, 3057, 42, 70, 1136, 56, 46, 795, 122, 109, 18, 140, 66, 140, 51, 31, 34, 17955, 175, 6548, 58, 374, 53, 155, 28, 518, 34, 31, 24, 36, 12, 83, 44143, 80717, 5202, 12773, 4529, 35, 68, 567, 35, 27, 812, 41, 71, 35, 69, 44, 70, 27, 2, 30, 10631, 60, 2917, 68, 118, 19, 126, 17, 172, 15, 19, 28, 20, 11, 54, 57005, 5944, 91167, 4869, 2236, 25, 36, 3465, 38, 37, 267, 40, 82, 20, 90, 35, 68, 33, 37, 58, 10995, 123, 4408, 62, 1022, 41, 129, 15, 221, 12, 37, 26, 14, 0, 47, 41782, 6148, 2153, 66937, 974, 25, 29, 233, 8, 66, 2979, 49, 62, 13, 79, 41, 87, 31, 16, 16, 6421, 70, 4837, 28, 91, 0, 63, 10, 238, 17, 8, 16, 12, 4, 1710, 18318, 11750, 3646, 3577, 80680, 310, 909, 1285, 957, 51, 1305, 79, 117, 31, 203, 139, 189, 37, 18, 23, 8673, 64, 4464, 122, 85, 21, 332, 24, 162, 38, 37, 38, 19, 17, 1638, 1095, 331, 113, 369, 545, 35728, 573, 48, 35, 1391, 50, 270, 201, 31, 341, 6164, 81, 19, 25, 10, 3942, 10, 3596, 1417, 9, 4, 38, 0, 49, 16, 21, 0, 33, 0, 2956, 2104, 1047, 292, 492, 3857, 1216, 26066, 64, 2061, 35, 118, 97, 116, 24, 356, 174, 177, 28, 13, 10, 3135, 14, 2347, 727, 17, 0, 206, 20, 51, 24, 12, 34, 1, 2, 12, 545, 124, 77, 139, 200, 1, 9, 75, 106, 0, 20, 14, 25, 27, 36, 0, 170, 41, 32, 402, 1451, 16, 1073, 13, 15, 26, 1735, 431, 13, 9, 96, 14493, 11, 186, 30, 4680, 512, 2726, 658, 531, 3, 14, 3364, 3, 17, 26, 29, 24, 13, 40, 13, 81, 17, 18, 142, 4431, 924, 2038, 1, 51464, 844, 66, 4, 78, 1, 13, 13, 11, 1, 65, 16495, 3151, 11318, 1942, 4093, 25, 24, 60224, 222, 23, 103, 43, 69, 33, 87, 41, 131, 51, 11, 1272, 8557, 118, 4619, 56, 6282, 277, 1047, 14, 155, 18, 56, 60, 20, 1, 130, 1393, 529, 230, 295, 2025, 70, 1514, 211, 25891, 9, 15, 47, 32, 13, 379, 92, 320, 198, 9, 56, 2935, 18, 2321, 1336, 23, 24, 3043, 159, 33, 29, 25, 70, 5, 9, 36, 2124, 658, 476, 429, 1329, 15, 97, 1432, 1422, 3, 21, 19, 34, 15, 118, 23, 422, 220, 26, 191, 3224, 33, 2178, 58, 75, 31, 33155, 833, 44, 22, 94, 915, 1, 16, 804, 2042, 433, 281, 1366, 430, 824, 53, 37, 19, 59952, 3089, 136, 80, 28, 223, 2056, 63, 11, 14, 19, 5905, 4, 5044, 94, 24, 13, 44, 4, 92, 7, 16, 0, 0, 5, 967, 10183, 3199, 877, 11837, 1797, 113, 54, 88, 9, 832, 43473, 47, 47, 17, 69, 159, 88, 6, 16, 18, 5533, 37, 4064, 30, 57, 15, 57, 1, 113, 4, 15, 0, 2, 3, 27, 447, 88, 127, 156, 87, 12, 17, 15, 19, 4, 19, 222, 199, 108, 11680, 46, 1042, 705, 36, 7, 4269, 11, 3910, 385, 15, 0, 66, 4, 84, 44965, 27, 4, 24, 8, 7, 292, 78, 97, 71, 42, 18, 3, 23, 4, 0, 6, 46009, 13907, 44, 213, 84, 24, 24, 7, 2, 3472, 11, 1428, 58, 9, 0, 20, 1, 109, 17, 7, 15, 3, 0, 62, 1214, 301, 279, 420, 390, 107, 38, 52, 25, 44, 69, 58789, 156715, 1226, 3167, 1061, 173, 37, 31, 45, 16130, 44, 13875, 651, 67, 0, 97, 12, 344, 137, 28, 26, 23, 3, 20, 433, 73, 60, 148, 91, 13, 6, 21, 0, 6, 5, 1435, 2081, 60970, 2408, 53, 171, 33, 16, 2, 5695, 12, 5317, 61, 9, 3, 23, 13, 93, 94, 29, 13, 12, 1, 27, 671, 158, 155, 239, 132, 37, 23, 21, 35, 15, 41, 774, 2675, 1179, 85642, 108, 323, 116, 19, 13, 6737, 21, 4621, 1729, 15, 1, 54, 7, 116, 3815, 22, 17, 46, 3, 141, 893, 245, 131, 345, 286, 1777, 419, 49, 1016, 64, 30, 985, 1085, 83, 6803, 2520, 266, 255, 18, 10, 6153, 21, 5906, 58777, 10, 2, 151, 28, 65, 996, 36, 6, 12, 10, 120, 569, 119, 63, 226, 116, 1879, 30, 60, 8, 489, 30, 998, 1679, 27, 361, 48976, 64, 19, 8, 0, 3668, 18, 3098, 2101, 33, 0, 22, 0, 76, 13, 16, 0, 10, 0, 0, 344, 56, 43, 103, 42, 9, 0, 11, 32, 6, 6, 56, 20, 6, 205, 11, 34520, 5567, 134, 0, 2340, 18, 1140, 22, 10, 4, 127, 50, 72, 132, 31, 15, 15, 0, 18, 803, 200, 143, 250, 184, 22, 24, 51, 436, 17, 27, 88, 90, 39, 979, 41, 24552, 59490, 1227, 12, 7536, 34, 5957, 277, 42, 11, 1159, 1264, 110, 690, 190, 70, 44, 18, 13, 338, 50, 40, 68, 89, 6, 5, 23, 12, 0, 10, 37, 24, 9, 48, 3, 134, 39, 52, 543, 1370, 147, 1038, 8, 14, 33, 147, 563, 19, 1, 2024, 663, 639, 9310, 27, 716, 138, 74, 268, 134, 8, 10, 26, 30, 3, 17, 38, 31, 22, 405, 12, 2291, 1673, 54229, 26, 5222, 28, 3792, 25, 20, 21, 147, 594, 108, 30, 1357, 32, 90, 29, 32, 670, 107, 111, 205, 186, 0, 34, 41, 268, 2, 13, 26, 19, 23, 140, 8, 805, 1423, 848, 55, 2671, 26, 2161, 44, 11, 3, 4729, 17951, 35, 5, 906, 1144, 33, 1428, 6, 399, 63, 62, 159, 117, 3, 0, 0, 8, 0, 5, 34, 20, 9, 91, 5, 368, 93, 1362, 35, 2373, 39, 1758, 9, 17, 16, 53, 644, 33, 14, 27721, 44, 445, 471, 20, 1402, 234, 516, 270, 282, 4, 1, 2548, 23, 8, 11, 13, 6, 1, 42, 13, 143, 17, 26, 28360, 3037, 488, 2354, 26, 518, 1386, 373, 32, 42, 0, 187, 544, 64, 422, 22, 768, 86, 68, 231, 205, 8, 4, 60, 4, 3, 12, 20, 36, 26, 70, 10, 493, 49, 46, 50, 5776, 5610, 3798, 16, 28, 33, 71, 17, 150, 6, 799, 8, 65540, 163, 17, 890, 62, 201, 215, 170, 20, 4, 323, 6, 38, 10, 13, 10, 5, 41, 18, 96, 6, 16, 1505, 2416, 1108, 1960, 18, 2093, 24073, 33, 1, 38, 11, 84, 10, 86, 8]\n",
      "DP estimate for the number of records that were not a member of the category set: 1\n"
     ]
    }
   ],
   "source": [
    "print(\"Commute level counts:\\n\", county_sensitive_counts[:-1])\n",
    "print(\"DP Commute level counts:\\n\", all_county_released_counts[0][:-1])\n",
    "\n",
    "print(\"DP estimate for the number of records that were not a member of the category set:\", released_counts[-1])"
   ]
  },
  {
   "cell_type": "code",
   "execution_count": 88,
   "metadata": {},
   "outputs": [
    {
     "data": {
      "image/png": "[encoded data removed]",
      "text/plain": [
       "<Figure size 432x288 with 1 Axes>"
      ]
     },
     "metadata": {
      "needs_background": "light"
     },
     "output_type": "display_data"
    },
    {
     "data": {
      "text/plain": [
       "<Figure size 432x288 with 0 Axes>"
      ]
     },
     "metadata": {},
     "output_type": "display_data"
    }
   ],
   "source": [
    "plot_histogram(county_sensitive_counts[1:30], all_county_released_counts[0][1:30])\n",
    "plt.savefig(\"Histogram of Counts after Laplace Mechanism\")\n",
    "plt.show()\n"
   ]
  },
  {
   "cell_type": "code",
   "execution_count": 27,
   "metadata": {},
   "outputs": [],
   "source": [
    "def calculate_rmse(predicted_values, actual_values):    \n",
    "    # Calculate the squared differences\n",
    "    squared_diffs = np.square(np.array(predicted_values) - np.array(actual_values))\n",
    "    \n",
    "    # Calculate the mean of squared differences\n",
    "    mean_squared_diff = np.mean(squared_diffs)\n",
    "    \n",
    "    # Take the square root to get RMSE\n",
    "    rmse = np.sqrt(mean_squared_diff)\n",
    "    \n",
    "    return rmse\n"
   ]
  },
  {
   "cell_type": "code",
   "execution_count": 28,
   "metadata": {},
   "outputs": [],
   "source": [
    "all_county_rmse  =[]\n",
    "for released_count in range(len(budget)):\n",
    "    rmse = calculate_rmse(all_county_released_counts[released_count], county_sensitive_counts)\n",
    "    all_county_rmse.append(rmse)\n"
   ]
  },
  {
   "cell_type": "code",
   "execution_count": 29,
   "metadata": {},
   "outputs": [
    {
     "data": {
      "text/plain": [
       "array([0.5, 1. , 1.5, 2. , 2.5, 3. , 3.5, 4. , 4.5, 5. ])"
      ]
     },
     "execution_count": 29,
     "metadata": {},
     "output_type": "execute_result"
    }
   ],
   "source": [
    "all_county_rmse\n",
    "budget"
   ]
  },
  {
   "cell_type": "code",
   "execution_count": 86,
   "metadata": {},
   "outputs": [
    {
     "data": {
      "image/png": "[encoded data removed]",
      "text/plain": [
       "<Figure size 432x288 with 1 Axes>"
      ]
     },
     "metadata": {
      "needs_background": "light"
     },
     "output_type": "display_data"
    }
   ],
   "source": [
    "plt.plot(budget, all_county_rmse, 'bo')\n",
    "plt.plot(budget, all_county_rmse, 'b--')\n",
    "plt.xlabel('Epsilon')\n",
    "plt.ylabel('RMSE')  \n",
    "plt.title('RMSE vs Epsilon for County Level Commute')\n",
    "plt.savefig('RMSE vs Epsilon for County Level Commute')\n",
    "plt.show()\n",
    "\n"
   ]
  },
  {
   "cell_type": "code",
   "execution_count": 31,
   "metadata": {},
   "outputs": [],
   "source": [
    "#Maximum error \n",
    "all_county_max_count_difference = []\n",
    "all_county_max_count_difference_index = []\n",
    "for released_count in range(len(budget)):\n",
    "    max_county_count_difference = max(abs(all_county_released_counts[released_count][idx] - county_sensitive_counts[idx]) for idx in range(len(county_sensitive_counts)))\n",
    "    all_county_max_count_difference.append(max_county_count_difference)\n",
    "    county_max_count_difference_index = [idx for idx in range(len(county_sensitive_counts)) if abs(all_county_released_counts[released_count][idx] - county_sensitive_counts[idx]) == max_county_count_difference]\n",
    "    all_county_max_count_difference_index.append(county_max_count_difference_index)\n"
   ]
  },
  {
   "cell_type": "code",
   "execution_count": 32,
   "metadata": {},
   "outputs": [
    {
     "data": {
      "text/plain": [
       "[[14],\n",
       " [635],\n",
       " [283],\n",
       " [328],\n",
       " [80, 86, 826],\n",
       " [177],\n",
       " [172, 212, 226, 292, 310, 353, 692, 717, 949, 964],\n",
       " [239, 608, 661, 966, 1053],\n",
       " [168, 986],\n",
       " [26,\n",
       "  40,\n",
       "  48,\n",
       "  180,\n",
       "  201,\n",
       "  349,\n",
       "  390,\n",
       "  400,\n",
       "  456,\n",
       "  470,\n",
       "  537,\n",
       "  548,\n",
       "  626,\n",
       "  629,\n",
       "  716,\n",
       "  718,\n",
       "  830,\n",
       "  934,\n",
       "  954,\n",
       "  962,\n",
       "  1060]]"
      ]
     },
     "execution_count": 32,
     "metadata": {},
     "output_type": "execute_result"
    }
   ],
   "source": [
    "all_county_max_count_difference\n",
    "#[28, 14, 8, 7, 6, 6, 4, 3, 3, 3]\n",
    "all_county_max_count_difference_index\n",
    "# [[601],\n",
    "#  [555],\n",
    "#  [194, 522, 572],\n",
    "#  [538],\n",
    "#  [403],\n",
    "#  [215],\n",
    "#  [518, 686],\n",
    "#  [112, 124, 258, 415, 592, 1050],\n",
    "#  [933],\n",
    "#  [716]]"
   ]
  },
  {
   "cell_type": "code",
   "execution_count": 33,
   "metadata": {},
   "outputs": [
    {
     "data": {
      "text/plain": [
       "4.28439610004425"
      ]
     },
     "execution_count": 33,
     "metadata": {},
     "output_type": "execute_result"
    }
   ],
   "source": [
    "county_mean_time  = np.mean(all_county_elapsed_time)\n",
    "county_mean_time # in seconds \n",
    "#5.557075667381286"
   ]
  },
  {
   "cell_type": "code",
   "execution_count": 34,
   "metadata": {},
   "outputs": [
    {
     "data": {
      "text/plain": [
       "[4.133731842041016,\n",
       " 4.319715976715088,\n",
       " 4.25703239440918,\n",
       " 4.283262014389038,\n",
       " 4.771899938583374,\n",
       " 4.219617605209351,\n",
       " 4.225127220153809,\n",
       " 4.2129058837890625,\n",
       " 4.193972110748291,\n",
       " 4.226696014404297]"
      ]
     },
     "execution_count": 34,
     "metadata": {},
     "output_type": "execute_result"
    }
   ],
   "source": [
    "all_county_elapsed_time\n",
    "\n",
    "#[5.961507081985474,\n",
    "#  5.719324111938477,\n",
    "#  5.47859001159668,\n",
    "#  5.477495193481445,\n",
    "#  5.45618200302124,\n",
    "#  5.492994785308838,\n",
    "#  5.506938695907593,\n",
    "#  5.485191106796265,\n",
    "#  5.466466903686523,\n",
    "#  5.526066780090332]"
   ]
  },
  {
   "cell_type": "markdown",
   "metadata": {},
   "source": [
    "# ED Level"
   ]
  },
  {
   "cell_type": "code",
   "execution_count": 39,
   "metadata": {},
   "outputs": [],
   "source": [
    "agg_ed_data_df = pd.read_csv(\"/Users/Ava/Library/CloudStorage/OneDrive-Personal/Thesis/Code/agg_commute_ed_level_all.csv\")\n",
    "ed_data_df = pd.read_csv(\"/Users/Ava/Library/CloudStorage/OneDrive-Personal/Thesis/Code/commute_ed_level_all.csv\")"
   ]
  },
  {
   "cell_type": "code",
   "execution_count": 40,
   "metadata": {},
   "outputs": [
    {
     "data": {
      "text/plain": [
       "8699658"
      ]
     },
     "execution_count": 40,
     "metadata": {},
     "output_type": "execute_result"
    }
   ],
   "source": [
    "ed_categories = agg_ed_data_df['ED_Commute'].unique()\n",
    "len(ed_categories) # MUST TAKE FROM DATA WHERE CATEGORIES CAN HAVE COUNT 0 ie.not where each individual is row"
   ]
  },
  {
   "cell_type": "code",
   "execution_count": 41,
   "metadata": {},
   "outputs": [],
   "source": [
    "col_names = [\"ED_commute\",\"ED_Origin\",\"ED_Destination\"]\n",
    "size = len(ed_data_df) #Number of individuals in dataset\n",
    "ed_categories = list(ed_categories) #Number of possible categories "
   ]
  },
  {
   "cell_type": "code",
   "execution_count": 42,
   "metadata": {},
   "outputs": [],
   "source": [
    "with open('commute_ed_level_all.csv') as input_data:\n",
    "    ed_data = input_data.read()"
   ]
  },
  {
   "cell_type": "code",
   "execution_count": 43,
   "metadata": {},
   "outputs": [
    {
     "data": {
      "text/plain": [
       "10"
      ]
     },
     "execution_count": 43,
     "metadata": {},
     "output_type": "execute_result"
    }
   ],
   "source": [
    "len(budget)"
   ]
  },
  {
   "cell_type": "code",
   "execution_count": 44,
   "metadata": {},
   "outputs": [
    {
     "name": "stdout",
     "output_type": "stream",
     "text": [
      "1.0 Completed.\r"
     ]
    }
   ],
   "source": [
    "histogram = (\n",
    "    dp.t.make_split_dataframe(separator=\",\", col_names=col_names) >>\n",
    "    dp.t.make_select_column(key=\"ED_commute\", TOA=str) >>\n",
    "    # Compute counts for each of the categories\n",
    "    dp.t.then_count_by_categories(categories=ed_categories)\n",
    ")\n",
    "\n",
    "ed_sensitive_counts = histogram(ed_data)\n",
    "\n",
    "# empty dictionary\n",
    "all_ed_released_counts = []\n",
    "all_ed_elapsed_time = []\n",
    "\n",
    "for i, epsilon in enumerate(budget):\n",
    "    #d_in is the sensistivity \n",
    "    #d_out is the privacy budget ie.epsilon\n",
    "    #noisy_histogram = dp.binary_search_chain(\n",
    "    #    lambda s: histogram >> dp.m.then_laplace(scale=s),\n",
    "    #    d_in=max_influence, d_out=epsilon)\n",
    "    \n",
    "    noisy_histogram = histogram >> dp.m.then_base_discrete_laplace(scale = max_influence/epsilon)\n",
    "\n",
    "\n",
    "    start_time = time.time()\n",
    "    released_counts = noisy_histogram(ed_data)\n",
    "    end_time = time.time()\n",
    "\n",
    "    elapsed_time = end_time - start_time\n",
    "    all_ed_elapsed_time.append(elapsed_time)\n",
    "\n",
    "    # Post-processing to ensure non-negative counts\n",
    "    released_counts = [max(count, 0) for count in released_counts]\n",
    "    all_ed_released_counts.append(released_counts)\n",
    "    print(f'{(i+1)/len(budget)} Completed.', end = '\\r')"
   ]
  },
  {
   "cell_type": "code",
   "execution_count": 46,
   "metadata": {},
   "outputs": [],
   "source": [
    "all_ed_rmse  =[]\n",
    "for released_count in range(len(budget)):\n",
    "    rmse = calculate_rmse(all_ed_released_counts[released_count], ed_sensitive_counts)\n",
    "    all_ed_rmse.append(rmse)\n"
   ]
  },
  {
   "cell_type": "code",
   "execution_count": 85,
   "metadata": {},
   "outputs": [
    {
     "data": {
      "image/png": "[encoded data removed]",
      "text/plain": [
       "<Figure size 432x288 with 1 Axes>"
      ]
     },
     "metadata": {
      "needs_background": "light"
     },
     "output_type": "display_data"
    }
   ],
   "source": [
    "plt.plot(budget, all_ed_rmse, 'bo')\n",
    "plt.plot(budget, all_ed_rmse, 'b--')\n",
    "plt.xlabel('Epsilon')\n",
    "plt.ylabel('RMSE')  \n",
    "plt.title('RMSE vs Epsilon for Electoral Division Level Commute')\n",
    "plt.savefig(\"RMSE vs Epsilon for Electoral Division Level Commute\")\n",
    "plt.show()\n"
   ]
  },
  {
   "cell_type": "code",
   "execution_count": 69,
   "metadata": {},
   "outputs": [],
   "source": [
    "all_ed_released_counts\n",
    "np.save('ED_noisy_counts', np.array(all_ed_released_counts))"
   ]
  },
  {
   "cell_type": "code",
   "execution_count": 48,
   "metadata": {},
   "outputs": [],
   "source": [
    "#Maximum error \n",
    "all_ed_max_count_difference = []\n",
    "all_ed_max_count_difference_index = []\n",
    "for released_count in range(len(budget)):\n",
    "    max_ed_count_difference = max(abs(all_ed_released_counts[released_count][idx] - ed_sensitive_counts[idx]) for idx in range(len(ed_sensitive_counts)))\n",
    "    all_ed_max_count_difference.append(max_ed_count_difference)\n",
    "    ed_max_count_difference_index = [idx for idx in range(len(ed_sensitive_counts)) if abs(all_ed_released_counts[released_count][idx] - ed_sensitive_counts[idx]) == max_ed_count_difference]\n",
    "    all_ed_max_count_difference_index.append(ed_max_count_difference_index)\n"
   ]
  },
  {
   "cell_type": "code",
   "execution_count": 61,
   "metadata": {},
   "outputs": [
    {
     "data": {
      "text/plain": [
       "[68, 29, 20, 14, 12, 11, 8, 8, 6, 5]"
      ]
     },
     "execution_count": 61,
     "metadata": {},
     "output_type": "execute_result"
    }
   ],
   "source": [
    "all_ed_max_count_difference\n",
    "#[68, 29, 20, 14, 12, 11, 8, 8, 6, 5]\n",
    "all_ed_max_count_difference_index\n",
    "# [[3995347],\n",
    "#  [2948904, 4902328],\n",
    "#  [5386754, 7856045],\n",
    "#  [1253085, 4099484, 5330020, 5424901, 6083347, 6195908],\n",
    "#  [83990, 6391516],\n",
    "#  [8622047],\n",
    "#  [250244, 2249811, 4384774, 7331521, 7922723, 8190196],\n",
    "#  [1382390],\n",
    "#  [31922,\n",
    "#   251657,\n",
    "#   1957862,\n",
    "#   2134769,\n",
    "#   4618140,\n",
    "#   5806393,\n",
    "#   6155596,\n",
    "#   6558704,\n",
    "#   7955439,\n",
    "#   8031965,\n",
    "#   8047788,\n",
    "#   8331495,\n",
    "#   8549123],\n",
    "#  [191719,\n",
    "#   594059,\n",
    "#   915901,\n",
    "#   1393125,\n",
    "#   1498081,\n",
    "#   1701462,\n",
    "#   1952255,\n",
    "#   2959362,\n",
    "#   2994676,\n",
    "#   3198443,\n",
    "#   3302997,\n",
    "#   3377087,\n",
    "#   3382580,\n",
    "#   3893761,\n",
    "#   4154271,\n",
    "#   4867635,\n",
    "#   4905555,\n",
    "#   5215095,\n",
    "#   5983246,\n",
    "#   6448484,\n",
    "#   6631294,\n",
    "#   6635624,\n",
    "#   6985572,\n",
    "#   7134399,\n",
    "#   7140949,\n",
    "#   7360758,\n",
    "#   7474248,\n",
    "#   8016989,\n",
    "#   8309350,\n",
    "#   8377059,\n",
    "#   8406126]]"
   ]
  },
  {
   "cell_type": "code",
   "execution_count": 83,
   "metadata": {},
   "outputs": [
    {
     "data": {
      "image/png": "[encoded data removed]",
      "text/plain": [
       "<Figure size 432x288 with 1 Axes>"
      ]
     },
     "metadata": {
      "needs_background": "light"
     },
     "output_type": "display_data"
    }
   ],
   "source": [
    "plt.plot(budget, all_county_rmse, 'ro', label='County Level')\n",
    "plt.plot(budget, all_county_rmse, 'r--')\n",
    "\n",
    "plt.plot(budget, all_ed_rmse, 'bo', label='ED Level')\n",
    "plt.plot(budget, all_ed_rmse, 'b--')\n",
    "plt.xlabel('Epsilon')\n",
    "plt.ylabel('RMSE')  \n",
    "plt.title('RMSE vs Epsilon for the Laplace Mechanism')\n",
    "plt.legend(loc=\"upper right\")\n",
    "plt.savefig(\"RMSE vs Epsilon for the Laplace Mechanism\")\n",
    "plt.show()\n",
    "\n"
   ]
  },
  {
   "cell_type": "code",
   "execution_count": 54,
   "metadata": {},
   "outputs": [
    {
     "data": {
      "text/plain": [
       "[338.32745027542114,\n",
       " 326.20035672187805,\n",
       " 339.60717606544495,\n",
       " 335.1741099357605,\n",
       " 319.80569291114807,\n",
       " 328.249862909317,\n",
       " 332.78489780426025,\n",
       " 320.4517800807953,\n",
       " 327.55916690826416,\n",
       " 318.695130109787]"
      ]
     },
     "execution_count": 54,
     "metadata": {},
     "output_type": "execute_result"
    }
   ],
   "source": [
    "all_ed_elapsed_time\n",
    "# [414.3674931526184,|\n",
    "#  332.5656387805939,\n",
    "#  333.07225608825684,\n",
    "#  320.9939818382263,\n",
    "#  320.56924319267273,\n",
    "#  333.8113238811493,\n",
    "#  360.2779760360718,\n",
    "#  332.6513411998749,\n",
    "#  335.4997880458832,\n",
    "#  435.3151710033417]"
   ]
  },
  {
   "cell_type": "code",
   "execution_count": 55,
   "metadata": {},
   "outputs": [
    {
     "data": {
      "text/plain": [
       "328.68556237220764"
      ]
     },
     "execution_count": 55,
     "metadata": {},
     "output_type": "execute_result"
    }
   ],
   "source": [
    "ed_mean_time  = np.mean(all_ed_elapsed_time)\n",
    "ed_mean_time # in seconds \n",
    "#351.9124213218689"
   ]
  },
  {
   "cell_type": "code",
   "execution_count": 90,
   "metadata": {},
   "outputs": [
    {
     "data": {
      "image/png": "[encoded data removed]",
      "text/plain": [
       "<Figure size 432x288 with 1 Axes>"
      ]
     },
     "metadata": {
      "needs_background": "light"
     },
     "output_type": "display_data"
    },
    {
     "data": {
      "text/plain": [
       "<Figure size 432x288 with 0 Axes>"
      ]
     },
     "metadata": {},
     "output_type": "display_data"
    }
   ],
   "source": [
    "plot_histogram(ed_sensitive_counts[50:80], all_ed_released_counts[0][50:80])\n",
    "plt.savefig(\"Histogram of Counts after Laplace Mechanism for ED\")\n",
    "plt.show()"
   ]
  },
  {
   "cell_type": "code",
   "execution_count": 57,
   "metadata": {},
   "outputs": [
    {
     "name": "stdout",
     "output_type": "stream",
     "text": [
      "ban\n",
      "Carlow Urban-Carlow Urban,\n"
     ]
    }
   ],
   "source": [
    "print(ed_data[100:130])"
   ]
  },
  {
   "cell_type": "code",
   "execution_count": 74,
   "metadata": {},
   "outputs": [],
   "source": [
    "label_df = agg_ed_data_df.loc[agg_ed_data_df['ED_Commute'].isin(ed_categories[50:80])]"
   ]
  },
  {
   "cell_type": "code",
   "execution_count": 75,
   "metadata": {},
   "outputs": [
    {
     "data": {
      "text/html": [
       "<div>\n",
       "<style scoped>\n",
       "    .dataframe tbody tr th:only-of-type {\n",
       "        vertical-align: middle;\n",
       "    }\n",
       "\n",
       "    .dataframe tbody tr th {\n",
       "        vertical-align: top;\n",
       "    }\n",
       "\n",
       "    .dataframe thead th {\n",
       "        text-align: right;\n",
       "    }\n",
       "</style>\n",
       "<table border=\"1\" class=\"dataframe\">\n",
       "  <thead>\n",
       "    <tr style=\"text-align: right;\">\n",
       "      <th></th>\n",
       "      <th>ED_Commute</th>\n",
       "      <th>Origin_ED</th>\n",
       "      <th>Destination_ED</th>\n",
       "      <th>EDCommute_Count</th>\n",
       "    </tr>\n",
       "  </thead>\n",
       "  <tbody>\n",
       "    <tr>\n",
       "      <th>50</th>\n",
       "      <td>Carlow Urban-Mansion House B</td>\n",
       "      <td>Carlow Urban</td>\n",
       "      <td>Mansion House B</td>\n",
       "      <td>1.0</td>\n",
       "    </tr>\n",
       "    <tr>\n",
       "      <th>51</th>\n",
       "      <td>Carlow Urban-Merchants Quay B</td>\n",
       "      <td>Carlow Urban</td>\n",
       "      <td>Merchants Quay B</td>\n",
       "      <td>1.0</td>\n",
       "    </tr>\n",
       "    <tr>\n",
       "      <th>52</th>\n",
       "      <td>Carlow Urban-Merchants Quay E</td>\n",
       "      <td>Carlow Urban</td>\n",
       "      <td>Merchants Quay E</td>\n",
       "      <td>2.0</td>\n",
       "    </tr>\n",
       "    <tr>\n",
       "      <th>53</th>\n",
       "      <td>Carlow Urban-Pembroke East E</td>\n",
       "      <td>Carlow Urban</td>\n",
       "      <td>Pembroke East E</td>\n",
       "      <td>1.0</td>\n",
       "    </tr>\n",
       "    <tr>\n",
       "      <th>54</th>\n",
       "      <td>Carlow Urban-Pembroke West A</td>\n",
       "      <td>Carlow Urban</td>\n",
       "      <td>Pembroke West A</td>\n",
       "      <td>1.0</td>\n",
       "    </tr>\n",
       "    <tr>\n",
       "      <th>55</th>\n",
       "      <td>Carlow Urban-Royal Exchange A</td>\n",
       "      <td>Carlow Urban</td>\n",
       "      <td>Royal Exchange A</td>\n",
       "      <td>3.0</td>\n",
       "    </tr>\n",
       "    <tr>\n",
       "      <th>56</th>\n",
       "      <td>Carlow Urban-Royal Exchange B</td>\n",
       "      <td>Carlow Urban</td>\n",
       "      <td>Royal Exchange B</td>\n",
       "      <td>1.0</td>\n",
       "    </tr>\n",
       "    <tr>\n",
       "      <th>57</th>\n",
       "      <td>Carlow Urban-St. Kevin's</td>\n",
       "      <td>Carlow Urban</td>\n",
       "      <td>St. Kevin's</td>\n",
       "      <td>1.0</td>\n",
       "    </tr>\n",
       "    <tr>\n",
       "      <th>58</th>\n",
       "      <td>Carlow Urban-South Dock</td>\n",
       "      <td>Carlow Urban</td>\n",
       "      <td>South Dock</td>\n",
       "      <td>1.0</td>\n",
       "    </tr>\n",
       "    <tr>\n",
       "      <th>59</th>\n",
       "      <td>Carlow Urban-Ushers A</td>\n",
       "      <td>Carlow Urban</td>\n",
       "      <td>Ushers A</td>\n",
       "      <td>1.0</td>\n",
       "    </tr>\n",
       "    <tr>\n",
       "      <th>60</th>\n",
       "      <td>Carlow Urban-Ushers F</td>\n",
       "      <td>Carlow Urban</td>\n",
       "      <td>Ushers F</td>\n",
       "      <td>2.0</td>\n",
       "    </tr>\n",
       "    <tr>\n",
       "      <th>61</th>\n",
       "      <td>Carlow Urban-Wood Quay A</td>\n",
       "      <td>Carlow Urban</td>\n",
       "      <td>Wood Quay A</td>\n",
       "      <td>1.0</td>\n",
       "    </tr>\n",
       "    <tr>\n",
       "      <th>62</th>\n",
       "      <td>Carlow Urban-Clondalkin-Ballymount</td>\n",
       "      <td>Carlow Urban</td>\n",
       "      <td>Clondalkin-Ballymount</td>\n",
       "      <td>1.0</td>\n",
       "    </tr>\n",
       "    <tr>\n",
       "      <th>63</th>\n",
       "      <td>Carlow Urban-Clondalkin-Dunawley</td>\n",
       "      <td>Carlow Urban</td>\n",
       "      <td>Clondalkin-Dunawley</td>\n",
       "      <td>4.0</td>\n",
       "    </tr>\n",
       "    <tr>\n",
       "      <th>64</th>\n",
       "      <td>Carlow Urban-Clondalkin-Moorfield</td>\n",
       "      <td>Carlow Urban</td>\n",
       "      <td>Clondalkin-Moorfield</td>\n",
       "      <td>2.0</td>\n",
       "    </tr>\n",
       "    <tr>\n",
       "      <th>65</th>\n",
       "      <td>Carlow Urban-Lucan-Esker</td>\n",
       "      <td>Carlow Urban</td>\n",
       "      <td>Lucan-Esker</td>\n",
       "      <td>3.0</td>\n",
       "    </tr>\n",
       "    <tr>\n",
       "      <th>66</th>\n",
       "      <td>Carlow Urban-Newcastle</td>\n",
       "      <td>Carlow Urban</td>\n",
       "      <td>Newcastle</td>\n",
       "      <td>5.0</td>\n",
       "    </tr>\n",
       "    <tr>\n",
       "      <th>67</th>\n",
       "      <td>Carlow Urban-Palmerston West</td>\n",
       "      <td>Carlow Urban</td>\n",
       "      <td>Palmerston West</td>\n",
       "      <td>1.0</td>\n",
       "    </tr>\n",
       "    <tr>\n",
       "      <th>68</th>\n",
       "      <td>Carlow Urban-Rathcoole</td>\n",
       "      <td>Carlow Urban</td>\n",
       "      <td>Rathcoole</td>\n",
       "      <td>1.0</td>\n",
       "    </tr>\n",
       "    <tr>\n",
       "      <th>69</th>\n",
       "      <td>Carlow Urban-Tallaght-Fettercairn</td>\n",
       "      <td>Carlow Urban</td>\n",
       "      <td>Tallaght-Fettercairn</td>\n",
       "      <td>4.0</td>\n",
       "    </tr>\n",
       "    <tr>\n",
       "      <th>70</th>\n",
       "      <td>Carlow Urban-Tallaght-Glenview</td>\n",
       "      <td>Carlow Urban</td>\n",
       "      <td>Tallaght-Glenview</td>\n",
       "      <td>1.0</td>\n",
       "    </tr>\n",
       "    <tr>\n",
       "      <th>71</th>\n",
       "      <td>Carlow Urban-Tallaght-Jobstown</td>\n",
       "      <td>Carlow Urban</td>\n",
       "      <td>Tallaght-Jobstown</td>\n",
       "      <td>4.0</td>\n",
       "    </tr>\n",
       "    <tr>\n",
       "      <th>72</th>\n",
       "      <td>Carlow Urban-Tallaght-Kilnamanagh</td>\n",
       "      <td>Carlow Urban</td>\n",
       "      <td>Tallaght-Kilnamanagh</td>\n",
       "      <td>2.0</td>\n",
       "    </tr>\n",
       "    <tr>\n",
       "      <th>73</th>\n",
       "      <td>Carlow Urban-Tallaght-Kingswood</td>\n",
       "      <td>Carlow Urban</td>\n",
       "      <td>Tallaght-Kingswood</td>\n",
       "      <td>4.0</td>\n",
       "    </tr>\n",
       "    <tr>\n",
       "      <th>74</th>\n",
       "      <td>Carlow Urban-Tallaght-Springfield</td>\n",
       "      <td>Carlow Urban</td>\n",
       "      <td>Tallaght-Springfield</td>\n",
       "      <td>5.0</td>\n",
       "    </tr>\n",
       "    <tr>\n",
       "      <th>75</th>\n",
       "      <td>Carlow Urban-Tallaght-Tymon</td>\n",
       "      <td>Carlow Urban</td>\n",
       "      <td>Tallaght-Tymon</td>\n",
       "      <td>3.0</td>\n",
       "    </tr>\n",
       "    <tr>\n",
       "      <th>76</th>\n",
       "      <td>Carlow Urban-Templeogue-Limekiln</td>\n",
       "      <td>Carlow Urban</td>\n",
       "      <td>Templeogue-Limekiln</td>\n",
       "      <td>1.0</td>\n",
       "    </tr>\n",
       "    <tr>\n",
       "      <th>77</th>\n",
       "      <td>Carlow Urban-Blanchardstown-Coolmine</td>\n",
       "      <td>Carlow Urban</td>\n",
       "      <td>Blanchardstown-Coolmine</td>\n",
       "      <td>1.0</td>\n",
       "    </tr>\n",
       "    <tr>\n",
       "      <th>78</th>\n",
       "      <td>Carlow Urban-Sutton</td>\n",
       "      <td>Carlow Urban</td>\n",
       "      <td>Sutton</td>\n",
       "      <td>1.0</td>\n",
       "    </tr>\n",
       "    <tr>\n",
       "      <th>79</th>\n",
       "      <td>Carlow Urban-Swords-Seatown</td>\n",
       "      <td>Carlow Urban</td>\n",
       "      <td>Swords-Seatown</td>\n",
       "      <td>2.0</td>\n",
       "    </tr>\n",
       "  </tbody>\n",
       "</table>\n",
       "</div>"
      ],
      "text/plain": [
       "                              ED_Commute     Origin_ED  \\\n",
       "50          Carlow Urban-Mansion House B  Carlow Urban   \n",
       "51         Carlow Urban-Merchants Quay B  Carlow Urban   \n",
       "52         Carlow Urban-Merchants Quay E  Carlow Urban   \n",
       "53          Carlow Urban-Pembroke East E  Carlow Urban   \n",
       "54          Carlow Urban-Pembroke West A  Carlow Urban   \n",
       "55         Carlow Urban-Royal Exchange A  Carlow Urban   \n",
       "56         Carlow Urban-Royal Exchange B  Carlow Urban   \n",
       "57              Carlow Urban-St. Kevin's  Carlow Urban   \n",
       "58               Carlow Urban-South Dock  Carlow Urban   \n",
       "59                 Carlow Urban-Ushers A  Carlow Urban   \n",
       "60                 Carlow Urban-Ushers F  Carlow Urban   \n",
       "61              Carlow Urban-Wood Quay A  Carlow Urban   \n",
       "62    Carlow Urban-Clondalkin-Ballymount  Carlow Urban   \n",
       "63      Carlow Urban-Clondalkin-Dunawley  Carlow Urban   \n",
       "64     Carlow Urban-Clondalkin-Moorfield  Carlow Urban   \n",
       "65              Carlow Urban-Lucan-Esker  Carlow Urban   \n",
       "66                Carlow Urban-Newcastle  Carlow Urban   \n",
       "67          Carlow Urban-Palmerston West  Carlow Urban   \n",
       "68                Carlow Urban-Rathcoole  Carlow Urban   \n",
       "69     Carlow Urban-Tallaght-Fettercairn  Carlow Urban   \n",
       "70        Carlow Urban-Tallaght-Glenview  Carlow Urban   \n",
       "71        Carlow Urban-Tallaght-Jobstown  Carlow Urban   \n",
       "72     Carlow Urban-Tallaght-Kilnamanagh  Carlow Urban   \n",
       "73       Carlow Urban-Tallaght-Kingswood  Carlow Urban   \n",
       "74     Carlow Urban-Tallaght-Springfield  Carlow Urban   \n",
       "75           Carlow Urban-Tallaght-Tymon  Carlow Urban   \n",
       "76      Carlow Urban-Templeogue-Limekiln  Carlow Urban   \n",
       "77  Carlow Urban-Blanchardstown-Coolmine  Carlow Urban   \n",
       "78                   Carlow Urban-Sutton  Carlow Urban   \n",
       "79           Carlow Urban-Swords-Seatown  Carlow Urban   \n",
       "\n",
       "             Destination_ED  EDCommute_Count  \n",
       "50          Mansion House B              1.0  \n",
       "51         Merchants Quay B              1.0  \n",
       "52         Merchants Quay E              2.0  \n",
       "53          Pembroke East E              1.0  \n",
       "54          Pembroke West A              1.0  \n",
       "55         Royal Exchange A              3.0  \n",
       "56         Royal Exchange B              1.0  \n",
       "57              St. Kevin's              1.0  \n",
       "58               South Dock              1.0  \n",
       "59                 Ushers A              1.0  \n",
       "60                 Ushers F              2.0  \n",
       "61              Wood Quay A              1.0  \n",
       "62    Clondalkin-Ballymount              1.0  \n",
       "63      Clondalkin-Dunawley              4.0  \n",
       "64     Clondalkin-Moorfield              2.0  \n",
       "65              Lucan-Esker              3.0  \n",
       "66                Newcastle              5.0  \n",
       "67          Palmerston West              1.0  \n",
       "68                Rathcoole              1.0  \n",
       "69     Tallaght-Fettercairn              4.0  \n",
       "70        Tallaght-Glenview              1.0  \n",
       "71        Tallaght-Jobstown              4.0  \n",
       "72     Tallaght-Kilnamanagh              2.0  \n",
       "73       Tallaght-Kingswood              4.0  \n",
       "74     Tallaght-Springfield              5.0  \n",
       "75           Tallaght-Tymon              3.0  \n",
       "76      Templeogue-Limekiln              1.0  \n",
       "77  Blanchardstown-Coolmine              1.0  \n",
       "78                   Sutton              1.0  \n",
       "79           Swords-Seatown              2.0  "
      ]
     },
     "execution_count": 75,
     "metadata": {},
     "output_type": "execute_result"
    }
   ],
   "source": [
    "label_df"
   ]
  },
  {
   "cell_type": "code",
   "execution_count": null,
   "metadata": {},
   "outputs": [],
   "source": []
  }
 ],
 "metadata": {
  "kernelspec": {
   "display_name": "Python 3",
   "language": "python",
   "name": "python3"
  },
  "language_info": {
   "codemirror_mode": {
    "name": "ipython",
    "version": 3
   },
   "file_extension": ".py",
   "mimetype": "text/x-python",
   "name": "python",
   "nbconvert_exporter": "python",
   "pygments_lexer": "ipython3",
   "version": "3.9.16"
  }
 },
 "nbformat": 4,
 "nbformat_minor": 2
}
